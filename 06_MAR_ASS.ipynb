{
  "nbformat": 4,
  "nbformat_minor": 0,
  "metadata": {
    "colab": {
      "provenance": [],
      "authorship_tag": "ABX9TyO3kvSusvzCmubtPHPKRO5d",
      "include_colab_link": true
    },
    "kernelspec": {
      "name": "python3",
      "display_name": "Python 3"
    },
    "language_info": {
      "name": "python"
    }
  },
  "cells": [
    {
      "cell_type": "markdown",
      "metadata": {
        "id": "view-in-github",
        "colab_type": "text"
      },
      "source": [
        "<a href=\"https://colab.research.google.com/github/tanishqacodes/DATA-SCIENCE-MASTERS/blob/main/06_MAR_ASS.ipynb\" target=\"_parent\"><img src=\"https://colab.research.google.com/assets/colab-badge.svg\" alt=\"Open In Colab\"/></a>"
      ]
    },
    {
      "cell_type": "markdown",
      "source": [
        "### Q1. What is Statistics?\n",
        "\n",
        "Statistics is the study of collecting, analyzing, and interpreting data using mathematical methods and techniques. It is used in a variety of fields to extract meaningful information from complex data sets, make informed decisions, and establish causation and predictions about future events.\n"
      ],
      "metadata": {
        "id": "bvdv-ZLLsm_V"
      }
    },
    {
      "cell_type": "markdown",
      "source": [
        "### Q2. Define the different types of statistics and give an example of when each type might be used.\n",
        "\n",
        "There are two main types of statistics: \n",
        "* descriptive statistics\n",
        "* inferential statistics.\n",
        "\n",
        "1. **Descriptive Statistics:**\n",
        "  * Summarize and describe the basic features of a data set.\n",
        "  * They provide information about the central tendency, variability, and distribution of the data.\n",
        "  * Descriptive statistics can be useful in identifying patterns and trends in the data, as well as any outliers or unusual observations.\n",
        "  * **Examples:-** central tendency (such as the mean, median, and mode) and measures of variability (such as the range and standard deviation).\n",
        "\n",
        "2. **Inferential Statistics:**\n",
        "    * Inferences and predictions about a population based on a sample of data.  \n",
        "    * They involve testing hypotheses and estimating parameters using sample data. \n",
        "    * Inferential statistics can be useful in generalizing findings from a sample to a larger population, or in testing whether a treatment or intervention has a significant effect. \n",
        "    * **Examples:-** hypothesis testing(t-test,p-test ...), confidence intervals, and regression analysis."
      ],
      "metadata": {
        "id": "nXDBerF_xfyk"
      }
    },
    {
      "cell_type": "markdown",
      "source": [
        "### Q3. What are the different types of data and how do they differ from each other? Provide an example of each type of data.\n",
        "\n",
        "There are four main types of data: \n",
        "* nominal\n",
        "* ordinal\n",
        "* interval\n",
        "* ratio.\n",
        "\n",
        "1. **Nominal Data:**\n",
        "    * Nominal data are categorical data that can be placed into distinct categories but have no order or ranking.\n",
        "    * Often used to identify and classify objects or individuals.\n",
        "    * Examples:- gender, race, and hair color.\n",
        "\n",
        "2. **Ordinal Data:**\n",
        "    * Ordinal data are categorical data that can be placed into distinct categories and have a natural order or ranking. \n",
        "    * Often used to describe rankings or levels of a variable. \n",
        "    * Examples:- letter grades (A, B, C, etc.), education level (high school, college, graduate), and levels of agreement (strongly agree, agree, neutral, disagree, strongly disagree).\n",
        "\n",
        "3. **Interval Data:**\n",
        "    * Interval data are numerical data that have a natural order and a consistent scale, but no true zero point. \n",
        "    * Often used to describe temperature, time, and other measurements that have no absolute zero. \n",
        "    * Examples:- temperature (in Celsius or Fahrenheit), time (in hours or minutes), and standardized test scores.\n",
        "\n",
        "4. **Ratio Data:**\n",
        "    * Ratio data are numerical data that have a natural order, a consistent scale, and a true zero point. \n",
        "    * Often used to describe measurements that have a true zero point, such as height, weight, and income. \n",
        "    * Examples:-height (in centimeters or inches), weight (in pounds or kilograms), and income (in dollars or euros)."
      ],
      "metadata": {
        "id": "1XmvptfFzTx_"
      }
    },
    {
      "cell_type": "markdown",
      "source": [
        "### Q4. Categorise the following datasets with respect to quantitative and qualitative data types:\n",
        "1. Grading in exam: A+, A, B+, B, C+, C, D, E  \n",
        "* **Ordinal**\n",
        "2. Colour of mangoes: yellow, green, orange, red\n",
        "* **Nominal**\n",
        "3. Height data of a class: [178.9, 179, 179.5, 176, 177.2, 178.3, 175.8,...]\n",
        "* **continuous**\n",
        "4. Number of mangoes exported by a farm: [500, 600, 478, 672, ...]\n",
        "* **discrete**"
      ],
      "metadata": {
        "id": "bsOVhQvg19Nb"
      }
    },
    {
      "cell_type": "markdown",
      "source": [
        "### Q5. Explain the concept of levels of measurement and give an example of a variable for each level.\n",
        "* Levels of measurement, also known as scales of measurement, refer to the different ways in which variables can be measured or classified. \n",
        "* There are four main levels of measurement: nominal, ordinal, interval, and ratio.\n",
        "\n",
        "1. **Nominal Level:**\n",
        "    * Nominal level variables are categorical variables that can be placed into distinct categories but have no order or ranking. \n",
        "    * Often used to identify and classify objects or individuals. \n",
        "    * Examples:- gender, race, and type of car.\n",
        "\n",
        "2. **Ordinal Level:**\n",
        "    * Ordinal level variables are categorical variables that can be placed into distinct categories and have a natural order or ranking. \n",
        "    * Often used to describe rankings or levels of a variable. \n",
        "    * Examples: letter grades (A, B, C, etc.), education level (high school, college, graduate), and levels of agreement (strongly agree, agree, neutral, disagree, strongly disagree).\n",
        "\n",
        "3. **Interval Level:**\n",
        "    * Interval level variables are numerical variables that have a natural order and a consistent scale, but no true zero point. \n",
        "    * Often used to describe temperature, time, and other measurements that have no absolute zero. \n",
        "    * Examples: temperature (in Celsius or Fahrenheit), time (in hours or minutes), and standardized test scores.\n",
        "\n",
        "4. **Ratio Level:**\n",
        "    * Ratio level variables are numerical variables that have a natural order, a consistent scale, and a true zero point. \n",
        "    * Often used to describe measurements that have a true zero point, such as height, weight, and income. \n",
        "    * Examples: height (in centimeters or inches), weight (in pounds or kilograms), and income (in dollars or euros)."
      ],
      "metadata": {
        "id": "v7f3TGg52jp_"
      }
    },
    {
      "cell_type": "markdown",
      "source": [
        "### Q6. Why is it important to understand the level of measurement when analyzing data? Provide an example to illustrate your answer.\n",
        "\n",
        " It is important to understand the level of measurement when analyzing data because it determines the type of statistical analysis that can be used and the interpretation of the results. \n",
        " \n",
        "Different levels of measurement require different types of statistical analysis, and using the wrong type of analysis can lead to incorrect conclusions.\n",
        "\n",
        "For example, if we have a nominal variable such as hair color, we cannot perform arithmetic operations on it or calculate meaningful measures of central tendency or variability. We can only calculate frequencies and proportions, and test for associations between this variable and other variables using non-parametric tests such as chi-square. However, if we have a ratio variable such as height, we can perform arithmetic operations such as addition, subtraction, multiplication, and division, and calculate meaningful measures of central tendency such as mean and variability such as standard deviation.\n",
        "\n",
        "Therefore, understanding the level of measurement of a variable is crucial in selecting the appropriate statistical analysis method and correctly interpreting the results of data analysis."
      ],
      "metadata": {
        "id": "WyUvS7-w4i0Y"
      }
    },
    {
      "cell_type": "markdown",
      "source": [
        "### Q7. How nominal data type is different from ordinal data type.\n",
        "\n",
        "Nominal and ordinal data types are both types of categorical data, but they differ in the level of measurement.\n",
        "\n",
        "Nominal data type is a categorical data type that has no inherent order or ranking. Nominal data simply categorizes data into distinct groups or categories. Examples of nominal data include gender, ethnicity, eye color, and types of cars. In nominal data, there is no inherent order or ranking between the categories, and you cannot assign any quantitative meaning or measure of distance between the categories.\n",
        "\n",
        "On the other hand, ordinal data type is a categorical data type that has a natural order or ranking between the categories. Ordinal data places categories in a particular order, based on the degree of some characteristic or attribute that they possess. Examples of ordinal data include letter grades (A, B, C, etc.), rankings, and level of education. In ordinal data, you can assign a quantitative meaning to the order of the categories, such as one category being greater than or less than another category.\n"
      ],
      "metadata": {
        "id": "fxW_-yUi5LYe"
      }
    },
    {
      "cell_type": "markdown",
      "source": [
        "### Q8. Which type of plot can be used to display data in terms of range?\n",
        "Box plot"
      ],
      "metadata": {
        "id": "F8Qy6tGV5dM6"
      }
    },
    {
      "cell_type": "markdown",
      "source": [
        "### Q9. Describe the difference between descriptive and inferential statistics. Give an example of each type of statistics and explain how they are used.\n",
        "\n",
        "Descriptive statistics is used to summarize and describe the main features of a dataset. It involves the calculation of measures of central tendency (such as mean, median, and mode) and measures of variability (such as standard deviation and range) to provide a clear and concise picture of the data. An example of descriptive statistics is calculating the mean and standard deviation of the heights of students in a class.\n",
        "\n",
        "In contrast, inferential statistics is used to make predictions or draw conclusions about a population based on a sample of data. Inferential statistics involves using probability theory to estimate parameters and test hypotheses about the population. It is used to make generalizations about a larger population based on a smaller sample, and to test whether the differences observed between groups or variables are statistically significant or simply due to chance. An example of inferential statistics is conducting a hypothesis test to determine whether the average salary of female employees is significantly different from the average salary of male employees in a company.\n",
        "\n",
        "In summary, descriptive statistics is used to summarize and describe the features of a dataset, while inferential statistics is used to make predictions or draw conclusions about a population based on a sample of data."
      ],
      "metadata": {
        "id": "Ahm9HVAZ5lui"
      }
    },
    {
      "cell_type": "markdown",
      "source": [
        "### Q10. What are some common measures of central tendency and variability used in statistics? Explain how each measure can be used to describe a dataset.\n",
        "\n",
        "Measures of central tendency and variability are two important types of descriptive statistics used to summarize and describe a dataset.\n",
        "\n",
        "1. **Measures of central tendency:**\n",
        "  * Mean: The mean is the sum of all values in a dataset divided by the total number of values. It is the most common measure of central tendency and is used to describe the typical value of a dataset.\n",
        "  \n",
        "  * Median: The median is the middle value in a dataset when the values are arranged in order. It is a robust measure of central tendency and is used to describe the center of a dataset when there are outliers or extreme values.\n",
        "  \n",
        "  * Mode: The mode is the most frequently occurring value in a dataset. It is used to describe the most common value or category in a dataset.\n",
        "\n",
        "2. **Measures of variability:**\n",
        "    * Range: The range is the difference between the largest and smallest values in a dataset. It is used to describe the spread or dispersion of a dataset.\n",
        "\n",
        "    * Variance: The variance is the average of the squared deviations from the mean. It measures the spread of the data around the mean and is used to describe the variability of a dataset.\n",
        "    \n",
        "    * Standard deviation: The standard deviation is the square root of the variance. It is a more commonly used measure of variability than variance because it is in the same units as the original data. It is used to describe the spread or dispersion of a dataset around the mean.\n",
        "\n",
        "These measures of central tendency and variability can be used together to provide a comprehensive description of a dataset. For example, the mean and standard deviation can be used to describe the typical value of a dataset and the amount of variation around the mean. The median and range can be used to describe the center and spread of a dataset when there are outliers or extreme values. The mode can be used to describe the most common value or category in a dataset."
      ],
      "metadata": {
        "id": "VgS3Qqyh6AyX"
      }
    }
  ]
}