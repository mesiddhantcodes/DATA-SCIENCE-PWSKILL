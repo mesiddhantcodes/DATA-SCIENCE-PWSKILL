{
  "nbformat": 4,
  "nbformat_minor": 0,
  "metadata": {
    "colab": {
      "provenance": [],
      "authorship_tag": "ABX9TyMpC+0vHxunM2v267KKB8e5",
      "include_colab_link": true
    },
    "kernelspec": {
      "name": "python3",
      "display_name": "Python 3"
    },
    "language_info": {
      "name": "python"
    }
  },
  "cells": [
    {
      "cell_type": "markdown",
      "metadata": {
        "id": "view-in-github",
        "colab_type": "text"
      },
      "source": [
        "<a href=\"https://colab.research.google.com/github/tanishqacodes/DATA-SCIENCE-MASTERS/blob/main/07_MAR_ASS.ipynb\" target=\"_parent\"><img src=\"https://colab.research.google.com/assets/colab-badge.svg\" alt=\"Open In Colab\"/></a>"
      ]
    },
    {
      "cell_type": "markdown",
      "source": [
        "### Q1. What are the three measures of central tendency?\n",
        "The three measures of central tendency are:\n",
        "\n",
        "1. **Mean:** The mean is the arithmetic average of a set of numbers. It is obtained by adding up all the values in the set and then dividing by the total number of values.\n",
        "\n",
        "2. **Median:** The median is the middle value in a set of numbers. To find the median, the numbers in the set are arranged in order from smallest to largest, and the middle value is selected. If there are an even number of values, then the median is the average of the two middle values.\n",
        "\n",
        "3. **Mode:** The mode is the most frequently occurring value in a set of numbers. If there are two or more values that occur with the same frequency, then the set has more than one mode."
      ],
      "metadata": {
        "id": "oyGT3Fkx7c_6"
      }
    },
    {
      "cell_type": "markdown",
      "source": [
        "### Q2. What is the difference between the mean, median, and mode? How are they used to measure the central tendency of a dataset?\n",
        "\n",
        "The mean, median, and mode are different measures of central tendency, and each provides different information about a dataset.\n",
        "\n",
        "The mean is the arithmetic average of a set of numbers. It takes into account all the values in the dataset and is affected by outliers or extreme values. The mean is often used to summarize a dataset with a roughly symmetrical distribution, where most of the values cluster around a central value.\n",
        "\n",
        "The median is the middle value in a set of numbers. It is less affected by outliers than the mean, as it only takes into account the value(s) in the middle of the distribution. The median is often used to summarize a dataset with a skewed distribution, where there are a few extreme values that pull the mean away from the center.\n",
        "\n",
        "The mode is the most frequently occurring value in a set of numbers. It is useful for summarizing a dataset with discrete values, such as the number of people in a household or the number of pets owned by a group of people. The mode is also useful for identifying the most common value(s) in a dataset.\n",
        "\n",
        "To measure the central tendency of a dataset, one or more of these measures can be used depending on the nature of the data and the research question. For example, if a researcher wants to summarize the average income of a population, they would likely use the mean. If they want to summarize the income distribution of the population, they may use the median or mode, depending on the shape of the distribution."
      ],
      "metadata": {
        "id": "STs49BB-70KJ"
      }
    },
    {
      "cell_type": "markdown",
      "source": [
        "### Q3. Measure the three measures of central tendency for the given height data:\n",
        "[178,177,176,177,178.2,178,175,179,180,175,178.9,176.2,177,172.5,178,176.5]\n",
        "1. Mean: \n",
        "(178 + 177 + 176 + 177 + 178.2 + 178 + 175 + 179 + 180 + 175 + 178.9 + 176.2 + 177 + 172.5 + 178 + 176.5) / 16 = 177.4\n",
        "\n",
        "Therefore, the mean height is 177.4.\n",
        "\n",
        "2. Median: \n",
        "172.5, 175, 175, 176, 176.2, 176.5, 177, 177, 178, 178, 178, 178.2, 178.9, 179, 180\n",
        "(177 + 177) / 2 = 177.\n",
        "\n",
        "Therefore, the median height is 177.\n",
        "\n",
        "3. Mode:\n",
        "The value 178 appears most frequently (3 times) in the dataset.\n",
        "\n",
        "Therefore, the mode height is 178."
      ],
      "metadata": {
        "id": "Fje_Pu448Vwm"
      }
    },
    {
      "cell_type": "markdown",
      "source": [
        "### Q4. Find the standard deviation for the given data:\n",
        "[178,177,176,177,178.2,178,175,179,180,175,178.9,176.2,177,172.5,178,176.5]\n",
        "\n",
        "**Standard deviation = sqrt(sum((x - mean)^2) / (n - 1))**\n",
        "\n",
        "* x is each value in the dataset\n",
        "* mean is the mean of the dataset\n",
        "* n is the number of values in the dataset.\n",
        "\n",
        "mean = (178 + 177 + 176 + 177 + 178.2 + 178 + 175 + 179 + 180 + 175 + 178.9 + 176.2 + 177 + 172.5 + 178 + 176.5) / 16\n",
        "mean = 177.4\n",
        "\n",
        "sum of squared deviations from the mean:\n",
        "\n",
        "sum((x - mean)^2) = (178 - 177.4)^2 + (177 - 177.4)^2 + (176 - 177.4)^2 + (177 - 177.4)^2 + (178.2 - 177.4)^2 + (178 - 177.4)^2 + (175 - 177.4)^2 + (179 - 177.4)^2 + (180 - 177.4)^2 + (175 - 177.4)^2 + (178.9 - 177.4)^2 + (176.2 - 177.4)^2 + (177 - 177.4)^2 + (172.5 - 177.4)^2 + (178 - 177.4)^2 + (176.5 - 177.4)^2\n",
        "sum((x - mean)^2) = 383.43\n",
        "\n",
        "**variance = sum((x - mean)^2) / (n - 1)**\n",
        "\n",
        "variance = 383.43 / 15\n",
        "variance = 25.562\n",
        "\n",
        "**standard deviation = sqrt(variance)**\n",
        "\n",
        "standard deviation = sqrt(25.562)\n",
        "\n",
        "standard deviation = 5.056"
      ],
      "metadata": {
        "id": "J62PSC_v8-Su"
      }
    },
    {
      "cell_type": "markdown",
      "source": [
        "### Q5. How are measures of dispersion such as range, variance, and standard deviation used to describe the spread of a dataset? Provide an example.\n",
        "\n",
        "Measures of dispersion such as range, variance, and standard deviation are used to describe the spread or variability of a dataset. They tell us how far apart the values in the dataset are from each other, and how spread out or clustered they are around the mean.\n",
        "\n",
        "The range is the simplest measure of dispersion, and it is the difference between the maximum and minimum values in the dataset. It gives us an idea of how much the data covers, but it does not consider the variability within the dataset.\n",
        "\n",
        "Variance and standard deviation are more commonly used to describe the spread of a dataset. Variance is the average of the squared differences from the mean, while standard deviation is the square root of the variance. Standard deviation is preferred over variance because it is in the same unit as the data, making it easier to interpret.\n",
        "\n",
        "For example, let's say we have two datasets:\n",
        "\n",
        "Dataset A: [5, 6, 7, 8, 9]\n",
        "Dataset B: [1, 5, 6, 10, 11]\n",
        "\n",
        "The range of Dataset A is 4 (9 - 5), while the range of Dataset B is 10 (11 - 1). However, the variance and standard deviation tell a different story. The variance of Dataset A is 2, while the variance of Dataset B is 12.5. The standard deviation of Dataset A is 1.41, while the standard deviation of Dataset B is 3.54.\n",
        "\n",
        "This shows that while the range of Dataset B is larger than that of Dataset A, the values in Dataset B are more spread out and less clustered around the mean. The higher variance and standard deviation of Dataset B reflect this greater variability.\n",
        "\n",
        "In summary, measures of dispersion such as range, variance, and standard deviation help us to understand how much the values in a dataset vary from each other, and how much they cluster around the mean. They complement measures of central tendency and provide a more complete picture of the data."
      ],
      "metadata": {
        "id": "wMEkjDx683KW"
      }
    },
    {
      "cell_type": "markdown",
      "source": [
        "### Q6. What is a Venn diagram?\n",
        "A Venn diagram is a visual tool used to represent the relationships between different sets of data. It uses overlapping circles or ellipses to illustrate the similarities and differences between sets, with each circle representing a group of data and the overlap representing the areas of similarity. Venn diagrams are used in various fields to help visualize complex relationships and identify commonalities and differences. They can be created manually or with specialized software and can represent many types of data."
      ],
      "metadata": {
        "id": "ZN1khfLs-A2q"
      }
    },
    {
      "cell_type": "markdown",
      "source": [
        "### Q7. For the two given sets A = (2,3,4,5,6,7) & B = (0,2,6,8,10). Find:\n",
        "1. A  B (intersection) : [2,6]\n",
        "2. A ⋃ B (union) : [0,2,3,4,5,6,7,8,10]"
      ],
      "metadata": {
        "id": "PRgZGMFq-PW5"
      }
    },
    {
      "cell_type": "markdown",
      "source": [
        "### Q8. What do you understand about skewness in data?\n",
        "\n",
        "Skewness in data refers to the degree of asymmetry in the distribution of data. It can be positive or negative, with the direction determined by the side towards which the tail of the distribution is longer. \n",
        "\n",
        "Skewness can affect the interpretation of data and the accuracy of statistical analyses, and data with extreme skewness may require special attention before analysis. Skewness can be assessed visually or numerically using measures such as skewness coefficient or Kurtosis."
      ],
      "metadata": {
        "id": "FVyw7diN-uDp"
      }
    },
    {
      "cell_type": "markdown",
      "source": [
        "### Q9. If a data is right skewed then what will be the position of median with respect to mean?\n",
        "\n",
        "The median will be closer to the lower end of the data, while the mean will be pulled towards the higher end."
      ],
      "metadata": {
        "id": "0_rAW1x1_IHx"
      }
    },
    {
      "cell_type": "markdown",
      "source": [
        "### Q10. Explain the difference between covariance and correlation. How are these measures used in statistical analysis?\n",
        "\n",
        "Covariance and correlation are both measures of the relationship between two variables, but they differ in their interpretation and scale.\n",
        "\n",
        "Covariance measures the degree to which two variables change together. It is a measure of the direction and strength of the linear relationship between two variables. The covariance can be positive or negative, indicating the direction of the relationship, and its magnitude reflects the strength of the relationship. A positive covariance indicates that as one variable increases, the other variable also tends to increase, while a negative covariance indicates that as one variable increases, the other variable tends to decrease.\n",
        "\n",
        "However, covariance is not a standardized measure, meaning it is difficult to compare the magnitude of covariance between different pairs of variables. Therefore, it is often normalized to obtain the correlation coefficient.\n",
        "\n",
        "Correlation is a standardized measure of the linear relationship between two variables. It ranges between -1 and 1, with a value of 1 indicating a perfect positive correlation (both variables increase together), 0 indicating no correlation, and -1 indicating a perfect negative correlation (one variable decreases as the other increases).\n",
        "\n",
        "Correlation is often preferred over covariance because it is easier to interpret and compare across different pairs of variables, and it is not affected by differences in scale or units of measurement.\n",
        "\n",
        "Both covariance and correlation are used in statistical analysis to study the relationship between variables, and to identify patterns and trends in data. They are also used in regression analysis to model the relationship between variables and to make predictions based on the values of one or more variables. However, correlation is generally preferred over covariance for most statistical analyses."
      ],
      "metadata": {
        "id": "WiE_G3hH_fwd"
      }
    },
    {
      "cell_type": "markdown",
      "source": [
        "### Q11. What is the formula for calculating the sample mean? Provide an example calculation for a dataset.\n",
        "\n",
        "**(Mean)x̄ = (sum of all the data points) / (number of data points)**\n",
        "\n",
        "5, 8, 12, 6, 10\n",
        "\n",
        "5 + 8 + 12 + 6 + 10 = 41\n",
        "\n",
        "41 / 5 = 8.2\n",
        "\n",
        " mean is 8.2."
      ],
      "metadata": {
        "id": "ToyBT4FQ_vcx"
      }
    },
    {
      "cell_type": "markdown",
      "source": [
        "### Q12. For a normal distribution data what is the relationship between its measure of central tendency?\n",
        "\n",
        "For a normal distribution data, the mean, median, and mode are all equal. This means that the data is symmetrical around the central value, and the central tendency is the same regardless of which measure is used. This is a defining characteristic of a normal distribution, which is also known as a bell curve. In a normal distribution, the mean, median, and mode are all located at the peak of the curve, and the data is equally distributed on both sides. This makes the normal distribution particularly useful for statistical analysis and modeling, as it allows for easy interpretation of central tendency and variability."
      ],
      "metadata": {
        "id": "JjlHomOtAJ4-"
      }
    },
    {
      "cell_type": "markdown",
      "source": [
        "### Q13. How is covariance different from correlation?\n",
        "\n",
        "* Covariance is an indicator of the extent to which 2 random variables are dependent on each other. A higher number denotes higher dependency. Whereas Correlation is a statistical measure that indicates how strongly two variables are related.\n",
        "\n",
        "* The value of covariance lies in the range of -∞ and +∞. whereas Correlation is limited to values between the range -1 and +1\n",
        "\n",
        "* Affects covariance whereas covariance Does not affect the correlation.\n",
        "\n",
        "* covariance is unit free whereas correlation has a unit."
      ],
      "metadata": {
        "id": "5dKdK423AdER"
      }
    },
    {
      "cell_type": "markdown",
      "source": [
        "### Q14. How do outliers affect measures of central tendency and dispersion? Provide an example.\n",
        "\n",
        "Outliers can have a significant impact on measures of central tendency and dispersion, as they can skew the data and affect the overall distribution.\n",
        "\n",
        "For measures of central tendency like the mean and median, outliers can have a large impact on the value of the measure. In a dataset with a single outlier that is much larger or smaller than the rest of the data, the mean will be affected more than the median. This is because the mean takes into account the value of every data point, while the median only considers the middle value(s). Therefore, if there is a large outlier, the mean will be pulled in the direction of the outlier, while the median will remain relatively unaffected.\n",
        "\n",
        "For measures of dispersion like the range, variance, and standard deviation, outliers can also have a significant impact. Outliers can increase the range of the data, making it appear more spread out than it actually is. Outliers can also increase the variance and standard deviation, as these measures are based on the distance of each data point from the mean. If there is a large outlier, the distance between the outlier and the mean will be greater than for the other data points, which can increase the variance and standard deviation.\n",
        "\n",
        "For example:\n",
        "\n",
        "2, 3, 4, 5, 6, 7, 8, 9, 10, 100\n",
        "\n",
        "In this dataset, the outlier is the value of 100. If we calculate the mean, median, range, variance, and standard deviation for this dataset, we get:\n",
        "\n",
        "* Mean: 14.4\n",
        "* Median: 6.5\n",
        "* Range: 98\n",
        "* Variance: 957.5\n",
        "* Standard deviation: 30.96\n",
        "\n",
        "As we can see, the mean is much larger than the median, indicating that the outlier is affecting the value of the mean. The range, variance, and standard deviation are also much larger than they would be without the outlier, indicating that the outlier is increasing the spread of the data."
      ],
      "metadata": {
        "id": "8MZbGXHyDOkV"
      }
    }
  ]
}