{
  "nbformat": 4,
  "nbformat_minor": 0,
  "metadata": {
    "colab": {
      "provenance": [],
      "authorship_tag": "ABX9TyOfO2fW/0Mb+fX0kzg6L00d",
      "include_colab_link": true
    },
    "kernelspec": {
      "name": "python3",
      "display_name": "Python 3"
    },
    "language_info": {
      "name": "python"
    }
  },
  "cells": [
    {
      "cell_type": "markdown",
      "metadata": {
        "id": "view-in-github",
        "colab_type": "text"
      },
      "source": [
        "<a href=\"https://colab.research.google.com/github/tanishqacodes/DATA-SCIENCE-MASTERS/blob/main/09_MAR_ASS.ipynb\" target=\"_parent\"><img src=\"https://colab.research.google.com/assets/colab-badge.svg\" alt=\"Open In Colab\"/></a>"
      ]
    },
    {
      "cell_type": "markdown",
      "source": [
        "### Q1: What are the Probability Mass Function (PMF) and Probability Density Function (PDF)? Explain with an example.\n",
        "\n",
        "The **Probability Mass Function (PMF)** and **Probability Density Function (PDF)** are two fundamental concepts in probability theory and statistics. They are used to describe the probability distribution of a random variable, which is a variable that can take on different values with certain probabilities.\n",
        "\n",
        "* The PMF is used to describe the probability distribution of a discrete random variable, which takes on a countable number of values. The PMF assigns a probability to each possible value of the random variable. The sum of all these probabilities is equal to 1.\n",
        "\n",
        "* For example, let's say we are interested in the number of heads we get when flipping a fair coin three times. The possible values of this random variable are 0, 1, 2, or 3. The PMF for this random variable can be calculated as follows:\n",
        "\n",
        "P(X=0) = 1/8\n",
        "P(X=1) = 3/8\n",
        "P(X=2) = 3/8\n",
        "P(X=3) = 1/8\n",
        "\n",
        "Here, X is the random variable that represents the number of heads obtained in three coin flips. The PMF gives us the probability of obtaining each possible value of X.\n",
        "\n",
        "* On the other hand, the PDF is used to describe the probability distribution of a continuous random variable, which can take on any value within a certain range. The PDF assigns a probability density to each possible value of the random variable. The integral of the PDF over its entire range is equal to 1.\n",
        "\n",
        "* For example, let's say we are interested in the height of adult males in a certain population. The possible values of this random variable are continuous and can range from a minimum value to a maximum value. The PDF for this random variable can be calculated as follows:\n",
        "\n",
        "f(x) = 1/(σsqrt(2pi)) * exp(-(x-μ)^2/(2*σ^2))\n",
        "\n",
        "Here, f(x) is the PDF that gives us the probability density of obtaining a height of x, μ is the mean height of the population, σ is the standard deviation of the height distribution, and pi is a mathematical constant. The integral of the PDF over the range of possible heights gives us the probability of obtaining a height within that range."
      ],
      "metadata": {
        "id": "IUlck0LLqLPc"
      }
    },
    {
      "cell_type": "markdown",
      "source": [
        "### Q2: What is Cumulative Density Function (CDF)? Explain with an example. Why CDF is used?\n",
        "\n",
        "The **Cumulative Density Function (CDF)** is a function used to describe the cumulative probability distribution of a random variable. It gives the probability that a random variable X takes a value less than or equal to a certain value x. Mathematically, the CDF is defined as:\n",
        "\n",
        "F(x) = P(X <= x)\n",
        "\n",
        "Here, X is the random variable and x is any possible value of X.\n",
        "\n",
        "To understand the concept of CDF, let's consider an example of a fair six-sided die. The possible outcomes when rolling the die are numbers 1 through 6. The CDF of the die can be calculated as follows:\n",
        "\n",
        "For any x less than 1: F(x) = P(X <= x) = 0\n",
        "For x between 1 and 2: F(x) = P(X <= x) = 1/6\n",
        "For x between 2 and 3: F(x) = P(X <= x) = 2/6\n",
        "For x between 3 and 4: F(x) = P(X <= x) = 3/6\n",
        "For x between 4 and 5: F(x) = P(X <= x) = 4/6\n",
        "For x between 5 and 6: F(x) = P(X <= x) = 5/6\n",
        "For any x greater than 6: F(x) = P(X <= x) = 1\n",
        "\n",
        "Here, the CDF tells us the probability of obtaining a number less than or equal to x when rolling the die. For example, if we want to know the probability of getting a number less than or equal to 4, we can look up F(4) in the CDF table and find that it is 3/6 or 0.5. This means that the probability of getting a number less than or equal to 4 when rolling the die is 0.5."
      ],
      "metadata": {
        "id": "jaHpSM5uu5Ce"
      }
    },
    {
      "cell_type": "markdown",
      "source": [
        "### Q3: What are some examples of situations where the normal distribution might be used as a model? Explain how the parameters of the normal distribution relate to the shape of the distribution.\n",
        "\n",
        "The normal distribution, also known as the Gaussian distribution or bell curve, is a probability distribution that is widely used in statistics to model a variety of phenomena. The normal distribution is characterized by its bell-shaped curve, which is symmetrical around its mean. Some examples of situations where the normal distribution might be used as a model include:\n",
        "\n",
        "1. Heights or weights of a population: The distribution of heights or weights in a population can often be modeled using the normal distribution.\n",
        "\n",
        "2. IQ scores: Intelligence quotient (IQ) scores are often modeled using the normal distribution.\n",
        "\n",
        "3. Errors in measurement: When measuring a quantity with some degree of error, the distribution of the errors can often be modeled using the normal distribution.\n",
        "\n",
        "4. Stock prices: Changes in stock prices over time can often be modeled using the normal distribution.\n",
        "\n",
        "5. Reaction times: The distribution of reaction times in a task can often be modeled using the normal distribution.\n",
        "\n",
        "The normal distribution is characterized by two parameters: the mean and the standard deviation. The mean is the center of the distribution and determines the location of the peak of the bell curve. The standard deviation determines the spread of the distribution. The larger the standard deviation, the wider the bell curve.\n",
        "\n",
        "Specifically, the shape of the normal distribution is determined by the mean and the standard deviation as follows:\n",
        "\n",
        "1. The mean determines the center of the distribution. The bell curve is centered at the mean, and the highest point of the curve is at the mean.\n",
        "\n",
        "2. The standard deviation determines the spread of the distribution. The larger the standard deviation, the wider the curve, and the flatter the curve at the peak.\n",
        "\n",
        "3. The standard deviation also determines the probability of observing a particular value. Values within one standard deviation of the mean (i.e., between the mean plus and minus one standard deviation) have a probability of about 68%, while values within two standard deviations of the mean (i.e., between the mean plus and minus two standard deviations) have a probability of about 95%."
      ],
      "metadata": {
        "id": "Rk55BxCdvOMT"
      }
    },
    {
      "cell_type": "markdown",
      "source": [
        "### Q4: Explain the importance of Normal Distribution. Give a few real-life examples of Normal Distribution.\n",
        "\n",
        "The normal distribution is a fundamental concept in statistics and has several important applications. Some of the reasons why the normal distribution is important are:\n",
        "\n",
        "* Many natural phenomena follow a normal distribution: Many real-world phenomena can be described by a normal distribution, including heights and weights of people, IQ scores, blood pressure readings, reaction times, and many more. By understanding the properties of the normal distribution, we can make predictions about the behavior of these phenomena.\n",
        "\n",
        "* It is the foundation of many statistical methods: Many statistical methods, such as hypothesis testing, confidence intervals, and linear regression, assume that the data follow a normal distribution. Understanding the normal distribution is therefore essential for these methods to be valid.\n",
        "\n",
        "* It allows us to make statistical inferences: By assuming that the data follow a normal distribution, we can make statistical inferences about the population from which the data were sampled. For example, we can estimate the mean and standard deviation of the population, or test whether two samples come from the same population.\n",
        "\n",
        "* It is useful for quality control: Many manufacturing processes are designed to produce products with certain specifications. By using the normal distribution, we can determine the acceptable range of values for the products and monitor the process to ensure that it is producing products within that range.\n",
        "\n",
        "Some real-life examples of the normal distribution include:\n",
        "\n",
        "* Heights of people\n",
        "* IQ scores\n",
        "* Blood pressure readings\n",
        "* Test scores\n",
        "* Errors in measurements"
      ],
      "metadata": {
        "id": "Ek2ujAijwCo6"
      }
    },
    {
      "cell_type": "markdown",
      "source": [
        "### Q5: What is Bernaulli Distribution? Give an Example. What is the difference between Bernoulli Distribution and Binomial Distribution?\n",
        "\n",
        "* The Bernoulli distribution is a probability distribution that represents the outcome of a single binary event, which can have two possible outcomes, often labeled as \"success\" and \"failure\". The distribution is named after Swiss mathematician Jacob Bernoulli, who first studied it in the 17th century.\n",
        "\n",
        "* The Bernoulli distribution is characterized by a single parameter, usually denoted by p, which represents the probability of success in a single trial. The probability of failure is simply 1-p. The probability mass function (PMF) of the Bernoulli distribution is given by:\n",
        "\n",
        "P(X = x) = p^x(1-p)^(1-x), where x can take the values of 0 or 1.\n",
        "\n",
        "* An example of a Bernoulli distribution is the outcome of a single coin toss, where heads is considered a \"success\" and tails is considered a \"failure\". If the coin is fair, the probability of getting heads (success) is 0.5, and the probability of getting tails (failure) is also 0.5. Thus, the Bernoulli distribution with p = 0.5 can be used to model the outcome of a single coin toss.\n",
        "\n",
        "* The Binomial distribution, on the other hand, is a probability distribution that represents the number of successes in a fixed number of independent Bernoulli trials. The Binomial distribution is characterized by two parameters: n, the number of trials, and p, the probability of success in each trial. The probability mass function (PMF) of the Binomial distribution is given by:\n",
        "\n",
        "P(X = x) = (n choose x) p^x(1-p)^(n-x), where x can take values from 0 to n.\n",
        "\n",
        "* The main difference between the Bernoulli and Binomial distributions is that the Bernoulli distribution models the outcome of a single binary event, while the Binomial distribution models the number of successes in a fixed number of independent Bernoulli trials. The Bernoulli distribution is therefore a special case of the Binomial distribution, where n = 1."
      ],
      "metadata": {
        "id": "DPw_xlgp2xHD"
      }
    },
    {
      "cell_type": "markdown",
      "source": [
        "### Q6. Consider a dataset with a mean of 50 and a standard deviation of 10. If we assume that the dataset is normally distributed, what is the probability that a randomly selected observation will be greater than 60? Use the appropriate formula and show your calculations.\n",
        "\n",
        "To solve this problem, we will use the standard normal distribution and the z-score formula. The z-score formula converts a value from a normal distribution to a standard normal distribution with a mean of 0 and a standard deviation of 1. The formula for the z-score is:\n",
        "\n",
        "z = (x - μ) / σ\n",
        "\n",
        "where x is the value we want to convert, μ is the mean of the distribution, and σ is the standard deviation of the distribution.\n",
        "\n",
        "In this case, we want to find the probability that a randomly selected observation will be greater than 60 in a normal distribution with mean μ = 50 and standard deviation σ = 10. First, we need to calculate the z-score for the value of 60:\n",
        "\n",
        "z = (60 - 50) / 10 = 1\n",
        "\n",
        "This means that 60 is one standard deviation above the mean.\n",
        "\n",
        "Next, we need to find the probability of a z-score greater than 1. We can use a standard normal distribution table or a calculator to find this probability. The probability of a z-score greater than 1 is approximately 0.1587.\n",
        "\n",
        "Therefore, the probability that a randomly selected observation from the given normal distribution will be greater than 60 is approximately 0.1587 or 15.87%."
      ],
      "metadata": {
        "id": "1njc0G3j4XSM"
      }
    },
    {
      "cell_type": "markdown",
      "source": [
        "### Q7: Explain uniform Distribution with an example.\n",
        "\n",
        "The Uniform distribution is a probability distribution that describes the random variable which has a constant probability density function (PDF) within a specified interval. This means that all values within the interval are equally likely to be observed. The uniform distribution is often used in statistical modeling and simulation studies where values are assumed to be equally likely to occur between a lower and upper bound.\n",
        "\n",
        "The uniform distribution is characterized by two parameters: a and b, representing the lower and upper bounds of the interval. The probability density function of the uniform distribution is given by:\n",
        "\n",
        "f(x) = 1 / (b-a) , a <= x <= b\n",
        "\n",
        "and\n",
        "\n",
        "f(x) = 0 , x < a or x > b\n",
        "\n",
        "For example, suppose a manufacturer produces a batch of 1000 light bulbs, and the length of each bulb follows a uniform distribution between 10 and 20 centimeters. In this case, a = 10 and b = 20. The probability of observing any particular length within the interval is the same, which is 1/10 or 0.1.\n",
        "\n",
        "We can use the uniform distribution to answer questions about the likelihood of observing a certain length. For instance, what is the probability that a randomly selected bulb from the batch will have a length between 12 and 15 centimeters? We can calculate this probability by finding the area under the PDF curve between 12 and 15:\n",
        "\n",
        "P(12 <= X <= 15) = (15 - 12) / (20 - 10) = 0.3\n",
        "\n",
        "Therefore, the probability of selecting a bulb with a length between 12 and 15 centimeters is 0.3 or 30%."
      ],
      "metadata": {
        "id": "aw21xArp5UUV"
      }
    },
    {
      "cell_type": "markdown",
      "source": [
        "### Q8: What is the z score? State the importance of the z score.\n",
        "\n",
        "The z-score, also known as the standard score, is a statistical measure that indicates how many standard deviations a data point is from the mean of the data set. The z-score is calculated by subtracting the mean of the data set from the data point and then dividing the result by the standard deviation of the data set. The formula for calculating the z-score is:\n",
        "\n",
        "z = (x - μ) / σ\n",
        "\n",
        "where z is the z-score, x is the data point, μ is the mean of the data set, and σ is the standard deviation of the data set.\n",
        "\n",
        "The importance of the z-score lies in its ability to standardize data and compare it to a normal distribution. The z-score allows us to compare data from different populations with different means and standard deviations by transforming the data into standard units. A positive z-score indicates that the data point is above the mean of the data set, while a negative z-score indicates that the data point is below the mean of the data set. The magnitude of the z-score indicates how far the data point is from the mean of the data set in terms of standard deviations."
      ],
      "metadata": {
        "id": "3JNocnCy5pn3"
      }
    },
    {
      "cell_type": "markdown",
      "source": [
        "### Q9: What is Central Limit Theorem? State the significance of the Central Limit Theorem.\n",
        "\n",
        "The Central Limit Theorem (CLT) is a fundamental concept in statistics that states that the sum or average of a large number of independent, identically distributed random variables tends to follow a normal distribution, regardless of the underlying distribution of the individual variables. In other words, the CLT allows us to make inferences about a population based on a sample.\n",
        "\n",
        "The CLT is significant because it provides a theoretical foundation for statistical inference, which is the process of making predictions or drawing conclusions about a population based on a sample. It allows us to use sample statistics such as the sample mean and standard deviation to estimate population parameters such as the population mean and standard deviation.\n",
        "\n",
        "The CLT also allows us to estimate the distribution of a population even when we do not know the underlying distribution. For example, if we are interested in the average height of students at a school but we do not know the distribution of heights, we can take a random sample of students and calculate the sample mean. By using the CLT, we can then estimate the distribution of the population mean and make inferences about the population mean."
      ],
      "metadata": {
        "id": "fa8CPChP6tul"
      }
    },
    {
      "cell_type": "markdown",
      "source": [
        "### Q10: State the assumptions of the Central Limit Theorem.\n",
        "\n",
        "The Central Limit Theorem (CLT) has some assumptions that must be met for it to be applicable. The assumptions of the CLT are:\n",
        "\n",
        "1. Independence: The random variables in the sample must be independent of each other.\n",
        "\n",
        "2. Sample Size: The sample size must be large enough. A rule of thumb is that the sample size should be greater than 30, but this can vary depending on the underlying distribution.\n",
        "\n",
        "3. Identically Distributed: The sample should be drawn from an identically distributed population. This means that each random variable in the sample should have the same mean and standard deviation.\n",
        "\n",
        "4. Finite Variance: The population from which the sample is drawn must have a finite variance. If the variance is infinite, the CLT does not hold.\n",
        "\n",
        "If these assumptions are met, then the sum or average of a large number of independent, identically distributed random variables will tend to follow a normal distribution, regardless of the underlying distribution of the individual variables.\n",
        "\n",
        "It is important to note that violating these assumptions may result in the CLT not being applicable, and alternative methods may need to be used for statistical inference."
      ],
      "metadata": {
        "id": "UGe21Zx369Qt"
      }
    }
  ]
}