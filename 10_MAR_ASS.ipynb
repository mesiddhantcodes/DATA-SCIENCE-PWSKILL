{
  "nbformat": 4,
  "nbformat_minor": 0,
  "metadata": {
    "colab": {
      "provenance": [],
      "authorship_tag": "ABX9TyPx47u6xgaxMocVEdfowFbD",
      "include_colab_link": true
    },
    "kernelspec": {
      "name": "python3",
      "display_name": "Python 3"
    },
    "language_info": {
      "name": "python"
    }
  },
  "cells": [
    {
      "cell_type": "markdown",
      "metadata": {
        "id": "view-in-github",
        "colab_type": "text"
      },
      "source": [
        "<a href=\"https://colab.research.google.com/github/tanishqacodes/DATA-SCIENCE-MASTERS/blob/main/10_MAR_ASS.ipynb\" target=\"_parent\"><img src=\"https://colab.research.google.com/assets/colab-badge.svg\" alt=\"Open In Colab\"/></a>"
      ]
    },
    {
      "cell_type": "code",
      "execution_count": null,
      "metadata": {
        "id": "TVAojdy0inZ7"
      },
      "outputs": [],
      "source": []
    },
    {
      "cell_type": "markdown",
      "source": [
        "### Q1: What is Estimation Statistics? Explain point estimate and interval estimate.\n",
        "\n",
        "**Estimation statistics** is a branch of statistics that deals with estimating unknown parameters or characteristics of a population based on sample data.\n",
        "\n",
        "* A **point estimate** is a single value that is used to estimate an unknown population parameter. This value is calculated using a sample statistic, such as the sample mean or sample proportion. For example, if we want to estimate the population mean weight of all college students, we could take a sample of students and calculate the sample mean weight. This sample mean weight would be the point estimate for the population mean weight.\n",
        "\n",
        "* **Interval estimate**, also known as confidence interval, is a range of values that is likely to contain the true population parameter with a certain level of confidence. This range is calculated using the sample data and a margin of error, which takes into account the variability of the sample data and the sample size. For example, we might calculate a 95% confidence interval for the population mean weight of all college students. This interval would be calculated using the sample mean weight, the sample standard deviation, and the sample size. The interval would give us a range of values that we can be 95% confident contains the true population mean weight."
      ],
      "metadata": {
        "id": "I8zCueD3irC_"
      }
    },
    {
      "cell_type": "markdown",
      "source": [
        "### Q2. Write a Python function to estimate the population mean using a sample mean and standard deviation."
      ],
      "metadata": {
        "id": "9P_IiFjMjUVb"
      }
    },
    {
      "cell_type": "code",
      "source": [
        "def population_mean(sample_mean, sample_std_dev, sample_size):\n",
        "    import math\n",
        "    std_error = sample_std_dev / math.sqrt(sample_size)\n",
        "    margin_of_error = 1.96 * std_error  # 1.96 is the z-score for a 95% confidence level\n",
        "    lower_bound = sample_mean - margin_of_error\n",
        "    upper_bound = sample_mean + margin_of_error\n",
        "    return (lower_bound, upper_bound)\n"
      ],
      "metadata": {
        "id": "JUIFIhcajISY"
      },
      "execution_count": null,
      "outputs": []
    },
    {
      "cell_type": "code",
      "source": [
        "sample_mean = 25.6\n",
        "sample_std_dev = 4.2\n",
        "sample_size = 100\n",
        "\n",
        "result = population_mean(sample_mean, sample_std_dev, sample_size)\n",
        "\n",
        "print(\"The population mean is estimated to be between\", result[0], \"and\", result[1], \"with 95% confidence.\")\n"
      ],
      "metadata": {
        "colab": {
          "base_uri": "https://localhost:8080/"
        },
        "id": "48NtjClUjP2Z",
        "outputId": "6bc2172b-377f-465b-a534-b4472ad7f588"
      },
      "execution_count": null,
      "outputs": [
        {
          "output_type": "stream",
          "name": "stdout",
          "text": [
            "The population mean is estimated to be between 24.7768 and 26.4232 with 95% confidence.\n"
          ]
        }
      ]
    },
    {
      "cell_type": "markdown",
      "source": [
        "### Q3: What is Hypothesis testing? Why is it used? State the importance of Hypothesis testing.\n",
        "\n",
        "* **Hypothesis testing** is a statistical method used to make inferences about population parameters based on sample data. It involves formulating a null hypothesis and an alternative hypothesis, collecting sample data, and calculating a test statistic to determine the likelihood of the sample data under the null hypothesis. The test statistic is then compared to a critical value or p-value to decide whether to reject or fail to reject the null hypothesis.\n",
        "\n",
        "* Hypothesis testing is used to help make decisions and draw conclusions about population parameters based on sample data. For example, a company may want to test whether a new advertising campaign has increased sales. They could collect data on sales before and after the campaign and use hypothesis testing to determine whether there is a statistically significant difference in sales. Hypothesis testing can also be used to test scientific theories and validate experimental results.\n",
        "\n",
        "* The importance of hypothesis testing lies in its ability to provide a structured and objective method for making inferences about population parameters based on sample data. By using hypothesis testing, we can avoid making conclusions based on subjective opinions or incomplete information. Hypothesis testing allows us to make decisions based on statistical evidence and quantify the level of uncertainty in our conclusions. Additionally, hypothesis testing provides a framework for testing competing hypotheses and selecting the best one based on the available evidence."
      ],
      "metadata": {
        "id": "G-vcyoKrjZy5"
      }
    },
    {
      "cell_type": "markdown",
      "source": [
        "### Q4. Create a hypothesis that states whether the average weight of male college students is greater than the average weight of female college students.\n",
        "\n",
        "The null hypothesis for this hypothesis test would be:\n",
        "\n",
        "H0: The average weight of male college students is equal to or less than the average weight of female college students.\n",
        "\n",
        "The alternative hypothesis would be:\n",
        "\n",
        "Ha: The average weight of male college students is greater than the average weight of female college students.\n",
        "\n",
        "We can represent these hypotheses symbolically as:\n",
        "\n",
        "H0: μm ≤ μf\n",
        "\n",
        "Ha: μm > μf\n",
        "\n",
        "where μm represents the population mean weight of male college students and μf represents the population mean weight of female college students.\n",
        "\n",
        "We can then collect a sample of male and female college students and use statistical methods, such as a t-test or z-test, to test whether there is sufficient evidence to reject the null hypothesis in favor of the alternative hypothesis."
      ],
      "metadata": {
        "id": "dfooFarpjvxD"
      }
    },
    {
      "cell_type": "markdown",
      "source": [
        "### Q5. Write a Python script to conduct a hypothesis test on the difference between two population means, given a sample from each population."
      ],
      "metadata": {
        "id": "TKA_eCGWkCO9"
      }
    },
    {
      "cell_type": "code",
      "source": [
        "import numpy as np\n",
        "from scipy.stats import ttest_ind\n",
        "\n",
        "# Generate random sample data for two populations\n",
        "np.random.seed(123)\n",
        "population1 = np.random.normal(loc=10, scale=2, size=100)\n",
        "population2 = np.random.normal(loc=12, scale=2, size=100)\n",
        "\n",
        "# Calculate sample statistics\n",
        "sample1 = population1[:50]\n",
        "sample2 = population2[:50]\n",
        "mean1 = np.mean(sample1)\n",
        "mean2 = np.mean(sample2)\n",
        "std1 = np.std(sample1, ddof=1)\n",
        "std2 = np.std(sample2, ddof=1)\n",
        "n1 = len(sample1)\n",
        "n2 = len(sample2)\n",
        "\n",
        "# Calculate test statistic and p-value\n",
        "t, p = ttest_ind(sample1, sample2, equal_var=False)\n",
        "\n",
        "# Print results\n",
        "print(\"Sample 1: mean={}, std={}, size={}\".format(mean1, std1, n1))\n",
        "print(\"Sample 2: mean={}, std={}, size={}\".format(mean2, std2, n2))\n",
        "print(\"Test statistic: t={}\".format(t))\n",
        "print(\"p-value: p={}\".format(p))\n",
        "if p < 0.05:\n",
        "    print(\"Reject the null hypothesis that the means are equal.\")\n",
        "else:\n",
        "    print(\"Fail to reject the null hypothesis that the means are equal.\")\n"
      ],
      "metadata": {
        "colab": {
          "base_uri": "https://localhost:8080/"
        },
        "id": "fWu1_Eb0jVk0",
        "outputId": "67bdb138-961a-4607-bbbf-724e00c6a917"
      },
      "execution_count": null,
      "outputs": [
        {
          "output_type": "stream",
          "name": "stdout",
          "text": [
            "Sample 1: mean=10.02654288216757, std=2.4034010252957856, size=50\n",
            "Sample 2: mean=12.238327671201723, std=2.035440524607091, size=50\n",
            "Test statistic: t=-4.9657649739156655\n",
            "p-value: p=2.993602330559806e-06\n",
            "Reject the null hypothesis that the means are equal.\n"
          ]
        }
      ]
    },
    {
      "cell_type": "markdown",
      "source": [
        "### Q6: What is a null and alternative hypothesis? Give some examples.\n",
        "\n",
        "The **null hypothesis** is a statement that assumes that there is no difference or no effect between the populations being compared. In other words, any observed difference or effect is simply due to chance or sampling error. The **alternative hypothesis**, on the other hand, is a statement that assumes that there is a difference or an effect between the populations being compared. The alternative hypothesis can be one-sided, indicating that the difference or effect is in a specific direction, or two-sided, indicating that the difference or effect can be in either direction.\n",
        "\n",
        "1. Example of a one-sample hypothesis test:\n",
        "\n",
        "    * Null hypothesis: The mean weight of a certain brand of apples is 200 grams.\n",
        "    * Alternative hypothesis: The mean weight of a certain brand of apples is not 200 grams.\n",
        "\n",
        "2. Example of a two-sample hypothesis test:\n",
        "    * Null hypothesis: The mean cholesterol level in men and women is the same.\n",
        "    * Alternative hypothesis: The mean cholesterol level in men is different from the mean cholesterol level in women."
      ],
      "metadata": {
        "id": "jDZgLbXKkXP3"
      }
    },
    {
      "cell_type": "markdown",
      "source": [
        "### Q7: Write down the steps involved in hypothesis testing.\n",
        "\n",
        "The steps involved in hypothesis testing are as follows:\n",
        "\n",
        "1. Formulate the null hypothesis and alternative hypothesis based on the research question and the population parameter of interest.\n",
        "\n",
        "2. Choose an appropriate level of significance, typically denoted as alpha (α), which represents the probability of rejecting the null hypothesis when it is actually true.\n",
        "\n",
        "3. Select a sample from the population and calculate the test statistic, which is a measure of how far the sample statistic (e.g., mean, proportion) is from the hypothesized value under the null hypothesis.\n",
        "\n",
        "4. Calculate the p-value, which is the probability of observing a test statistic as extreme as or more extreme than the one calculated from the sample, assuming that the null hypothesis is true.\n",
        "\n",
        "5. Compare the p-value with the level of significance. If the p-value is less than the level of significance, reject the null hypothesis in favor of the alternative hypothesis. If the p-value is greater than or equal to the level of significance, fail to reject the null hypothesis.\n",
        "\n",
        "6. Interpret the results in the context of the research question and draw conclusions. If the null hypothesis is rejected, it means that there is evidence to support the alternative hypothesis, and vice versa. However, it is important to keep in mind that hypothesis testing does not prove anything conclusively, but rather provides evidence to support or reject a hypothesis with a certain degree of confidence.\n",
        "\n",
        "7. Report the findings and limitations of the hypothesis test, including the sample size, test statistic, p-value, level of significance, and any assumptions made in the analysis."
      ],
      "metadata": {
        "id": "RI0w74ZDlGqb"
      }
    },
    {
      "cell_type": "markdown",
      "source": [
        "### Q8. Define p-value and explain its significance in hypothesis testing.\n",
        "\n",
        "In hypothesis testing, the p-value is the probability of observing a test statistic as extreme as or more extreme than the one calculated from the sample, assuming that the null hypothesis is true. The p-value measures the strength of evidence against the null hypothesis and provides a quantitative measure of the likelihood that the null hypothesis is true.\n",
        "\n",
        "**Significance** \n",
        "\n",
        "* It is used to make a decision about whether to reject or fail to reject the null hypothesis. \n",
        "* The p-value is compared to the level of significance, which is typically denoted as alpha (α), and represents the maximum probability of rejecting the null hypothesis when it is actually true. \n",
        "* If the p-value is less than or equal to alpha, we reject the null hypothesis in favor of the alternative hypothesis. \n",
        "* If the p-value is greater than alpha, we fail to reject the null hypothesis."
      ],
      "metadata": {
        "id": "rk2Swy6DlYXK"
      }
    },
    {
      "cell_type": "markdown",
      "source": [
        "### Q9. Generate a Student's t-distribution plot using Python's matplotlib library, with the degrees of freedom parameter set to 10."
      ],
      "metadata": {
        "id": "5A66H9LJl_lK"
      }
    },
    {
      "cell_type": "code",
      "source": [
        "import numpy as np\n",
        "import matplotlib.pyplot as plt\n",
        "from scipy.stats import t\n",
        "\n",
        "df = 10  # degrees of freedom\n",
        "x = np.linspace(t.ppf(0.001, df), t.ppf(0.999, df), 100)  # range of x values\n",
        "y = t.pdf(x, df)  # probability density function values at each x value\n",
        "\n",
        "plt.plot(x, y)\n",
        "plt.title(\"Student's t-distribution with df=10\")\n",
        "plt.xlabel('x')\n",
        "plt.ylabel('PDF')\n",
        "plt.show()\n"
      ],
      "metadata": {
        "colab": {
          "base_uri": "https://localhost:8080/",
          "height": 472
        },
        "id": "i83GbHXHkMHU",
        "outputId": "fe912333-dad7-46fa-aa41-ecc5acdc804f"
      },
      "execution_count": null,
      "outputs": [
        {
          "output_type": "display_data",
          "data": {
            "text/plain": [
              "<Figure size 640x480 with 1 Axes>"
            ],
            "image/png": "[encoded data removed]"
          },
          "metadata": {}
        }
      ]
    },
    {
      "cell_type": "markdown",
      "source": [
        "### Q10. Write a Python program to calculate the two-sample t-test for independent samples, given two random samples of equal size and a null hypothesis that the population means are equal."
      ],
      "metadata": {
        "id": "3lV-AfIfmLRK"
      }
    },
    {
      "cell_type": "code",
      "source": [
        "import numpy as np\n",
        "from scipy.stats import ttest_ind\n",
        "\n",
        "# Generate two random samples of equal size\n",
        "n = 50\n",
        "sample1 = np.random.normal(loc=10, scale=2, size=n)\n",
        "sample2 = np.random.normal(loc=11, scale=2, size=n)\n",
        "\n",
        "# Perform two-sample t-test assuming equal variances\n",
        "t_statistic, p_value = ttest_ind(sample1, sample2, equal_var=True)\n",
        "\n",
        "# Print the results\n",
        "print('Sample 1 mean:', np.mean(sample1))\n",
        "print('Sample 2 mean:', np.mean(sample2))\n",
        "print('t-statistic:', t_statistic)\n",
        "print('p-value:', p_value)\n"
      ],
      "metadata": {
        "colab": {
          "base_uri": "https://localhost:8080/"
        },
        "id": "ZH1BVasMmJOO",
        "outputId": "9f50cc53-1c48-44eb-91a4-88e7541633ae"
      },
      "execution_count": null,
      "outputs": [
        {
          "output_type": "stream",
          "name": "stdout",
          "text": [
            "Sample 1 mean: 9.763545362561942\n",
            "Sample 2 mean: 10.85592939248017\n",
            "t-statistic: -2.7894817308536175\n",
            "p-value: 0.0063441079485912835\n"
          ]
        }
      ]
    },
    {
      "cell_type": "markdown",
      "source": [
        "### Q11: What is Student’s t distribution? When to use the t-Distribution.\n",
        "\n",
        "Student's t-distribution is a probability distribution that is used in statistical inference to estimate population parameters when the sample size is small (typically less than 30) or when the population variance is unknown. The t-distribution is a family of distributions that is similar in shape to the standard normal distribution but has heavier tails, which means that it assigns more probability mass to extreme values.\n",
        "\n",
        "The t-distribution is used in:-\n",
        "\n",
        "    * statistical inference to calculate confidence intervals and perform hypothesis tests for population means, particularly when the sample size is small or the population variance is unknown. \n",
        "    \n",
        "    * Instead of the standard normal distribution when the sample size is small because the sample mean and the sample standard deviation tend to have more variability than their population counterparts, and this variability needs to be accounted for in the probability distribution."
      ],
      "metadata": {
        "id": "jV7IXTjzmPmo"
      }
    },
    {
      "cell_type": "markdown",
      "source": [
        "### Q12: What is t-statistic? State the formula for t-statistic.\n",
        "\n",
        "The t-statistic is a test statistic used in hypothesis testing to determine whether the difference between two sample means is significant, given the variability of the samples and assuming that the population variances are equal. The t-statistic measures the difference between the two sample means in units of the standard error of the difference.\n",
        "\n",
        "* FORMULA:- \n",
        "t = (x̄₁ - x̄₂) / (s_p * sqrt(1/n₁ + 1/n₂))\n",
        "\n",
        "where:\n",
        "\n",
        "x̄₁ and x̄₂ are the sample means of the two groups being compared\n",
        "\n",
        "s_p is the pooled standard error of the mean, calculated as:\n",
        "\n",
        "s_p = sqrt(((n₁ - 1) * s₁² + (n₂ - 1) * s₂²) / (n₁ + n₂ - 2))\n",
        "\n",
        "where s₁ and s₂ are the sample standard deviations of the two groups, and n₁ and n₂ are the sample sizes of the two groups."
      ],
      "metadata": {
        "id": "sMqoN3RCm-va"
      }
    },
    {
      "cell_type": "markdown",
      "source": [
        "### Q13. A coffee shop owner wants to estimate the average daily revenue for their shop. They take a random sample of 50 days and find the sample mean revenue to be $500 with a standard deviation of $50. Estimate the population mean revenue with a 95% confidence interval.\n",
        "\n",
        "\n",
        "Confidence Interval = sample mean ± (critical value) * (standard error)\n",
        "\n",
        "we have a sample size of n = 50, a sample mean of x̄ = $500, and a sample standard deviation of s = $50. We want to estimate the population mean revenue with a 95% confidence interval, so the level of significance is α = 0.05 and the degrees of freedom are (n-1) = 49.\n",
        "\n",
        "The critical value for a two-tailed t-test with 49 degrees of freedom and a significance level of 0.05 is approximately 2.009 (we can use a t-distribution table or the tinv function in Python). The standard error can be estimated as s/√n = $50/√50 = $7.07.\n",
        "\n",
        "Substituting the values into the formula, we get:\n",
        "\n",
        "Confidence Interval = $500 ± 2.009 * $7.07\n",
        "\n",
        "Confidence Interval = [$485.08, $514.92]\n"
      ],
      "metadata": {
        "id": "82Q-SvmXnb8E"
      }
    },
    {
      "cell_type": "markdown",
      "source": [
        "### Q14. A researcher hypothesizes that a new drug will decrease blood pressure by 10 mmHg. They conduct a clinical trial with 100 patients and find that the sample mean decrease in blood pressure is 8 mmHg with a standard deviation of 3 mmHg. Test the hypothesis with a significance level of 0.05.\n",
        "\n",
        "To test the hypothesis that the new drug decreases blood pressure by 10 mmHg with a significance level of 0.05, we can use a one-sample t-test. The null and alternative hypotheses are:\n",
        "\n",
        "H0: The true population mean decrease in blood pressure is 10 mmHg.\n",
        "Ha: The true population mean decrease in blood pressure is less than 10 mmHg.\n",
        "\n",
        "We can calculate the test statistic t as:\n",
        "\n",
        "t = (sample mean - hypothesized mean) / (standard error)\n",
        "\n",
        "where the sample mean is the mean decrease in blood pressure from the 100 patients, the hypothesized mean is 10 mmHg, and the standard error is the standard deviation of the sample mean, which is the sample standard deviation divided by the square root of the sample size.\n",
        "\n",
        "Substituting the values, we get:\n",
        "\n",
        "t = (8 - 10) / (3 / sqrt(100))\n",
        "t = -4.47\n",
        "\n",
        "Using a t-distribution table or the t.cdf() function in Python, we can calculate the p-value for this test. Since the alternative hypothesis is one-sided (we are only interested in whether the true population mean decrease is less than 10 mmHg), we calculate the p-value as the area under the t-distribution curve to the left of the calculated t-value:\n",
        "\n",
        "p-value = t.cdf(-4.47, df=99)\n",
        "p-value = 0.000007\n",
        "\n",
        "The p-value is very small (less than the significance level of 0.05), which means we can reject the null hypothesis and conclude that the new drug does decrease blood pressure by more than 10 mmHg at a significance level of 0.05."
      ],
      "metadata": {
        "id": "ZasJRpekn7Mb"
      }
    },
    {
      "cell_type": "markdown",
      "source": [
        "### Q15. An electronics company produces a certain type of product with a mean weight of 5 pounds and a standard deviation of 0.5 pounds. A random sample of 25 products is taken, and the sample mean weight is found to be 4.8 pounds. Test the hypothesis that the true mean weight of the products is less than 5 pounds with a significance level of 0.01.\n",
        "\n",
        "To test the hypothesis that the true mean weight of the products is less than 5 pounds with a significance level of 0.01, we can use a one-sample t-test. The null and alternative hypotheses are:\n",
        "\n",
        "H0: The true population mean weight is 5 pounds.\n",
        "Ha: The true population mean weight is less than 5 pounds.\n",
        "\n",
        "We can calculate the test statistic t as:\n",
        "\n",
        "t = (sample mean - hypothesized mean) / (standard error)\n",
        "\n",
        "where the sample mean is the mean weight of the 25 products, the hypothesized mean is 5 pounds, and the standard error is the standard deviation of the sample mean, which is the sample standard deviation divided by the square root of the sample size.\n",
        "\n",
        "Substituting the values, we get:\n",
        "\n",
        "t = (4.8 - 5) / (0.5 / sqrt(25))\n",
        "t = -2\n",
        "\n",
        "Using a t-distribution table or the t.cdf() function in Python, we can calculate the p-value for this test. Since the alternative hypothesis is one-sided (we are only interested in whether the true population mean weight is less than 5 pounds), we calculate the p-value as the area under the t-distribution curve to the left of the calculated t-value:\n",
        "\n",
        "p-value = t.cdf(-2, df=24)\n",
        "p-value = 0.025\n",
        "\n",
        "The p-value is greater than the significance level of 0.01, which means we cannot reject the null hypothesis and conclude that there is not enough evidence to support the claim that the true mean weight of the products is less than 5 pounds at a significance level of 0.01."
      ],
      "metadata": {
        "id": "ECbWPHrioI7N"
      }
    },
    {
      "cell_type": "markdown",
      "source": [
        "### Q16. Two groups of students are given different study materials to prepare for a test. The first group (n1 = 30) has a mean score of 80 with a standard deviation of 10, and the second group (n2 = 40) has a mean score of 75 with a standard deviation of 8. Test the hypothesis that the population means for the two groups are equal with a significance level of 0.01.\n",
        "\n",
        "o test the hypothesis that the population means for the two groups are equal with a significance level of 0.01, we can use a two-sample t-test for independent samples. The null and alternative hypotheses are:\n",
        "\n",
        "H0: The population means for the two groups are equal.\n",
        "Ha: The population means for the two groups are not equal.\n",
        "\n",
        "We can calculate the test statistic t as:\n",
        "\n",
        "t = (sample mean difference - hypothesized difference) / (standard error of the difference)\n",
        "\n",
        "where the sample mean difference is the difference between the two sample means (80 - 75 = 5), the hypothesized difference is 0 (since the null hypothesis assumes the population means are equal), and the standard error of the difference is calculated using the formula:\n",
        "\n",
        "standard error of the difference = sqrt((s1^2 / n1) + (s2^2 / n2))\n",
        "\n",
        "where s1 and s2 are the sample standard deviations for the two groups, and n1 and n2 are the sample sizes.\n",
        "\n",
        "Substituting the values, we get:\n",
        "\n",
        "standard error of the difference = sqrt((10^2 / 30) + (8^2 / 40))\n",
        "standard error of the difference = 2.438\n",
        "\n",
        "t = (5 - 0) / 2.438\n",
        "t = 2.049\n",
        "\n",
        "Using a t-distribution table or the t.cdf() function in Python, we can calculate the two-tailed p-value for this test. Since the significance level is 0.01, the rejection region is split between the left tail and the right tail of the t-distribution, with each tail containing 0.005 of the area.\n",
        "\n",
        "p-value = 2 * (1 - t.cdf(abs(t), df=68))\n",
        "p-value = 0.044\n",
        "\n",
        "The p-value is greater than the significance level of 0.01, which means we cannot reject the null hypothesis and conclude that there is not enough evidence to support the claim that the population means for the two groups are different at a significance level of 0.01."
      ],
      "metadata": {
        "id": "bBu_Pm3BogED"
      }
    },
    {
      "cell_type": "markdown",
      "source": [
        "### Q17. A marketing company wants to estimate the average number of ads watched by viewers during a TV program. They take a random sample of 50 viewers and find that the sample mean is 4 with a standard deviation of 1.5. Estimate the population mean with a 99% confidence interval.\n",
        "\n",
        "To estimate the population mean with a 99% confidence interval, we can use the following formula:\n",
        "\n",
        "Confidence interval = sample mean ± (t-value)*(standard error)\n",
        "\n",
        "where t-value is the critical value of the t-distribution for a given level of confidence and degrees of freedom, and the standard error is the standard deviation of the sample mean."
      ],
      "metadata": {
        "id": "bp8JP-AoowQp"
      }
    },
    {
      "cell_type": "code",
      "source": [
        "from scipy.stats import t\n",
        "t_value = t.ppf(0.995, 49)\n"
      ],
      "metadata": {
        "id": "bf1XVsPamdsH"
      },
      "execution_count": 6,
      "outputs": []
    },
    {
      "cell_type": "code",
      "source": [
        "import math\n",
        "sample_mean = 4\n",
        "sample_std = 1.5\n",
        "std_error = sample_std / math.sqrt(50)\n"
      ],
      "metadata": {
        "id": "GHgChZo2o87r"
      },
      "execution_count": 7,
      "outputs": []
    },
    {
      "cell_type": "code",
      "source": [
        "lower_bound = sample_mean - t_value * std_error\n",
        "upper_bound = sample_mean + t_value * std_error\n",
        "print(\"The 99% confidence interval for the population mean is:\", (lower_bound, upper_bound))\n"
      ],
      "metadata": {
        "colab": {
          "base_uri": "https://localhost:8080/"
        },
        "id": "5E_jVy3po-lw",
        "outputId": "2391cc1d-3e7a-4dca-a2d2-e068c71ed922"
      },
      "execution_count": 8,
      "outputs": [
        {
          "output_type": "stream",
          "name": "stdout",
          "text": [
            "The 99% confidence interval for the population mean is: (3.4314963358572577, 4.568503664142742)\n"
          ]
        }
      ]
    },
    {
      "cell_type": "markdown",
      "source": [
        "Therefore, we can be 99% confident that the true population mean of the number of ads watched by viewers during a TV program is between 3.4 and 4.6."
      ],
      "metadata": {
        "id": "S5DI044xpC-X"
      }
    }
  ]
}