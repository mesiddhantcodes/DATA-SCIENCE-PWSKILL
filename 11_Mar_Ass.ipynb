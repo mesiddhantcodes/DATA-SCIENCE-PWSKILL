{
  "nbformat": 4,
  "nbformat_minor": 0,
  "metadata": {
    "colab": {
      "provenance": [],
      "authorship_tag": "ABX9TyMkXZ9/8LAqnRB6zd/GHdHo",
      "include_colab_link": true
    },
    "kernelspec": {
      "name": "python3",
      "display_name": "Python 3"
    },
    "language_info": {
      "name": "python"
    }
  },
  "cells": [
    {
      "cell_type": "markdown",
      "metadata": {
        "id": "view-in-github",
        "colab_type": "text"
      },
      "source": [
        "<a href=\"https://colab.research.google.com/github/mesiddhantcodes/DATA-SCIENCE-PWSKILL/blob/main/11_Mar_Ass.ipynb\" target=\"_parent\"><img src=\"https://colab.research.google.com/assets/colab-badge.svg\" alt=\"Open In Colab\"/></a>"
      ]
    },
    {
      "cell_type": "markdown",
      "source": [
        "***Assingment 11 March***"
      ],
      "metadata": {
        "id": "d9N1QPsjUDQY"
      }
    },
    {
      "cell_type": "markdown",
      "source": [
        " **Q 1.What is the difference between a t-test and a z-test? Provide an example scenario where you would\n",
        "use each type of test.**\n",
        "\n",
        "\n",
        "---\n",
        "\n"
      ],
      "metadata": {
        "id": "sfO47viKOZ76"
      }
    },
    {
      "cell_type": "markdown",
      "source": [
        "**Ans.**Z-tests and T-tests are the two statistical methods that involve data analysis, which has applications in science, business, and many other disciplines. The T-test is a univariate hypothesis test based on T-statistics, wherein the mean, i.e., the average, is known, and population variance, i.e., the standard deviation, is approximated from the sample. On the other hand, Z-test is also a univariate test based on a standard normal distribution."
      ],
      "metadata": {
        "id": "evaDZdY5WjyZ"
      }
    },
    {
      "cell_type": "markdown",
      "source": [
        "**Q 2.Differentiate between one-tailed and two-tailed tests**\n",
        "\n",
        "---\n",
        "\n"
      ],
      "metadata": {
        "id": "OvewihugW25z"
      }
    },
    {
      "cell_type": "markdown",
      "source": [
        "**Ans.**The two ways of carrying out statistical significance test of a characteristic, drawn from the population, with respect to the test statistic, are a one-tailed test and two-tailed test. The one-tailed test refers to a test of null hypothesis, in which the alternative hypothesis is articulated directionally. Here, the critical region lies only on one tail. However, if the alternative hypothesis is not exhibited directionally, then it is known as the two-tailed test of the null hypothesis., wherein the critical region is one both the tails."
      ],
      "metadata": {
        "id": "UZ_U-2NaXiZR"
      }
    },
    {
      "cell_type": "markdown",
      "source": [
        "**Q 3.Explain the concept of Type 1 and Type 2 errors in hypothesis testing. \n",
        "\n",
        "---\n",
        "\n",
        "Provide an example scenario for\n",
        "each type of error.**"
      ],
      "metadata": {
        "id": "UoEKjQeEYNTB"
      }
    },
    {
      "cell_type": "markdown",
      "source": [
        "**Ans**.\n",
        "***Type 1 Error***:-We reject the NULL hypothesis when in reality it is TRUE.\n",
        "\n",
        "***Type 2 Error***:- We retain the NULL hypothesis when in reality  is False.\n",
        "\n",
        "\n",
        "**Example**:You test whether a new drug intervention can alleviate symptoms of an autoimmune disease.\n",
        "In this case:\n",
        "\n",
        "*  The null hypothesis (H0) is that the new drug has no effect on symptoms of the disease.\n",
        "*  The alternative hypothesis (H1) is that the drug is effective for alleviating symptoms of the disease.\n",
        "\n",
        "Conclusion:\n",
        "*  Type I error happens when you get false positive results: you conclude that the drug intervention improved symptoms when it actually didn’t. These improvements could have arisen from other random factors or measurement errors.\n",
        "*  A Type II error happens when you get false negative results: you conclude that the drug intervention didn’t improve symptoms when it actually did. Your study may have missed key indicators of improvements or attributed any improvements to other factors instead."
      ],
      "metadata": {
        "id": "Bve_mpQBYQQL"
      }
    },
    {
      "cell_type": "markdown",
      "source": [
        "**Q 4.Explain Bayes's theorem with an example.**\n",
        "\n",
        "---\n",
        "\n"
      ],
      "metadata": {
        "id": "lW7TA6a2aeeh"
      }
    },
    {
      "cell_type": "markdown",
      "source": [
        "Ans.Bayes's theorem is used for the calculation of a conditional probability where intuition often fails. Although widely used in probability, the theorem is being applied in the machine learning field too. Its use in machine learning includes the fitting of a model to a training dataset and developing classification models. \n",
        "*  $ P(A|B) = \\frac{P(B|A)P(A)}{P(B)} $\n",
        "\n",
        "Example:\n",
        "\n",
        "*  Dangerous fires are rare (1%)\n",
        "*  But smoke is fairly common (10%) due to barbecues,\n",
        "*  And 90% of dangerous fires make smoke\n",
        "What is the probability of dangerous Fire when there is Smoke?\n",
        "\n",
        "**Solution**\n",
        "$P(Fire|Smoke) =\\frac{P(Fire)P(Smoke|Fire)}{P(Smoke)}$\n",
        "= 1% x 90%/10% \n",
        "\n",
        "= 9%"
      ],
      "metadata": {
        "id": "KhFKqRgWaq77"
      }
    },
    {
      "cell_type": "markdown",
      "source": [
        "**Q 5. What is a confidence interval? How to calculate the confidence interval, \n",
        "\n",
        "---\n",
        "\n",
        "explain with an example.**"
      ],
      "metadata": {
        "id": "abBvR_u0eu-K"
      }
    },
    {
      "cell_type": "markdown",
      "source": [
        "Ans.A confidence interval is the mean of your estimate plus and minus the variation in that estimate. This is the range of values you expect your estimate to fall between if you redo your test, within a certain level of confidence.\n",
        "\n",
        "Confidence interval is the $1-a$.\\\n",
        "Where a is the significance value \n",
        "\n",
        "Confidence interval for the mean of normally-distributed data\n",
        "Normally-distributed data forms a bell shape when plotted on a graph, with the sample mean in the middle and the rest of the data distributed fairly evenly on either side of the mean.\n",
        "\n",
        "The confidence interval for data which follows a standard normal distribution is:\n",
        "\n",
        "$ CI={\\bar{X}\\pm\\frac{Z\\sigma}{\\sqrt{n}}}$\n",
        "\n",
        "* CI = the confidence interval\n",
        "* X̄ = the population mean\n",
        "* Z* = the critical value of the z distribution\n",
        "*  σ = the population standard deviation\n",
        "*  √n = the square root of the population size\n",
        "Example:\n",
        "In the survey of Americans’ and Brits’ television watching habits, we can use the sample mean, sample standard deviation, and sample size in place of the population mean, population standard deviation, and population size.\n",
        "To calculate the 95% confidence interval, we can simply plug the values into the formula.\n",
        "\n",
        "So for the USA, the lower and upper bounds of the 95% confidence interval are 34.02 and 35.98.\n",
        "\n",
        "So for the GB, the lower and upper bounds of the 95% confidence interval are 33.04 and 36.96."
      ],
      "metadata": {
        "id": "pxLvIZ8TewZI"
      }
    },
    {
      "cell_type": "markdown",
      "source": [
        "**Q6.Use Bayes' Theorem to calculate the probability of an event occurring given prior knowledge of the\n",
        "event's probability and new evidence. Provide a sample problem and solution.**\n",
        "\n",
        "---\n",
        "\n"
      ],
      "metadata": {
        "id": "4vwa0PXWvoCg"
      }
    },
    {
      "cell_type": "markdown",
      "source": [
        "Ans.Bayes's theorem is used for the calculation of a conditional probability where intuition often fails. Although widely used in probability, the theorem is being applied in the machine learning field too. Its use in machine learning includes the fitting of a model to a training dataset and developing classification models. \n",
        "*  $ P(A|B) = \\frac{P(B|A)P(A)}{P(B)} $\n",
        "\n",
        "Example:\n",
        "\n",
        "*  Dangerous fires are rare (1%)\n",
        "*  But smoke is fairly common (10%) due to barbecues,\n",
        "*  And 90% of dangerous fires make smoke\n",
        "What is the probability of dangerous Fire when there is Smoke?\n",
        "\n",
        "**Solution**\n",
        "$P(Fire|Smoke) =\\frac{P(Fire)P(Smoke|Fire)}{P(Smoke)}$\n",
        "= 1% x 90%/10% \n",
        "\n",
        "= 9%"
      ],
      "metadata": {
        "id": "fGU-8iYz1UZH"
      }
    },
    {
      "cell_type": "markdown",
      "source": [
        "**Q7Calculate the 95% confidence interval for a sample of data with a mean of 50 and a standard deviation\n",
        "of 5. Interpret the results.**\n",
        "\n",
        "---\n",
        "\n"
      ],
      "metadata": {
        "id": "FS2zAVx22TpH"
      }
    },
    {
      "cell_type": "markdown",
      "source": [
        "Ans.\n",
        "Sample mean-50\\\n",
        "Standard Deviation-5\\\n",
        "Confidence interval-95%\n",
        "For 95% confidence interval\n",
        "*  $\\alpha=1-0.95=0.0500$\\\n",
        "Hence $Z_{\\alpha/2}=1.9600$ (From z-test table)/\n",
        "\n",
        "\n",
        "\n",
        "\n"
      ],
      "metadata": {
        "id": "LWkESZma28NV"
      }
    },
    {
      "cell_type": "markdown",
      "source": [
        "**Q8.What is the margin of error in a confidence interval? How does sample size affect the margin of error?\n",
        "Provide an example of a scenario where a larger sample size would result in a smaller margin of error.**\n",
        "\n",
        "\n",
        "---\n",
        "\n"
      ],
      "metadata": {
        "id": "yh2vTBa85I7E"
      }
    },
    {
      "cell_type": "markdown",
      "source": [
        "Ans.\n",
        "*  As sample size increases, the margin of error decreases. As the variability in the population increases, the margin of error increases. As the confidence level increases, the margin of error increases.\n",
        "*  It is intuitive that a greater sample size will be a closer representative of the population than a smaller sample size. Hence, the larger the sample size, the smaller the sample standard error and therefore the smaller the margin of error.\\\n",
        "Example:\n",
        "* Suppose that the Gallup Organization’s latest poll sampled 1,000 people from the United States, and the results show that 520 people (52%) think the president is doing a good job, compared to 48% who don’t think so. First, assume you want a 95% level of confidence, so you find z* using the following table.\n",
        "* The number of Americans in the sample who said they approve of the president was found to be 520. This means that the sample proportion,\n",
        "* s 520 / 1,000 = 0.52. (The sample size, n, was 1,000.) The margin of error for this polling question is calculated in the following way:\n",
        "\n",
        "![image.png](data:image/png;base64,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)"
      ],
      "metadata": {
        "id": "e-d0hEFi5QM4"
      }
    },
    {
      "cell_type": "markdown",
      "source": [
        "**Q9.Calculate the z-score for a data point with a value of 75, a population mean of 70, and a population\n",
        "standard deviation of 5. Interpret the results.**\n",
        "\n",
        "---\n",
        "\n"
      ],
      "metadata": {
        "id": "grH4Ln_h656W"
      }
    },
    {
      "cell_type": "markdown",
      "source": [
        "Ans.A z-score measures exactly how many standard deviations above or below the mean a data point is.\\\n",
        "Here's the formula for calculating a z-score:\n",
        "${Z}=\\frac{datapoint -mean}{standard deviation} $\n",
        "Here are some important facts about z-scores:\n",
        "* A positive z-score says the data point is above average.\n",
        "* A negative z-score says the data point is below average.\n",
        "* A z-score close to 0 says the data point is close to average.\n",
        "\n",
        "Solution: $Z=\\frac{75-70}{5}=1$\n"
      ],
      "metadata": {
        "id": "PlvaWas27aLR"
      }
    },
    {
      "cell_type": "markdown",
      "source": [
        "**Q10.In a study of the effectiveness of a new weight loss drug, a sample of 50 participants lost an average\n",
        "of 6 pounds with a standard deviation of 2.5 pounds. Conduct a hypothesis test to determine if the drug is\n",
        "significantly effective at a 95% confidence level using a t-test.**\n",
        "\n",
        "---\n",
        "\n"
      ],
      "metadata": {
        "id": "4UWwb5Db8pov"
      }
    },
    {
      "cell_type": "markdown",
      "source": [
        "Ans.\n",
        "* NULL Hypothesis(H0):-$\\mu\\neq6$\n",
        "* Alternate Hypothesis(H1):-$\\mu=6$\n",
        "*  Standard deviation $\\sigma=2.5$\n",
        " *  $n=50$\n",
        "* Degree of freedom = $n-1=49$\n",
        "* confidence interval=$95%$(0.95)\n",
        "* Significance value =$1-0.95$\n",
        " *  $\\alpha=.05$\n",
        "* observed t-value=2.021\\\n",
        "NOW calculate t-test statistics:\n",
        "$t=\\frac{\\bar{x}-\\mu}{\\frac{s}{\\sqrt(n)}}$=17.1\n",
        "It is greater than the observed value then reject the NULL hypothesis.\n",
        "\n",
        "\n"
      ],
      "metadata": {
        "id": "eEPTE8m-8sSC"
      }
    },
    {
      "cell_type": "markdown",
      "source": [
        "**Q13.A population has a mean of 60 and a standard deviation of 8. A sample of 50 observations has a mean\n",
        "of 65. Calculate the 90% confidence interval for the true population mean.**"
      ],
      "metadata": {
        "id": "TN7mjEuaIE4s"
      }
    },
    {
      "cell_type": "markdown",
      "source": [
        "Ans.\n",
        "* NULL Hypothesis(H0):-$\\mu=60$\n",
        "* Alternate Hypothesis(H1):-$\\mu\\neq60$\n",
        "*  Standard deviation $\\sigma=8$\n",
        " *  $n=50$\n",
        "* Degree of freedom = $n-1=49$\n",
        "* sample mean =$\\bar{X}=65$\n",
        "* confidence interval=$90%$(0.90)\n",
        "* Significance value =$1-0.90$\n",
        " *  $\\alpha=.10$\n",
        "* observed t-value=1.68\n",
        "* calculated t test=4.42\n",
        "\n",
        "T test calculated is greater then NULL hypothesis is rejected\n"
      ],
      "metadata": {
        "id": "hsm9tP1gJEO3"
      }
    },
    {
      "cell_type": "markdown",
      "source": [
        "**Q14.In a study of the effects of caffeine on reaction time, a sample of 30 participants had an average\n",
        "reaction time of 0.25 seconds with a standard deviation of 0.05 seconds. Conduct a hypothesis test to\n",
        "determine if the caffeine has a significant effect on reaction time at a 90% confidence level using a t-test.**\n"
      ],
      "metadata": {
        "id": "eqCbH7sWNbKM"
      }
    },
    {
      "cell_type": "markdown",
      "source": [
        "Ans.\n",
        "*  Population mean=0.25\n",
        "* N=30\n",
        "* Standard deviation=.05\n",
        "* Confidence interval=.90\n",
        "* significance value $\\alpha=.10$\n",
        "* null hypothesis (H0):-$\\mu\\neq.25$\n",
        "* alternative hypothesis(H1) :-$\\mu=25$\n",
        "* degree of freedom :-29\n",
        "* observed value:-1.699\n",
        "* calculated value:-27.7\n",
        "* hence null hypothesis is rejected\n"
      ],
      "metadata": {
        "id": "HchBtkAXN-vh"
      }
    },
    {
      "cell_type": "code",
      "execution_count": null,
      "metadata": {
        "id": "yKyCm2b5T45e"
      },
      "outputs": [],
      "source": []
    }
  ]
}