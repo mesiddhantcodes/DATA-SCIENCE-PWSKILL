{
  "nbformat": 4,
  "nbformat_minor": 0,
  "metadata": {
    "colab": {
      "provenance": [],
      "authorship_tag": "ABX9TyPbAFozPZzUOb1PyFKdjJDa",
      "include_colab_link": true
    },
    "kernelspec": {
      "name": "python3",
      "display_name": "Python 3"
    },
    "language_info": {
      "name": "python"
    }
  },
  "cells": [
    {
      "cell_type": "markdown",
      "metadata": {
        "id": "view-in-github",
        "colab_type": "text"
      },
      "source": [
        "<a href=\"https://colab.research.google.com/github/mesiddhantcodes/DATA-SCIENCE-PWSKILL/blob/main/12_Mar_Ass.ipynb\" target=\"_parent\"><img src=\"https://colab.research.google.com/assets/colab-badge.svg\" alt=\"Open In Colab\"/></a>"
      ]
    },
    {
      "cell_type": "markdown",
      "source": [
        "**Q1. Calculate the 95% confidence interval for a sample of data with a mean of 50 and a standard deviation\n",
        "of 5 using Python. Interpret the results.**"
      ],
      "metadata": {
        "id": "5Zz4AhZND_M5"
      }
    },
    {
      "cell_type": "code",
      "execution_count": 2,
      "metadata": {
        "colab": {
          "base_uri": "https://localhost:8080/"
        },
        "id": "fws80D192zKI",
        "outputId": "4eb7f1fb-7f4b-4885-e54f-2a4aaa15f895"
      },
      "outputs": [
        {
          "output_type": "stream",
          "name": "stdout",
          "text": [
            "The confidence interval is (49.02001800772997, 50.97998199227003)\n"
          ]
        }
      ],
      "source": [
        "import scipy.stats as stats\n",
        "conf_lvl=.95\n",
        "std=5\n",
        "sample_size=100\n",
        "mean=50\n",
        "std_error=std/(sample_size**0.5)\n",
        "\n",
        "#confidence interval\n",
        "conf_int = stats.norm.interval(conf_lvl, loc=50, scale=std_error)\n",
        "print(\"The confidence interval is\",conf_int)\n"
      ]
    },
    {
      "cell_type": "markdown",
      "source": [
        "**Q2. Conduct a chi-square goodness of fit test to determine if the distribution of colors of M&Ms in a bag\n",
        "matches the expected distribution of 20% blue, 20% orange, 20% green, 10% yellow, 10% red, and 20%\n",
        "brown. Use Python to perform the test with a significance level of 0.05.**"
      ],
      "metadata": {
        "id": "u3NjjJywGTy4"
      }
    },
    {
      "cell_type": "code",
      "source": [
        "import numpy as np\n",
        "import scipy.stats as stats\n",
        "#Observed frequency\n",
        "obsvd=np.array([22, 18, 20, 9, 11, 20])\n",
        "#Expected Frequency\n",
        "expect=np.array([0.2,0.2,0.2,0.1,0.1,0.2])*np.sum(obsvd)\n",
        "#this function give only the chisquare value and the p value \n",
        "chival, p = stats.chisquare(obsvd, f_exp=expect)\n",
        "aplha=0.05\n",
        "if p<aplha:\n",
        "  print(\"reject the null : The distribution of colors in the bag does not match the expected distribution\")\n",
        "else:\n",
        "  print(\"Fail to reject the null Hypothesis\")"
      ],
      "metadata": {
        "colab": {
          "base_uri": "https://localhost:8080/"
        },
        "id": "CW-1nQjAGOsx",
        "outputId": "3e6e04f0-981e-4d25-ace2-e5fdddefb5f7"
      },
      "execution_count": 3,
      "outputs": [
        {
          "output_type": "stream",
          "name": "stdout",
          "text": [
            "Fail to rejec the null Hypothesis\n"
          ]
        }
      ]
    },
    {
      "cell_type": "markdown",
      "source": [
        "Q3. Use Python to calculate the chi-square statistic and p-value for a contingency table with the following\n",
        "data:\n",
        "\n",
        "|S.no      |Group A|Group B|\n",
        "|----------|---------|---------|\n",
        "|outcome  1|20|15|\n",
        "|outcome  2|10|25|\n",
        "|outcome  3|15|20|"
      ],
      "metadata": {
        "id": "1GUK-f_ND9_I"
      }
    },
    {
      "cell_type": "code",
      "source": [
        "\n",
        "import numpy as np\n",
        "import scipy.stats as stats\n",
        "\n",
        "# Define the contingency table\n",
        "cont_table = np.array([[20, 15], [10, 25], [15, 20]])\n",
        "# Calculate the chi-square statistic and p-value\n",
        "chi2, p, dof, expected = stats.chi2_contingency(cont_table)\n",
        "\n",
        "# Compare p-value to the significance level\n",
        "alpha = 0.05\n",
        "if p < alpha:\n",
        "    print(\"Reject null hypothesis - There is a significant association between Group and Outcome.\")\n",
        "else:\n",
        "    print(\"Fail to reject null hypothesis - There is no significant association between Group and Outcome.\")"
      ],
      "metadata": {
        "colab": {
          "base_uri": "https://localhost:8080/"
        },
        "id": "Q0CwPoKeLE_v",
        "outputId": "1ea68bad-80f7-48f7-b25e-098e11aae724"
      },
      "execution_count": 4,
      "outputs": [
        {
          "output_type": "stream",
          "name": "stdout",
          "text": [
            "Fail to reject null hypothesis - There is no significant association between Group and Outcome.\n"
          ]
        }
      ]
    },
    {
      "cell_type": "markdown",
      "source": [
        "**Q4. A study of the prevalence of smoking in a population of 500 individuals found that 60 individuals\n",
        "smoked. Use Python to calculate the 95% confidence interval for the true proportion of individuals in the\n",
        "population who smoke.**"
      ],
      "metadata": {
        "id": "1s35iJDqM5bZ"
      }
    },
    {
      "cell_type": "code",
      "source": [
        "import statsmodels.api as sm\n",
        "\n",
        "# Define the sample size and number of successes (smokers)\n",
        "n = 500\n",
        "successes = 60\n",
        "\n",
        "# Calculate the proportion and standard error\n",
        "prop = successes / n\n",
        "se = sm.stats.proportion.std_error(prop, n)\n",
        "#https://www.statsmodels.org/dev/generated/statsmodels.stats.proportion.proportion_confint.html#statsmodels.stats.proportion.proportion_confint\n",
        "# Calculate the 95% confidence interval\n",
        "ci_low, ci_high = sm.stats.proportion.proportion_confint(successes, n, alpha=0.05, method='wilson')\n",
        "#this finction is used to calculte the confidence interval of binomail propotion\n",
        "# Print the results\n",
        "print(\"Sample proportion: {:.3f}\".format(prop))\n",
        "print(\"Standard error: {:.3f}\".format(se))\n",
        "print(\"95% Confidence interval: [{:.3f}, {:.3f}]\".format(ci_low, ci_high))"
      ],
      "metadata": {
        "id": "edoP_zWcM0Qt"
      },
      "execution_count": null,
      "outputs": []
    },
    {
      "cell_type": "markdown",
      "source": [
        "**Q5. Calculate the 90% confidence interval for a sample of data with a mean of 75 and a standard deviation of 12 using Python. Interpret the results.**"
      ],
      "metadata": {
        "id": "LsqX9aSKO5J3"
      }
    },
    {
      "cell_type": "code",
      "source": [
        "import numpy as np\n",
        "import scipy.stats as stats\n",
        "\n",
        "mean=75\n",
        "n=100\n",
        "std=12\n",
        "std_error=std/np.sqrt(n)\n",
        "\n",
        "\n",
        "ci_low,ci_high=stats.norm.interval(0.9, loc=mean, scale=std_error)\n",
        "print(\"Sample mean: {:.3f}\".format(mean))\n",
        "print(\"Standard error: {:.3f}\".format(std_error))\n",
        "print(\"90% Confidence interval: [{:.3f}, {:.3f}]\".format(ci_low, ci_high))\n"
      ],
      "metadata": {
        "colab": {
          "base_uri": "https://localhost:8080/"
        },
        "id": "U5abSEFeOb95",
        "outputId": "6f839372-85fc-409e-9027-5829202dd53e"
      },
      "execution_count": 10,
      "outputs": [
        {
          "output_type": "stream",
          "name": "stdout",
          "text": [
            "Sample mean: 75.000\n",
            "Standard error: 1.200\n",
            "90% Confidence interval: [73.026, 76.974]\n"
          ]
        }
      ]
    },
    {
      "cell_type": "markdown",
      "source": [
        "**Q6. Use Python to plot the chi-square distribution with 10 degrees of freedom. Label the axes and shade the area corresponding to a chi-square statistic of 15.**"
      ],
      "metadata": {
        "id": "IffZln45QPWr"
      }
    },
    {
      "cell_type": "code",
      "source": [
        "import numpy as np\n",
        "import scipy.stats as stats\n",
        "import matplotlib.pyplot as plt\n",
        "df=10\n",
        "# Define the x range for the plot\n",
        "x = np.linspace(0, 25, 1000)\n",
        "\n",
        "# Calculate the y values (PDF) for the chi-square distribution\n",
        "y = stats.chi2.pdf(x, df)\n",
        "\n",
        "# Plot the chi-square distribution\n",
        "fig, ax = plt.subplots()\n",
        "ax.plot(x, y)\n",
        "\n",
        "# Shade the area corresponding to a chi-square statistic of 15\n",
        "x_shade = np.linspace(15, 25, 1000)\n",
        "y_shade = stats.chi2.pdf(x_shade, df)\n",
        "ax.fill_between(x_shade, y_shade, 0, alpha=0.5)\n",
        "\n",
        "# Add labels to the axes and the plot title\n",
        "ax.set_xlabel(\"Chi-square statistic\")\n",
        "ax.set_ylabel(\"Probability density\")\n",
        "ax.set_title(\"Chi-square distribution with {} degrees of freedom\".format(df))\n",
        "\n",
        "# Show the plot\n",
        "plt.show()\n",
        "\n",
        "     \n",
        "\n"
      ],
      "metadata": {
        "colab": {
          "base_uri": "https://localhost:8080/",
          "height": 472
        },
        "id": "6WYWP2P6PfrA",
        "outputId": "22ebe108-97f6-481e-d936-e0a595fc268a"
      },
      "execution_count": 12,
      "outputs": [
        {
          "output_type": "display_data",
          "data": {
            "text/plain": [
              "<Figure size 640x480 with 1 Axes>"
            ],
            "image/png": "[encoded data removed]"
          },
          "metadata": {}
        }
      ]
    },
    {
      "cell_type": "markdown",
      "source": [
        "**Q7. A random sample of 1000 people was asked if they preferred Coke or Pepsi. Of the sample, 520 preferred Coke. Calculate a 99% confidence interval for the true proportion of people in the population who prefer Coke.**"
      ],
      "metadata": {
        "id": "rnEGz8oRSlUI"
      }
    },
    {
      "cell_type": "code",
      "source": [
        "import scipy.stats as stats\n",
        "import numpy as np\n",
        "n=1000\n",
        "x=520\n",
        "#sample poropotion and sample eror\n",
        "#We can estimate σ using the sample standard deviation √p(1-p) (i.e., the standard deviation of a Bernouilli distribution)\n",
        "sam_por=n/x\n",
        "satd_error = np.sqrt((sam_por * (1 - sam_por)) / n)\n",
        "# Calculate the z-score corresponding to a 99% confidence level\n",
        "z = stats.norm.ppf(0.995)\n",
        "\n",
        "# Calculate the confidence interval\n",
        "lower = sam_por - z * sam_por\n",
        "upper = sam_por + z * sam_por\n",
        "\n",
        "# Print the confidence interval\n",
        "print(\"The 99% confidence interval for the true proportion of people who prefer Coke is ({:.3f}, {:.3f}).\".format(lower, upper))\n",
        "\n"
      ],
      "metadata": {
        "colab": {
          "base_uri": "https://localhost:8080/"
        },
        "id": "IAUiChVdRk_w",
        "outputId": "06f3dfc9-d755-4101-dd77-63dd1b77315b"
      },
      "execution_count": 17,
      "outputs": [
        {
          "output_type": "stream",
          "name": "stdout",
          "text": [
            "The 99% confidence interval for the true proportion of people who prefer Coke is (-3.030, 6.877).\n"
          ]
        },
        {
          "output_type": "stream",
          "name": "stderr",
          "text": [
            "<ipython-input-17-35b74c530547>:8: RuntimeWarning: invalid value encountered in sqrt\n",
            "  satd_error = np.sqrt((sam_por * (1 - sam_por)) / n)\n"
          ]
        }
      ]
    },
    {
      "cell_type": "markdown",
      "source": [
        "**Q8. A researcher hypothesizes that a coin is biased towards tails. They flip the coin 100 times and observe 45 tails. Conduct a chi-square goodness of fit test to determine if the observed frequencies match the expected frequencies of a fair coin. Use a significance level of 0.05.**"
      ],
      "metadata": {
        "id": "hBk-nUSeU5sW"
      }
    },
    {
      "cell_type": "code",
      "source": [
        "\n",
        "import numpy as np\n",
        "import scipy.stats as stats\n",
        "\n",
        "# Define the observed frequency of tails\n",
        "observed = 45\n",
        "\n",
        "# Set the significance level and degrees of freedom\n",
        "alpha = 0.05\n",
        "df = 1\n",
        "\n",
        "# Calculate the critical value\n",
        "critical_value = stats.chi2.ppf(1 - alpha, df)\n",
        "\n",
        "# Calculate the expected frequency of tails\n",
        "expected = 50\n",
        "\n",
        "# Calculate the chi-square statistic\n",
        "chi2 = (observed - expected)**2 / expected\n",
        "\n",
        "# Compare the chi-square statistic to the critical value and interpret the results\n",
        "if chi2 > critical_value:\n",
        "    print(\"We reject the null hypothesis and conclude that the coin is biased towards tails.\")\n",
        "else:\n",
        "    print(\"We fail to reject the null hypothesis and conclude that the coin is fair.\")"
      ],
      "metadata": {
        "colab": {
          "base_uri": "https://localhost:8080/"
        },
        "id": "Wg0C1_-5Uc8N",
        "outputId": "b6449720-dab7-4c14-c424-bc16ed45c3c7"
      },
      "execution_count": 18,
      "outputs": [
        {
          "output_type": "stream",
          "name": "stdout",
          "text": [
            "We fail to reject the null hypothesis and conclude that the coin is fair.\n"
          ]
        }
      ]
    },
    {
      "cell_type": "markdown",
      "source": [
        "**Q9. A study was conducted to determine if there is an association between smoking status (smoker or non-smoker) and lung cancer diagnosis (yes or no). The results are shown in the contingency table below. Conduct a chi-square test for independence to determine if there is a significant association between smoking status and lung cancer diagnosis.**"
      ],
      "metadata": {
        "id": "H9bOYDxiV1bM"
      }
    },
    {
      "cell_type": "code",
      "source": [
        "\n",
        "import numpy as np\n",
        "from scipy.stats import chi2_contingency\n",
        "\n",
        "observed = np.array([ [60, 140], [30, 170]])\n",
        "\n",
        "chi2, pval, dof, expected = chi2_contingency(observed)\n",
        "\n",
        "print(\"Chi-square statistic:\", chi2)\n",
        "print(\"p-value:\", pval)\n",
        "print(\"Degrees of freedom:\", dof)\n"
      ],
      "metadata": {
        "colab": {
          "base_uri": "https://localhost:8080/"
        },
        "id": "a4tmZHjAVi2p",
        "outputId": "2bab4c1e-9a6d-4203-ba79-dc5f96873076"
      },
      "execution_count": 19,
      "outputs": [
        {
          "output_type": "stream",
          "name": "stdout",
          "text": [
            "Chi-square statistic: 12.057347670250895\n",
            "p-value: 0.0005158863863703744\n",
            "Degrees of freedom: 1\n"
          ]
        }
      ]
    },
    {
      "cell_type": "markdown",
      "source": [
        "**Q10. A study was conducted to determine if the proportion of people who prefer milk chocolate, dark chocolate, or white chocolate is different in the U.S. versus the U.K. A random sample of 500 people from the U.S. and a random sample of 500 people from the U.K. were surveyed. The results are shown in the contingency table below. Conduct a chi-square test for independence to determine if there is a significant association between chocolate preference and country of origin.**\n"
      ],
      "metadata": {
        "id": "9CVx9shAWLBP"
      }
    },
    {
      "cell_type": "code",
      "source": [
        "import numpy as np\n",
        "from scipy.stats import chi2_contingency\n",
        "\n",
        "observed = np.array([[120, 250, 130], [100, 300, 100]])\n",
        "\n",
        "chi2, pval, dof, expected = chi2_contingency(observed)\n",
        "\n",
        "print(\"Chi-square statistic:\", chi2)\n",
        "print(\"p-value:\", pval)\n",
        "print(\"Degrees of freedom:\", dof)\n"
      ],
      "metadata": {
        "colab": {
          "base_uri": "https://localhost:8080/"
        },
        "id": "C3YlE3pzWFjx",
        "outputId": "b325dc75-5677-49b6-8d31-0d4a18b13531"
      },
      "execution_count": 21,
      "outputs": [
        {
          "output_type": "stream",
          "name": "stdout",
          "text": [
            "Chi-square statistic: 10.276679841897234\n",
            "p-value: 0.005867422017280105\n",
            "Degrees of freedom: 2\n"
          ]
        }
      ]
    },
    {
      "cell_type": "code",
      "source": [],
      "metadata": {
        "id": "vCtSDR87Wa4x"
      },
      "execution_count": null,
      "outputs": []
    }
  ]
}