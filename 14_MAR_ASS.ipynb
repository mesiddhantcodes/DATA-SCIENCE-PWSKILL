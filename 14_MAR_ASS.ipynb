{
  "nbformat": 4,
  "nbformat_minor": 0,
  "metadata": {
    "colab": {
      "provenance": [],
      "authorship_tag": "ABX9TyPr7nbvyOO1tSxS/L8tWitH",
      "include_colab_link": true
    },
    "kernelspec": {
      "name": "python3",
      "display_name": "Python 3"
    },
    "language_info": {
      "name": "python"
    }
  },
  "cells": [
    {
      "cell_type": "markdown",
      "metadata": {
        "id": "view-in-github",
        "colab_type": "text"
      },
      "source": [
        "<a href=\"https://colab.research.google.com/github/tanishqacodes/DATA-SCIENCE-MASTERS/blob/main/14_MAR_ASS.ipynb\" target=\"_parent\"><img src=\"https://colab.research.google.com/assets/colab-badge.svg\" alt=\"Open In Colab\"/></a>"
      ]
    },
    {
      "cell_type": "markdown",
      "source": [
        "### Q1. Write a Python function that takes in two arrays of data and calculates the F-value for a variance ratio test. The function should return the F-value and the corresponding p-value for the test."
      ],
      "metadata": {
        "id": "eh0gwyxfQzP-"
      }
    },
    {
      "cell_type": "code",
      "source": [
        "import numpy as np\n",
        "from scipy.stats import f\n",
        "\n",
        "def variance_ratio_test(data1, data2):\n",
        "    n1, n2 = len(data1), len(data2)\n",
        "    var1, var2 = np.var(data1, ddof=1), np.var(data2, ddof=1)\n",
        "    f_value = var1 / var2 if var1 > var2 else var2 / var1\n",
        "    p_value = f.sf(f_value, n1-1, n2-1) * 2  # two-tailed test\n",
        "    return f_value, p_value\n"
      ],
      "metadata": {
        "id": "oH5--FFHSJ3Q"
      },
      "execution_count": 1,
      "outputs": []
    },
    {
      "cell_type": "code",
      "source": [
        "data1 = [1, 2, 3, 4, 5]\n",
        "data2 = [2, 4, 6, 8, 10]\n",
        "f_value, p_value = variance_ratio_test(data1, data2)\n",
        "print(f\"F-value: {f_value:.2f}, p-value: {p_value:.4f}\")\n"
      ],
      "metadata": {
        "colab": {
          "base_uri": "https://localhost:8080/"
        },
        "id": "v_AcYSI4RwPI",
        "outputId": "e3e3742e-7e5a-4360-c2c0-cb1c28ab8d7a"
      },
      "execution_count": 2,
      "outputs": [
        {
          "output_type": "stream",
          "name": "stdout",
          "text": [
            "F-value: 4.00, p-value: 0.2080\n"
          ]
        }
      ]
    },
    {
      "cell_type": "markdown",
      "source": [
        "### Q2. Given a significance level of 0.05 and the degrees of freedom for the numerator and denominator of an F-distribution, write a Python function that returns the critical F-value for a two-tailed test."
      ],
      "metadata": {
        "id": "aVVdTzTsRy9I"
      }
    },
    {
      "cell_type": "code",
      "source": [
        "from scipy.stats import f\n",
        "\n",
        "def critical_f_value(dfn, dfd, alpha=0.05):\n",
        "    return f.ppf(alpha/2, dfn, dfd), f.ppf(1-alpha/2, dfn, dfd)\n",
        "\n",
        "dfn = 3\n",
        "dfd = 20\n",
        "alpha = 0.05\n",
        "f_lower, f_upper = critical_f_value(dfn, dfd, alpha)\n",
        "print(f\"Critical F-value for a two-tailed test with dfn={dfn}, dfd={dfd}, and alpha={alpha}: ({f_lower:.3f}, {f_upper:.3f})\")\n"
      ],
      "metadata": {
        "colab": {
          "base_uri": "https://localhost:8080/"
        },
        "id": "Ti5Fc89mR0nJ",
        "outputId": "58c7545e-b798-4fc8-d305-080de990442e"
      },
      "execution_count": 3,
      "outputs": [
        {
          "output_type": "stream",
          "name": "stdout",
          "text": [
            "Critical F-value for a two-tailed test with dfn=3, dfd=20, and alpha=0.05: (0.071, 3.859)\n"
          ]
        }
      ]
    },
    {
      "cell_type": "markdown",
      "source": [
        "### Q3. Write a Python program that generates random samples from two normal distributions with known variances and uses an F-test to determine if the variances are equal. The program should output the F-value, degrees of freedom, and p-value for the test."
      ],
      "metadata": {
        "id": "FO9_28p-Sls4"
      }
    },
    {
      "cell_type": "code",
      "source": [
        "import numpy as np\n",
        "from scipy.stats import f\n",
        "\n",
        "# random samples from two normal distributions\n",
        "mean1, mean2 = 0, 0\n",
        "var1, var2 = 1, 1\n",
        "n1, n2 = 20, 20\n",
        "sample1 = np.random.normal(mean1, np.sqrt(var1), n1)\n",
        "sample2 = np.random.normal(mean2, np.sqrt(var2), n2)\n",
        "\n",
        "# the F-value and p-value\n",
        "dfn = n1 - 1\n",
        "dfd = n2 - 1\n",
        "f_value = np.var(sample1, ddof=1) / np.var(sample2, ddof=1) if var1 > var2 else np.var(sample2, ddof=1) / np.var(sample1, ddof=1)\n",
        "p_value = f.sf(f_value, dfn, dfd) * 2  # two-tailed test\n",
        "\n",
        "# Output \n",
        "print(f\"F-value: {f_value:.2f}\")\n",
        "print(f\"Degrees of freedom: ({dfn}, {dfd})\")\n",
        "print(f\"P-value: {p_value:.4f}\")\n"
      ],
      "metadata": {
        "colab": {
          "base_uri": "https://localhost:8080/"
        },
        "id": "r2Uss7IaSeiI",
        "outputId": "7862dc2c-71c3-417e-ab1d-69c00dc1b096"
      },
      "execution_count": 4,
      "outputs": [
        {
          "output_type": "stream",
          "name": "stdout",
          "text": [
            "F-value: 1.04\n",
            "Degrees of freedom: (19, 19)\n",
            "P-value: 0.9394\n"
          ]
        }
      ]
    },
    {
      "cell_type": "markdown",
      "source": [
        "### Q4.The variances of two populations are known to be 10 and 15. A sample of 12 observations is taken from each population. Conduct an F-test at the 5% significance level to determine if the variances are significantly different."
      ],
      "metadata": {
        "id": "aiBaooQsTVnI"
      }
    },
    {
      "cell_type": "code",
      "source": [
        "import numpy as np\n",
        "from scipy.stats import f\n",
        "\n",
        "# parameters\n",
        "var1 = 10\n",
        "var2 = 15\n",
        "n1 = 12\n",
        "n2 = 12\n",
        "alpha = 0.05\n",
        "\n",
        "# random samples from two normal distributions\n",
        "mean1, mean2 = 0, 0\n",
        "sample1 = np.random.normal(mean1, np.sqrt(var1), n1)\n",
        "sample2 = np.random.normal(mean2, np.sqrt(var2), n2)\n",
        "\n",
        "# F-value and p-value\n",
        "dfn = n1 - 1\n",
        "dfd = n2 - 1\n",
        "f_value = np.var(sample1, ddof=1) / np.var(sample2, ddof=1) if var1 > var2 else np.var(sample2, ddof=1) / np.var(sample1, ddof=1)\n",
        "p_value = f.sf(f_value, dfn, dfd)\n",
        "\n",
        "# Compare the p-value to the significance level\n",
        "if p_value < alpha:\n",
        "    print(f\"The variances are significantly different (F-value = {f_value:.2f}, p-value = {p_value:.4f})\")\n",
        "else:\n",
        "    print(f\"The variances are not significantly different (F-value = {f_value:.2f}, p-value = {p_value:.4f})\")\n"
      ],
      "metadata": {
        "colab": {
          "base_uri": "https://localhost:8080/"
        },
        "id": "hOc5FpW6TS-c",
        "outputId": "4d53f3f0-34c6-4df5-cd2e-3457b21f0fcb"
      },
      "execution_count": 5,
      "outputs": [
        {
          "output_type": "stream",
          "name": "stdout",
          "text": [
            "The variances are not significantly different (F-value = 1.50, p-value = 0.2553)\n"
          ]
        }
      ]
    },
    {
      "cell_type": "markdown",
      "source": [
        "### Q5. A manufacturer claims that the variance of the diameter of a certain product is 0.005. A sample of 25 products is taken, and the sample variance is found to be 0.006. Conduct an F-test at the 1% significance level to determine if the claim is justified."
      ],
      "metadata": {
        "id": "ur--3pGBTtbU"
      }
    },
    {
      "cell_type": "code",
      "source": [
        "# parameters\n",
        "claim_var = 0.005\n",
        "sample_var = 0.006\n",
        "n = 25\n",
        "alpha = 0.01\n",
        "\n",
        "# F-value and p-value\n",
        "dfn = n - 1\n",
        "dfd = np.inf\n",
        "f_value = sample_var / claim_var\n",
        "p_value = f.sf(f_value, dfn, dfd)\n",
        "\n",
        "# Compare the p-value to the significance level\n",
        "if p_value < alpha:\n",
        "    print(f\"The manufacturer's claim is not justified (F-value = {f_value:.2f}, p-value = {p_value:.4f})\")\n",
        "else:\n",
        "    print(f\"The manufacturer's claim is justified (F-value = {f_value:.2f}, p-value = {p_value:.4f})\")\n"
      ],
      "metadata": {
        "colab": {
          "base_uri": "https://localhost:8080/"
        },
        "id": "1hnPg74FTrqR",
        "outputId": "bc107bb4-c613-4ff8-a04c-11a1d0549b93"
      },
      "execution_count": 6,
      "outputs": [
        {
          "output_type": "stream",
          "name": "stdout",
          "text": [
            "The manufacturer's claim is justified (F-value = 1.20, p-value = nan)\n"
          ]
        }
      ]
    },
    {
      "cell_type": "markdown",
      "source": [
        "### Q6. Write a Python function that takes in the degrees of freedom for the numerator and denominator of an F-distribution and calculates the mean and variance of the distribution. The function should return the mean and variance as a tuple."
      ],
      "metadata": {
        "id": "w-LKlpAwT-AA"
      }
    },
    {
      "cell_type": "code",
      "source": [
        "def f_distribution_mean_var(dfn, dfd):\n",
        "    # F-distribution\n",
        "    if dfn <= 2:\n",
        "        mean = float('nan')\n",
        "    else:\n",
        "        mean = dfd / (dfd - 2)\n",
        "    \n",
        "    if dfd <= 4:\n",
        "        var = float('nan')\n",
        "    else:\n",
        "        var = 2 * (dfd ** 2) * (dfn + dfd - 2) / (dfn * (dfd - 2) ** 2 * (dfd - 4))\n",
        "\n",
        "    return mean, var\n",
        "\n",
        "print(f_distribution_mean_var(5, 12))\n"
      ],
      "metadata": {
        "colab": {
          "base_uri": "https://localhost:8080/"
        },
        "id": "vNiEH4ArT8pS",
        "outputId": "39f60106-cfc6-4625-cec7-684082bd2dd5"
      },
      "execution_count": 8,
      "outputs": [
        {
          "output_type": "stream",
          "name": "stdout",
          "text": [
            "(1.2, 1.08)\n"
          ]
        }
      ]
    },
    {
      "cell_type": "markdown",
      "source": [
        "### Q7. A random sample of 10 measurements is taken from a normal population with unknown variance. The sample variance is found to be 25. Another random sample of 15 measurements is taken from another normal population with unknown variance, and the sample variance is found to be 20. Conduct an F-test at the 10% significance level to determine if the variances are significantly different."
      ],
      "metadata": {
        "id": "9I4Py7m7VIWa"
      }
    },
    {
      "cell_type": "code",
      "source": [
        "import scipy.stats as stats\n",
        "\n",
        "# Define the sample variances and degrees of freedom\n",
        "s1 = 25\n",
        "s2 = 20\n",
        "n1 = 10\n",
        "n2 = 15\n",
        "\n",
        "# Calculate the F-statistic and its corresponding p-value\n",
        "f_stat = s1 / s2\n",
        "p_value = stats.f.sf(f_stat, n1-1, n2-1) * 2\n",
        "\n",
        "# Determine if the p-value is less than the significance level\n",
        "alpha = 0.1\n",
        "if p_value < alpha:\n",
        "    print(\"Reject the null hypothesis; the variances are significantly different.\")\n",
        "else:\n",
        "    print(\"Fail to reject the null hypothesis; the variances are not significantly different.\")\n"
      ],
      "metadata": {
        "colab": {
          "base_uri": "https://localhost:8080/"
        },
        "id": "nUUryVzWU-KQ",
        "outputId": "dd12899f-e5fa-491a-a0f3-30d008584470"
      },
      "execution_count": 9,
      "outputs": [
        {
          "output_type": "stream",
          "name": "stdout",
          "text": [
            "Fail to reject the null hypothesis; the variances are not significantly different.\n"
          ]
        }
      ]
    },
    {
      "cell_type": "markdown",
      "source": [
        "### Q8. The following data represent the waiting times in minutes at two different restaurants on a Saturday night: Restaurant A: 24, 25, 28, 23, 22, 20, 27; Restaurant B: 31, 33, 35, 30, 32, 36. Conduct an F-test at the 5% significance level to determine if the variances are significantly different."
      ],
      "metadata": {
        "id": "cF9IwcBFVhO8"
      }
    },
    {
      "cell_type": "code",
      "source": [
        "# the waiting times at the two restaurants\n",
        "a = np.array([24, 25, 28, 23, 22, 20, 27])\n",
        "b = np.array([31, 33, 35, 30, 32, 36])\n",
        "# sample variances and degrees of freedom\n",
        "s_a = np.var(a, ddof=1)\n",
        "s_b = np.var(b, ddof=1)\n",
        "n_a = len(a)\n",
        "n_b = len(b)\n",
        "\n",
        "# Calculate the F-statistic and its corresponding p-value\n",
        "f_stat = s_a / s_b\n",
        "p_value = stats.f.sf(f_stat, n_a-1, n_b-1) * 2\n",
        "\n",
        "# Determine if the p-value is less than the significance level\n",
        "alpha = 0.05\n",
        "if p_value < alpha:\n",
        "    print(\"Reject the null hypothesis; the variances are significantly different.\")\n",
        "else:\n",
        "    print(\"Fail to reject the null hypothesis; the variances are not significantly different.\")\n"
      ],
      "metadata": {
        "colab": {
          "base_uri": "https://localhost:8080/"
        },
        "id": "4gmBZN7SVYzQ",
        "outputId": "edb5aba6-becc-4eb8-e5f1-e8390242f417"
      },
      "execution_count": 10,
      "outputs": [
        {
          "output_type": "stream",
          "name": "stdout",
          "text": [
            "Fail to reject the null hypothesis; the variances are not significantly different.\n"
          ]
        }
      ]
    },
    {
      "cell_type": "markdown",
      "source": [
        "### Q9. The following data represent the test scores of two groups of students: Group A: 80, 85, 90, 92, 87, 83; Group B: 75, 78, 82, 79, 81, 84. Conduct an F-test at the 1% significance level to determine if the variances are significantly different."
      ],
      "metadata": {
        "id": "jDRPu6yDVky4"
      }
    },
    {
      "cell_type": "code",
      "source": [
        "# Define the test scores for the two groups of students\n",
        "a = np.array([80, 85, 90, 92, 87, 83])\n",
        "b = np.array([75, 78, 82, 79, 81, 84])\n",
        "\n",
        "# Calculate the sample variances and degrees of freedom\n",
        "s_a = np.var(a, ddof=1)\n",
        "s_b = np.var(b, ddof=1)\n",
        "n_a = len(a)\n",
        "n_b = len(b)\n",
        "\n",
        "# Calculate the F-statistic and its corresponding p-value\n",
        "f_stat = s_a / s_b\n",
        "p_value = stats.f.sf(f_stat, n_a-1, n_b-1) * 2\n",
        "\n",
        "# Determine if the p-value is less than the significance level\n",
        "alpha = 0.01\n",
        "if p_value < alpha:\n",
        "    print(\"Reject the null hypothesis; the variances are significantly different.\")\n",
        "else:\n",
        "    print(\"Fail to reject the null hypothesis; the variances are not significantly different.\")\n"
      ],
      "metadata": {
        "colab": {
          "base_uri": "https://localhost:8080/"
        },
        "id": "nImca3vjVpsY",
        "outputId": "e8b37568-ed11-4cdf-f3f9-89fd9c55f1ae"
      },
      "execution_count": 11,
      "outputs": [
        {
          "output_type": "stream",
          "name": "stdout",
          "text": [
            "Fail to reject the null hypothesis; the variances are not significantly different.\n"
          ]
        }
      ]
    },
    {
      "cell_type": "code",
      "source": [],
      "metadata": {
        "id": "w1vvIa7jV6Tw"
      },
      "execution_count": null,
      "outputs": []
    }
  ]
}