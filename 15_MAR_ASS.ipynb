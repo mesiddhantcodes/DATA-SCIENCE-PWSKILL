{
  "nbformat": 4,
  "nbformat_minor": 0,
  "metadata": {
    "colab": {
      "provenance": [],
      "authorship_tag": "ABX9TyN2wADnt6axfGHZ2tmdIWNv",
      "include_colab_link": true
    },
    "kernelspec": {
      "name": "python3",
      "display_name": "Python 3"
    },
    "language_info": {
      "name": "python"
    }
  },
  "cells": [
    {
      "cell_type": "markdown",
      "metadata": {
        "id": "view-in-github",
        "colab_type": "text"
      },
      "source": [
        "<a href=\"https://colab.research.google.com/github/tanishqacodes/DATA-SCIENCE-MASTERS/blob/main/15_MAR_ASS.ipynb\" target=\"_parent\"><img src=\"https://colab.research.google.com/assets/colab-badge.svg\" alt=\"Open In Colab\"/></a>"
      ]
    },
    {
      "cell_type": "code",
      "execution_count": null,
      "metadata": {
        "id": "YW_Phmpl913U"
      },
      "outputs": [],
      "source": []
    },
    {
      "cell_type": "markdown",
      "source": [
        "### Q1- Explain the following with an example:\n",
        "* Artificial Intelligence\n",
        "* Machine Learning\n",
        "* Deep Learning\n",
        "\n",
        "1. **Artificial Intelligence:-** \n",
        "    * Artificial Intelligence (AI) refers to the simulation of human intelligence in machines that are programmed to perform tasks that typically require human intelligence, such as learning, problem-solving, decision making, and natural language processing. AI can be classified into various categories, including machine learning, deep learning, natural language processing, and robotics, among others.\n",
        "    \n",
        "2. **Machine Learning:-**\n",
        "    * Machine learning is a subset of AI that focuses on building algorithms and models that enable computers to learn from data without being explicitly programmed. In other words, machine learning involves training a computer to recognize patterns in data and make predictions or decisions based on that data. For example, a machine learning model can be trained on a dataset of customer transactions to predict which customers are likely to churn in the future.\n",
        "\n",
        "3. **Deep Learning:-**\n",
        "      * Deep learning is a subfield of machine learning that is based on neural networks. Deep learning models are designed to automatically learn hierarchical representations of data by using multiple layers of artificial neural networks. These models have shown remarkable success in tasks such as image recognition, speech recognition, natural language processing, and game playing. For example, a deep learning model can be trained to recognize and classify different objects in an image, such as cars, buildings, and people.\n",
        "\n",
        "Example:-An example of how these three concepts can work together is in the field of self-driving cars. The development of self-driving cars requires the use of AI to simulate human decision-making processes, machine learning to train models to recognize and respond to various traffic situations, and deep learning to develop more accurate and efficient image recognition algorithms. By using these technologies together, self-driving cars can make decisions in real-time based on the data gathered by their sensors and cameras, allowing them to safely navigate roads and avoid accidents."
      ],
      "metadata": {
        "id": "Fs8rSwGc96f-"
      }
    },
    {
      "cell_type": "markdown",
      "source": [
        "### Q2- What is supervised learning? List some examples of supervised learning.\n",
        "\n",
        "Supervised learning is a type of machine learning where the algorithm learns from labeled data, which consists of input-output pairs. In other words, the algorithm is trained on a dataset where the desired output is already known, and it learns to map input to output based on the given examples. The goal of supervised learning is to learn a function that can accurately predict the output for new, unseen input data.\n",
        "\n",
        "Some examples of supervised learning include:\n",
        "\n",
        "1. Image classification\n",
        "2. Sentiment analysis\n",
        "3. Speech recognition\n",
        "4. Spam detection\n",
        "5. Regression analysis"
      ],
      "metadata": {
        "id": "GsN-xjnB_FFq"
      }
    },
    {
      "cell_type": "markdown",
      "source": [
        "### Q3- What is unsupervised learning? List some examples of unsupervised learning.\n",
        "\n",
        "Unsupervised learning is a type of machine learning where the algorithm learns from unlabeled data, which does not have any predefined output. In other words, the algorithm is not given any specific output to predict, and it learns to discover patterns or structure in the input data on its own. The goal of unsupervised learning is to identify similarities, differences, or relationships in the data that can be used for further analysis or decision-making.\n",
        "\n",
        "Some examples of unsupervised learning include:\n",
        "\n",
        "1. Clustering\n",
        "2. Dimensionality reduction\n",
        "3. Anomaly detection\n",
        "4. Association rule mining\n",
        "5. Generative models"
      ],
      "metadata": {
        "id": "rNXzHoHJ_7eV"
      }
    },
    {
      "cell_type": "markdown",
      "source": [
        "### Q4- What is the difference between AI, ML, DL, and DS?\n",
        "\n",
        "AI, ML, DL, and DS are all related to data analysis and decision-making, but they have distinct meanings and applications.\n",
        "\n",
        "1. AI (Artificial Intelligence) refers to the development of computer systems that can perform tasks that would typically require human intelligence, such as recognizing speech, playing games, or making decisions. AI includes a wide range of techniques, such as rule-based systems, expert systems, natural language processing, and machine learning.\n",
        "\n",
        "2. ML (Machine Learning) is a subset of AI that involves the development of algorithms that can learn from data without being explicitly programmed. ML algorithms can automatically identify patterns, make predictions, or take actions based on input data. Examples of ML include decision trees, linear regression, support vector machines, and neural networks.\n",
        "\n",
        "3. DL (Deep Learning) is a subset of ML that uses neural networks with multiple layers to learn complex representations of data. DL algorithms can automatically extract features from raw data and learn hierarchical representations that capture the underlying structure of the data. Examples of DL include convolutional neural networks, recurrent neural networks, and deep belief networks.\n",
        "\n",
        "4. DS (Data Science) is an interdisciplinary field that involves the application of statistical and computational methods to extract insights and knowledge from data. Data scientists use techniques from statistics, machine learning, computer science, and domain-specific knowledge to analyze data, build models, and make predictions. Data science encompasses a wide range of activities, including data collection, data preprocessing, data visualization, statistical inference, machine learning, and data-driven decision-making."
      ],
      "metadata": {
        "id": "E6NmACDtAtye"
      }
    },
    {
      "cell_type": "markdown",
      "source": [
        "### Q5- What are the main differences between supervised, unsupervised, and semi-supervised learning?\n",
        "\n",
        "The main differences between supervised, unsupervised, and semi-supervised learning are as follows:\n",
        "\n",
        "1. Supervised Learning: Supervised learning is a type of machine learning where the model is trained on labeled data, i.e., data that has already been classified or categorized. In supervised learning, the model learns to predict output labels from input data. The goal of supervised learning is to create a model that can accurately predict output labels for new, unseen data.\n",
        "\n",
        "2. Unsupervised Learning: Unsupervised learning is a type of machine learning where the model is trained on unlabeled data, i.e., data that has not been categorized or classified. In unsupervised learning, the model learns to identify patterns, structures, and relationships in the data. The goal of unsupervised learning is to discover hidden structures and relationships in the data, without the need for labeled data.\n",
        "\n",
        "3. Semi-Supervised Learning: Semi-supervised learning is a type of machine learning that combines both supervised and unsupervised learning. In semi-supervised learning, the model is trained on a combination of labeled and unlabeled data. The labeled data is used to train the model to make accurate predictions, while the unlabeled data is used to identify patterns and relationships in the data."
      ],
      "metadata": {
        "id": "nz-BW2GfBPqW"
      }
    },
    {
      "cell_type": "markdown",
      "source": [
        "### Q6- What is train, test and validation split? Explain the importance of each term.\n",
        "\n",
        "In machine learning, the data is divided into three subsets: training data, testing data, and validation data. The process of dividing the data into these subsets is called data splitting.\n",
        "\n",
        "1. Training Data: Training data is the data that is used to train a machine learning model. The model learns the patterns and relationships in the data and uses that knowledge to make predictions. The larger the amount of training data, the better the model can learn to generalize and make accurate predictions.\n",
        "\n",
        "2. Testing Data: Testing data is the data that is used to evaluate the performance of a machine learning model. The model is applied to the testing data to make predictions and the accuracy of the predictions is compared to the true values. The goal of testing data is to ensure that the model can make accurate predictions on new, unseen data.\n",
        "\n",
        "3. Validation Data: Validation data is the data that is used to fine-tune the model's parameters and to prevent overfitting. Overfitting occurs when a model is too complex and learns the noise in the training data instead of the underlying patterns. Validation data is used to adjust the model's parameters so that it can generalize well to new, unseen data.\n",
        "\n",
        "The importance of train-test-validation split is that it helps in evaluating the performance of the machine learning model on new, unseen data. The model is trained on the training data, tested on the testing data, and validated on the validation data. This ensures that the model can make accurate predictions on new data that it has not seen before. Additionally, the use of validation data helps in preventing overfitting, which can result in a model that performs poorly on new data. Therefore, train-test-validation split is an important part of machine learning to ensure the accuracy and generalizability of the model."
      ],
      "metadata": {
        "id": "R3nD_4x7Bsqt"
      }
    },
    {
      "cell_type": "markdown",
      "source": [
        "### Q7- How can unsupervised learning be used in anomaly detection?\n",
        "\n",
        "Unsupervised learning can be used for anomaly detection by identifying patterns in the data that are significantly different from the rest of the data. Anomalies are data points that deviate significantly from the normal behavior of the data.\n",
        "\n",
        "One common technique used in unsupervised anomaly detection is clustering. Clustering is the process of grouping similar data points together based on their attributes. In the context of anomaly detection, clustering can be used to identify data points that are significantly different from the rest of the data. These data points may be considered anomalies or outliers.\n",
        "\n",
        "Another technique used in unsupervised anomaly detection is density estimation. Density estimation is the process of estimating the probability density function of the data. In the context of anomaly detection, density estimation can be used to identify regions in the data that have low probability density. These regions may contain anomalies or outliers.\n",
        "\n",
        "Unsupervised anomaly detection can also be performed using techniques such as principal component analysis (PCA) and autoencoders. These techniques are used to identify the most important features of the data and to reconstruct the data using a lower dimensional representation. Anomalies can be detected by identifying data points that have a large reconstruction error."
      ],
      "metadata": {
        "id": "q6_NrLGuCSYa"
      }
    },
    {
      "cell_type": "markdown",
      "source": [
        "### Q8- List down some commonly used supervised learning algorithms and unsupervised learning algorithms.\n",
        "\n",
        "Commonly used supervised learning algorithms include:\n",
        "\n",
        "1. Linear Regression\n",
        "2. Logistic Regression\n",
        "3. Decision Trees\n",
        "4. Random Forest\n",
        "5. Support Vector Machines (SVM)\n",
        "6. Naive Bayes\n",
        "7. K-Nearest Neighbors (KNN)\n",
        "8. Neural Networks\n",
        "\n",
        "Commonly used unsupervised learning algorithms include:\n",
        "\n",
        "1. K-Means Clustering\n",
        "2. Hierarchical Clustering\n",
        "3. Gaussian Mixture Models (GMM)\n",
        "4. Principal Component Analysis (PCA)\n",
        "5. t-Distributed Stochastic Neighbor Embedding (t-SNE)\n",
        "6. Association Rule Learning (Apriori)\n",
        "7. Density-Based Spatial Clustering of Applications with Noise (DBSCAN)\n",
        "8. Self-Organizing Maps (SOM)"
      ],
      "metadata": {
        "id": "DbdbvNURCnh8"
      }
    }
  ]
}