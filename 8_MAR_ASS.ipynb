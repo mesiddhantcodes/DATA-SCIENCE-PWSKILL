{
  "nbformat": 4,
  "nbformat_minor": 0,
  "metadata": {
    "colab": {
      "provenance": [],
      "authorship_tag": "ABX9TyP9AjkuxPsr95PVSUbPM2Ba",
      "include_colab_link": true
    },
    "kernelspec": {
      "name": "python3",
      "display_name": "Python 3"
    },
    "language_info": {
      "name": "python"
    }
  },
  "cells": [
    {
      "cell_type": "markdown",
      "metadata": {
        "id": "view-in-github",
        "colab_type": "text"
      },
      "source": [
        "<a href=\"https://colab.research.google.com/github/tanishqacodes/DATA-SCIENCE-MASTERS/blob/main/8_MAR_ASS.ipynb\" target=\"_parent\"><img src=\"https://colab.research.google.com/assets/colab-badge.svg\" alt=\"Open In Colab\"/></a>"
      ]
    },
    {
      "cell_type": "markdown",
      "source": [
        "### Q1. What is the Probability density function?\n",
        "\n",
        "* The Probability Density Function (PDF) is a function that describes the probability distribution of a continuous random variable. It is used to calculate the probability of a random variable taking a certain value within a given range of values.\n",
        "\n",
        "* The PDF is often denoted by the symbol f(x), where x is the random variable. The PDF can be used to determine other statistical measures, such as the mean and variance of the distribution."
      ],
      "metadata": {
        "id": "8Bmy9HbWUqsV"
      }
    },
    {
      "cell_type": "markdown",
      "source": [
        "### Q2. What are the types of Probability distribution?\n",
        "\n",
        "There are two main types of probability distributions: discrete and continuous.\n",
        "\n",
        "1. **Discrete Probability Distributions:-**\n",
        "    * It is used to model the probability of discrete events, such as the outcome of a coin toss or the number of students in a class who score above a certain grade. \n",
        "    * Examples of discrete probability distributions include the binomial distribution, the Poisson distribution, and the geometric distribution.\n",
        "\n",
        "2. **Continuous Probability Distributions:-**\n",
        "    * It is used to model the probability of continuous events, such as the height or weight of a person, or the time it takes to complete a task. \n",
        "    * Examples of continuous probability distributions include the normal distribution, the uniform distribution, and the exponential distribution."
      ],
      "metadata": {
        "id": "79omvfRKU2gh"
      }
    },
    {
      "cell_type": "markdown",
      "source": [
        "### Q3. Write a Python function to calculate the probability density function of a normal distribution with given mean and standard deviation at a given point.\n",
        "\n"
      ],
      "metadata": {
        "id": "5Y_xzsiBVop1"
      }
    },
    {
      "cell_type": "code",
      "execution_count": 2,
      "metadata": {
        "colab": {
          "base_uri": "https://localhost:8080/"
        },
        "id": "Trh3-XtrUL-6",
        "outputId": "9ba341ed-5972-4d4e-90ae-3f9438dff174"
      },
      "outputs": [
        {
          "output_type": "stream",
          "name": "stdout",
          "text": [
            "0.05399096651318806\n"
          ]
        }
      ],
      "source": [
        "import math\n",
        "\n",
        "def normalPdf(x, mean, std_dev):\n",
        "    variance = std_dev**2\n",
        "    exp_term = math.exp(-(x-mean)**2/(2*variance))\n",
        "    coeff = 1/(math.sqrt(2*math.pi*variance))\n",
        "    pdf = coeff * exp_term\n",
        "    return pdf\n",
        "\n",
        "pdf_value = normalPdf(x=2, mean=0, std_dev=1)\n",
        "print(pdf_value)"
      ]
    },
    {
      "cell_type": "markdown",
      "source": [
        "### Q4. What are the properties of Binomial distribution? Give two examples of events where binomial distribution can be applied.\n",
        "\n",
        "* The Binomial distribution is a discrete probability distribution that is used to model the number of successes in a fixed number of independent trials with two possible outcomes (usually labeled as success or failure).\n",
        "\n",
        "The Binomial distribution has the following properties:\n",
        "\n",
        "  1. The trials are independent.\n",
        "  2. Each trial has two possible outcomes (success or failure).\n",
        "  3. The probability of success is constant for each trial.\n",
        "  4. The trials are identical in nature.\n",
        "\n",
        "Two examples of events where Binomial distribution can be applied are:\n",
        "\n",
        "  1. Tossing a Coin.\n",
        "  2. Manufacturing Defects."
      ],
      "metadata": {
        "id": "XhSpAqYpXV5u"
      }
    },
    {
      "cell_type": "markdown",
      "source": [
        "### Q5. Generate a random sample of size 1000 from a binomial distribution with probability of success 0.4 and plot a histogram of the results using matplotlib."
      ],
      "metadata": {
        "id": "v89beY0GYFca"
      }
    },
    {
      "cell_type": "code",
      "source": [
        "import numpy as np\n",
        "import matplotlib.pyplot as plt\n",
        "\n",
        "# set the parameters\n",
        "n = 10\n",
        "p = 0.4\n",
        "size = 1000\n",
        "\n",
        "# generate the random sample\n",
        "binomial_sample = np.random.binomial(n, p, size=size)\n",
        "\n",
        "# plot the histogram\n",
        "plt.hist(binomial_sample, bins=range(0, n+1), align='left', density=True)\n",
        "plt.xlabel('Number of Successes')\n",
        "plt.ylabel('Probability')\n",
        "plt.title('Binomial Distribution with n=10, p=0.4')\n",
        "plt.show()\n"
      ],
      "metadata": {
        "colab": {
          "base_uri": "https://localhost:8080/",
          "height": 295
        },
        "id": "0HGSjmq8V6jB",
        "outputId": "8c2b4c48-9925-467d-c9cc-7d11a5372ea9"
      },
      "execution_count": 3,
      "outputs": [
        {
          "output_type": "display_data",
          "data": {
            "text/plain": [
              "<Figure size 432x288 with 1 Axes>"
            ],
            "image/png": "[encoded data removed]"
          },
          "metadata": {
            "needs_background": "light"
          }
        }
      ]
    },
    {
      "cell_type": "markdown",
      "source": [
        "### Q6. Write a Python function to calculate the cumulative distribution function of a Poisson distribution with given mean at a given point."
      ],
      "metadata": {
        "id": "7qi9tSnkYRuL"
      }
    },
    {
      "cell_type": "code",
      "source": [
        "import math\n",
        "\n",
        "def poissonCdf(x, mean):\n",
        "    cdf = 0\n",
        "    for i in range(x+1):\n",
        "        cdf += math.exp(-mean) * (mean**i) / math.factorial(i)\n",
        "    return cdf\n",
        "\n",
        "cdfValue = poissonCdf(x=2, mean=3)\n",
        "print(cdfValue)\n",
        "\n"
      ],
      "metadata": {
        "colab": {
          "base_uri": "https://localhost:8080/"
        },
        "id": "LInya2ASYMOn",
        "outputId": "1440c250-2ca4-46d6-eae7-b5b527c04c78"
      },
      "execution_count": 4,
      "outputs": [
        {
          "output_type": "stream",
          "name": "stdout",
          "text": [
            "0.42319008112684353\n"
          ]
        }
      ]
    },
    {
      "cell_type": "markdown",
      "source": [
        "### Q7. How Binomial distribution different from Poisson distribution?\n",
        "\n",
        "Binomial and Poisson distributions are both used to model the number of occurrences of a certain event in a fixed number of trials or time intervals. However, they differ in the following ways:\n",
        "\n",
        "1. **Assumptions:** The Binomial distribution assumes that each trial is independent, has only two possible outcomes (success or failure), and the probability of success is constant across all trials. The Poisson distribution assumes that the events occur randomly and independently of each other, and the rate of occurrence is constant over time or space.\n",
        "\n",
        "2. **Type of events:** The Binomial distribution is used to model the number of successes in a fixed number of trials, while the Poisson distribution is used to model the number of events that occur in a fixed time interval or space.\n",
        "\n",
        "3. **Parameters:** The Binomial distribution has two parameters, n (the number of trials) and p (the probability of success in each trial), while the Poisson distribution has one parameter, λ (the rate of occurrence of the event).\n",
        "\n",
        "4. **Nature of the variables:** The Binomial distribution is a discrete probability distribution, since the number of successes can only take on integer values. The Poisson distribution is also a discrete probability distribution, but can take on any non-negative integer value.\n",
        "\n",
        "5. **Approximation:** The Poisson distribution can be used as an approximation of the Binomial distribution when n is large and p is small, since in this case the mean of the Binomial distribution (np) approaches the rate parameter of the Poisson distribution (λ=np). This is known as the Poisson approximation to the Binomial distribution."
      ],
      "metadata": {
        "id": "ZOjjfc6pYWA7"
      }
    },
    {
      "cell_type": "markdown",
      "source": [
        "### Q8. Generate a random sample of size 1000 from a Poisson distribution with mean 5 and calculate the sample mean and variance."
      ],
      "metadata": {
        "id": "mOe3DWtfY40S"
      }
    },
    {
      "cell_type": "code",
      "source": [
        "import numpy as np\n",
        "\n",
        "# set the parameters\n",
        "mean = 5\n",
        "size = 1000\n",
        "\n",
        "# generate the random sample\n",
        "poisson_sample = np.random.poisson(mean, size=size)\n",
        "\n",
        "# calculate the sample mean and variance\n",
        "sample_mean = np.mean(poisson_sample)\n",
        "sample_var = np.var(poisson_sample, ddof=1)\n",
        "\n",
        "print(\"Sample Mean: \", sample_mean)\n",
        "print(\"Sample Variance: \", sample_var)\n"
      ],
      "metadata": {
        "colab": {
          "base_uri": "https://localhost:8080/"
        },
        "id": "5uKQZ6OqZ2XQ",
        "outputId": "e98fecdf-650c-4e7c-c395-114f0cdba282"
      },
      "execution_count": 5,
      "outputs": [
        {
          "output_type": "stream",
          "name": "stdout",
          "text": [
            "Sample Mean:  4.957\n",
            "Sample Variance:  4.399550550550551\n"
          ]
        }
      ]
    },
    {
      "cell_type": "markdown",
      "source": [
        "### Q9. How mean and variance are related in Binomial distribution and Poisson distribution?\n",
        "\n",
        "The binomial distribution and the Poisson distribution are two commonly used probability distributions that are used to model different types of events.\n",
        "\n",
        "In the case of the binomial distribution, which models the number of successes in a fixed number of independent trials, the mean (μ) and variance (σ^2) are related as follows:\n",
        "\n",
        "μ = np\n",
        "σ^2 = np(1-p)\n",
        "\n",
        "Where n is the number of trials, p is the probability of success in each trial.\n",
        "\n",
        "In the case of the Poisson distribution, which models the number of events occurring in a fixed interval of time or space, the mean (μ) and variance (σ^2) are related as follows:\n",
        "\n",
        "μ = λ\n",
        "σ^2 = λ\n",
        "\n",
        "Where λ is the average number of events occurring in the fixed interval."
      ],
      "metadata": {
        "id": "tlQ5M9olh3Yr"
      }
    },
    {
      "cell_type": "markdown",
      "source": [
        "### Q10. In normal distribution with respect to mean position, where does the least frequent data appear?\n",
        "\n",
        "In a normal distribution, the least frequent data appears in the tails of the distribution, which are located farthest away from the mean.\n",
        "\n",
        "In a symmetrical normal distribution, about 68% of the data falls within one standard deviation of the mean, about 95% of the data falls within two standard deviations of the mean, and about 99.7% of the data falls within three standard deviations of the mean. The remaining 0.3% of the data is split equally between the two tails of the distribution, with 0.15% of the data falling to the left of the mean and 0.15% of the data falling to the right of the mean.\n",
        "\n",
        "Therefore, the least frequent data in a normal distribution with respect to mean position appears in the tails, which are located more than three standard deviations away from the mean. These extreme values are also referred to as outliers."
      ],
      "metadata": {
        "id": "pRClKmVKi0n9"
      }
    }
  ]
}