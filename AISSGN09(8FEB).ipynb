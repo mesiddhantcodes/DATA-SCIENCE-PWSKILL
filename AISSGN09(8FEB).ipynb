{
  "nbformat": 4,
  "nbformat_minor": 0,
  "metadata": {
    "colab": {
      "provenance": [],
      "authorship_tag": "ABX9TyMdC6F+Cy+SLSb4swd1wa/j",
      "include_colab_link": true
    },
    "kernelspec": {
      "name": "python3",
      "display_name": "Python 3"
    },
    "language_info": {
      "name": "python"
    }
  },
  "cells": [
    {
      "cell_type": "markdown",
      "metadata": {
        "id": "view-in-github",
        "colab_type": "text"
      },
      "source": [
        "<a href=\"https://colab.research.google.com/github/mesiddhantcodes/DATA-SCIENCE-PWSKILL-/blob/main/AISSGN09(8FEB).ipynb\" target=\"_parent\"><img src=\"https://colab.research.google.com/assets/colab-badge.svg\" alt=\"Open In Colab\"/></a>"
      ]
    },
    {
      "cell_type": "markdown",
      "source": [
        "Q1. What is Abstraction in OOps? Explain with an example."
      ],
      "metadata": {
        "id": "N7cqPlpPgDPd"
      }
    },
    {
      "cell_type": "code",
      "execution_count": null,
      "metadata": {
        "id": "9Z9kisPOf8Sr"
      },
      "outputs": [],
      "source": [
        "#Abstraction in Object-Oriented Programming (OOP) is a mechanism of hiding the internal details and showing only the necessary information to the users. \n",
        "#It is a process of focusing on essential features and ignoring the non-essential details."
      ]
    },
    {
      "cell_type": "markdown",
      "source": [
        "Q2.Differentiate between Abstraction and Encapsulation. Explain with an example."
      ],
      "metadata": {
        "id": "0y6CVjIBgRqR"
      }
    },
    {
      "cell_type": "code",
      "source": [
        "#ABSTRACTION\n",
        "# Abstraction refers to the ability of a software component to hide implementation details from the user and expose only the necessary information.\n",
        "#The goal of abstraction is to simplify the use of a component by reducing the complexity and allowing the user to focus on what the component does rather than how it does it.\n",
        "\n",
        "#ENCAPSULATION\n",
        "#Encapsulation refers to the bundling of data and functions that operate on that data within a single component.\n",
        "#This bundling helps to promote the concept of data hiding, as it prevents users from accessing the internal data directly and encourages them to use the interface provided by the component.\n",
        "\n",
        "\n",
        "#EXAMPLE\n",
        "#\n",
        "#consider a class in an object-oriented programming language that represents a car. The abstraction of this class would be the representation of the car as a single entity with \n",
        " #specific set of behaviors (such as start, stop, drive, etc.) and properties (such as color, make, model, etc.). \n",
        "#The encapsulation of this class would be the implementation of these behaviors and properties as functions and data members within the class, respectively,\n",
        " #that are inaccessible directly from outside the class and can only be manipulated through the class's public interface."
      ],
      "metadata": {
        "id": "h-ZDthNEgYyd"
      },
      "execution_count": null,
      "outputs": []
    },
    {
      "cell_type": "markdown",
      "source": [
        "Q3. What is abc module in python? Why is it used?"
      ],
      "metadata": {
        "id": "AIm88650hCr6"
      }
    },
    {
      "cell_type": "code",
      "source": [
        "#The abc (Abstract Base Class) module in Python is a module that provides support for abstract base classes.\n",
        "#An abstract base class is a class that cannot be instantiated and is meant to provide a common interface for its subclasses. \n",
        "#The idea behind abstract base classes is to define a set of methods that must be implemented by any concrete subclass that wants to conform to the interface defined by the abstract base class.\n",
        "# The abc module provides a mechanism for defining abstract base classes in P\n",
        "\n",
        "# WHY  IT IS USED\n",
        "#The abc module is used in Python to enforce an interface for classes in a clear and concise manner. By using the abc module, developers can define an interface that their classes must implement,\n",
        " ensuring that the classes have the desired properties and behaviors. \n",
        "#This is especially useful in large systems where many classes interact with each other, as it helps to ensure consistency and compatibility among the classes."
      ],
      "metadata": {
        "id": "aQHAzo1GhD95"
      },
      "execution_count": null,
      "outputs": []
    },
    {
      "cell_type": "markdown",
      "source": [
        "Q4.How can we achieve data abstraction?"
      ],
      "metadata": {
        "id": "-phyIeWbhsl5"
      }
    },
    {
      "cell_type": "code",
      "source": [
        "#Data abstraction can be achieved by creating a logical or conceptual view of data that hides the underlying complexity of the data and only exposes relevant information to the user.\n",
        "#This can be accomplished through the use of classes and objects in object-oriented programming, or by implementing data structures such as abstract data types and encapsulation. \n",
        "#Additionally, data can be abstracted through the use of databases, where the data is stored in a structured way and can be accessed through a high-level interface, such as SQL."
      ],
      "metadata": {
        "id": "WoaJbKurhuF8"
      },
      "execution_count": null,
      "outputs": []
    },
    {
      "cell_type": "markdown",
      "source": [
        "Q5.Can we create an instance of an abstract class? Explain your answer."
      ],
      "metadata": {
        "id": "0ks9PzETh775"
      }
    },
    {
      "cell_type": "code",
      "source": [
        "#No, you cannot create an instance of an abstract class. An abstract class is a class that is declared with the \"abstract\" keyword and it is intended to be used as a base class. \n",
        "#It cannot be instantiated on its own, as its purpose is to provide a common interface and implementation details for its subclasses.\n",
        "#In order to use an abstract class, you need to creaate a subclass that inherits from it and implements the abstract methods declared in the abstract class. "
      ],
      "metadata": {
        "id": "cIMDVN5vh_8T"
      },
      "execution_count": null,
      "outputs": []
    }
  ]
}
