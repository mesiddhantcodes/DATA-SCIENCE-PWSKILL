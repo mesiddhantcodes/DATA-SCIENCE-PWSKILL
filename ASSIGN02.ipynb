{
  "nbformat": 4,
  "nbformat_minor": 0,
  "metadata": {
    "colab": {
      "provenance": [],
      "toc_visible": true
    },
    "kernelspec": {
      "name": "python3",
      "display_name": "Python 3"
    },
    "language_info": {
      "name": "python"
    }
  },
  "cells": [
    {
      "cell_type": "markdown",
      "source": [
        "# Assignment : 02"
      ],
      "metadata": {
        "id": "uNUXaDdcV75f"
      }
    },
    {
      "cell_type": "markdown",
      "source": [
        "1. "
      ],
      "metadata": {
        "id": "1uCIGfWRV5O7"
      }
    },
    {
      "cell_type": "code",
      "execution_count": null,
      "metadata": {
        "colab": {
          "base_uri": "https://localhost:8080/"
        },
        "id": "iH7cgiVDJkqQ",
        "outputId": "cd5a3e21-fea1-412d-aaef-f91e8bd62141"
      },
      "outputs": [
        {
          "output_type": "execute_result",
          "data": {
            "text/plain": [
              "False"
            ]
          },
          "metadata": {},
          "execution_count": 33
        }
      ],
      "source": [
        "p = float(input('Enter total percetage : '))\n",
        "print('Grade : ', end='')\n",
        "if p>90 :\n",
        "    print('A')\n",
        "elif p>80 and p<=90 :\n",
        "    print('B')\n",
        "elif p>=60 and p<=80 :\n",
        "    print('C')\n",
        "else : print('D')"
      ]
    },
    {
      "cell_type": "markdown",
      "source": [
        "2. "
      ],
      "metadata": {
        "id": "8uxuQqK2V3DI"
      }
    },
    {
      "cell_type": "code",
      "source": [
        "cost = float(input('Enter total cost (in Rs) : '))\n",
        "print('Tex : ', end='')\n",
        "if cost>100000 :\n",
        "  print('15%')\n",
        "elif cost > 50000 and cost <= 100000 :\n",
        "  print('10%')\n",
        "else : print('5%')"
      ],
      "metadata": {
        "colab": {
          "base_uri": "https://localhost:8080/"
        },
        "id": "XNNw_sgSPbi0",
        "outputId": "858a5c4c-1d5f-4009-c11e-3bcc3c552c1c"
      },
      "execution_count": null,
      "outputs": [
        {
          "output_type": "stream",
          "name": "stdout",
          "text": [
            "Enter total cost (in Rs) : 160000\n",
            "Tex : 15%\n"
          ]
        }
      ]
    },
    {
      "cell_type": "markdown",
      "source": [
        "3."
      ],
      "metadata": {
        "id": "quHFD80gV1kV"
      }
    },
    {
      "cell_type": "code",
      "source": [
        "city = input('Enter city name : ')\n",
        "print('Monument : ', end='')\n",
        "if city=='Delhi':\n",
        "  print('Red Fort')\n",
        "elif city=='Agra':\n",
        "  print('Taj Mahal')\n",
        "elif city=='Jaipur':\n",
        "  print('Jal Mahal')\n"
      ],
      "metadata": {
        "colab": {
          "base_uri": "https://localhost:8080/"
        },
        "id": "AF2u8E3FQgBc",
        "outputId": "2069e027-cf2b-456f-9348-7f6374391a10"
      },
      "execution_count": null,
      "outputs": [
        {
          "output_type": "stream",
          "name": "stdout",
          "text": [
            "Enter city name : Agra\n",
            "Monument : Taj Mahal\n"
          ]
        }
      ]
    },
    {
      "cell_type": "markdown",
      "source": [
        "4. "
      ],
      "metadata": {
        "id": "Tz-aqNm0VvVb"
      }
    },
    {
      "cell_type": "code",
      "source": [
        "num = int(input('Enter number : '))\n",
        "print('Count is : ', end='')\n",
        "count = 0;\n",
        "while num>10:\n",
        "  count+=1;\n",
        "  num/=3;\n",
        "print(count)"
      ],
      "metadata": {
        "colab": {
          "base_uri": "https://localhost:8080/"
        },
        "id": "GsO8ZvuERYop",
        "outputId": "1f48f505-6be7-4203-e9af-b18ef0f32774"
      },
      "execution_count": null,
      "outputs": [
        {
          "output_type": "stream",
          "name": "stdout",
          "text": [
            "Enter number : 4\n",
            "Count is : 0\n"
          ]
        }
      ]
    },
    {
      "cell_type": "markdown",
      "source": [
        "5. "
      ],
      "metadata": {
        "id": "QhK2G4yLVzIo"
      }
    },
    {
      "cell_type": "markdown",
      "source": [
        "A `while` loop in Python is used to repeatedly execute a block of code as long as a certain condition is met. The structure of a `while` loop in Python is as follows:\n",
        "```\n",
        "while condition:\n",
        "    # code to be executed\n",
        "```\n",
        "\n",
        "  The code inside the loop will be executed as long as the `condition` is true. Once the condition becomes false, the loop will stop and the program will continue to execute the next line of code after the loop.\n",
        "\n",
        "  Here is an example that prints the numbers from 1 to 10 using a while loop:\n",
        "\n",
        "  ```\n",
        "  count = 1\n",
        "  while count <= 10:\n",
        "      print(count)\n",
        "      count += 1\n",
        "  ```\n",
        "  In this example, the `count` variable is used as the condition for the while loop. The loop will continue to execute as long as `count` is less than or equal to 10. At the end of each iteration, the `count` is incremented by 1 using `count += 1`. Once `count` becomes 11, the loop will stop and the program will continue to execute the next line of code after the loop.\n",
        "\n",
        "  It is important to note that if the condition for the while loop is never met, the loop will run forever, resulting in an infinite loop. To prevent this, make sure that the condition will eventually become false."
      ],
      "metadata": {
        "id": "obbxG_jDUhky"
      }
    },
    {
      "cell_type": "markdown",
      "source": [
        "6. "
      ],
      "metadata": {
        "id": "8Ii29o0CWR1G"
      }
    },
    {
      "cell_type": "markdown",
      "source": [
        "Here is how you can use nested while loops to print three different patterns:"
      ],
      "metadata": {
        "id": "jyApKqEMYAhX"
      }
    },
    {
      "cell_type": "markdown",
      "source": [
        "* Triangle pattern:"
      ],
      "metadata": {
        "id": "LVZUjHB9YIIR"
      }
    },
    {
      "cell_type": "code",
      "source": [
        "# _for e.g,\n",
        "i = 1\n",
        "while i <= 5:\n",
        "    j = 1\n",
        "    while j <= i:\n",
        "        print(\"*\", end=\"\")\n",
        "        j += 1\n",
        "    print(\"\")\n",
        "    i += 1\n"
      ],
      "metadata": {
        "colab": {
          "base_uri": "https://localhost:8080/"
        },
        "id": "a7HDytrZSxKt",
        "outputId": "2f0089b7-91b6-4763-c0f2-8ee1edf37837"
      },
      "execution_count": null,
      "outputs": [
        {
          "output_type": "stream",
          "name": "stdout",
          "text": [
            "*\n",
            "**\n",
            "***\n",
            "****\n",
            "*****\n"
          ]
        }
      ]
    },
    {
      "cell_type": "markdown",
      "source": [
        "* Reverse Triangle pattern:"
      ],
      "metadata": {
        "id": "0I-GZ7VQYM1z"
      }
    },
    {
      "cell_type": "code",
      "source": [
        "# _for e.g,\n",
        "i = 5\n",
        "while i >= 1:\n",
        "    j = 1\n",
        "    while j <= i:\n",
        "        print(\"*\", end=\"\")\n",
        "        j += 1\n",
        "    print(\"\")\n",
        "    i -= 1\n"
      ],
      "metadata": {
        "colab": {
          "base_uri": "https://localhost:8080/"
        },
        "id": "wMwaVJIbYRVa",
        "outputId": "63d97674-d9c5-4151-89c6-1b4c2f183fab"
      },
      "execution_count": null,
      "outputs": [
        {
          "output_type": "stream",
          "name": "stdout",
          "text": [
            "*****\n",
            "****\n",
            "***\n",
            "**\n",
            "*\n"
          ]
        }
      ]
    },
    {
      "cell_type": "markdown",
      "source": [
        "* Diamond pattern:"
      ],
      "metadata": {
        "id": "571CEqY7YXBQ"
      }
    },
    {
      "cell_type": "code",
      "source": [
        "# _for e.g,\n",
        "i = 1\n",
        "while i <= 5:\n",
        "    j = 1\n",
        "    while j <= 5 - i:\n",
        "        print(\" \", end=\"\")\n",
        "        j += 1\n",
        "    k = 1\n",
        "    while k <= 2 * i - 1:\n",
        "        print(\"*\", end=\"\")\n",
        "        k += 1\n",
        "    print(\"\")\n",
        "    i += 1\n",
        "\n",
        "i = 4\n",
        "while i >= 1:\n",
        "    j = 1\n",
        "    while j <= 5 - i:\n",
        "        print(\" \", end=\"\")\n",
        "        j += 1\n",
        "    k = 1\n",
        "    while k <= 2 * i - 1:\n",
        "        print(\"*\", end=\"\")\n",
        "        k += 1\n",
        "    print(\"\")\n",
        "    i -= 1\n"
      ],
      "metadata": {
        "colab": {
          "base_uri": "https://localhost:8080/"
        },
        "id": "pwawmgjzYbuQ",
        "outputId": "93ef54a1-7524-4a35-e421-5a0add4f502e"
      },
      "execution_count": null,
      "outputs": [
        {
          "output_type": "stream",
          "name": "stdout",
          "text": [
            "    *\n",
            "   ***\n",
            "  *****\n",
            " *******\n",
            "*********\n",
            " *******\n",
            "  *****\n",
            "   ***\n",
            "    *\n"
          ]
        }
      ]
    },
    {
      "cell_type": "markdown",
      "source": [
        "7. > **Note :**  There is Que.07 & Que.08 both are same.\n",
        "\n"
      ],
      "metadata": {
        "id": "eA1qpxfgI0se"
      }
    },
    {
      "cell_type": "code",
      "source": [
        "# _The 7th and 8th both of Questions are same.\n",
        "i = 10\n",
        "while i > 0:\n",
        "    print(i)\n",
        "    i = i - 1"
      ],
      "metadata": {
        "colab": {
          "base_uri": "https://localhost:8080/"
        },
        "id": "qKD6Bx6pZIJn",
        "outputId": "b26c7934-337e-44e6-a63d-acbc8d1e9bce"
      },
      "execution_count": null,
      "outputs": [
        {
          "output_type": "stream",
          "name": "stdout",
          "text": [
            "10\n",
            "9\n",
            "8\n",
            "7\n",
            "6\n",
            "5\n",
            "4\n",
            "3\n",
            "2\n",
            "1\n"
          ]
        }
      ]
    },
    {
      "cell_type": "markdown",
      "source": [
        "8. > **Note :**  There is Que.07 & Que.08 both are same."
      ],
      "metadata": {
        "id": "28Ro_06HJmhI"
      }
    },
    {
      "cell_type": "code",
      "source": [
        "# _The 7th and 8th both of Questions are same.\n",
        "i = 10\n",
        "while i > 0:\n",
        "    print(i)\n",
        "    i = i - 1"
      ],
      "metadata": {
        "colab": {
          "base_uri": "https://localhost:8080/"
        },
        "id": "Zxu7683PJrQF",
        "outputId": "6af432ad-dac0-4e7e-ca2c-a8082f4726e9"
      },
      "execution_count": 1,
      "outputs": [
        {
          "output_type": "stream",
          "name": "stdout",
          "text": [
            "10\n",
            "9\n",
            "8\n",
            "7\n",
            "6\n",
            "5\n",
            "4\n",
            "3\n",
            "2\n",
            "1\n"
          ]
        }
      ]
    }
  ]
}