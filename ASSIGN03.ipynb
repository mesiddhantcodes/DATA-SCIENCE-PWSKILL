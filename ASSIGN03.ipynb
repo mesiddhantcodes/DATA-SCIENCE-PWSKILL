{
  "nbformat": 4,
  "nbformat_minor": 0,
  "metadata": {
    "colab": {
      "provenance": [],
      "authorship_tag": "ABX9TyPxDwEiFQe3+J8viSFD5eeJ",
      "include_colab_link": true
    },
    "kernelspec": {
      "name": "python3",
      "display_name": "Python 3"
    },
    "language_info": {
      "name": "python"
    }
  },
  "cells": [
    {
      "cell_type": "markdown",
      "metadata": {
        "id": "view-in-github",
        "colab_type": "text"
      },
      "source": [
        "<a href=\"https://colab.research.google.com/github/mesiddhantcodes/DATA-SCIENCE-PWSKILL-/blob/main/ASSIGN03.ipynb\" target=\"_parent\"><img src=\"https://colab.research.google.com/assets/colab-badge.svg\" alt=\"Open In Colab\"/></a>"
      ]
    },
    {
      "cell_type": "markdown",
      "source": [
        "ASSIGNMENT 03"
      ],
      "metadata": {
        "id": "GThczy9edapC"
      }
    },
    {
      "cell_type": "markdown",
      "source": [
        "1. For loop is used when know the number of iterations before applying the    loop  condition \n",
        ". It  iterate over a sequence (list, tuple, string, etc.). "
      ],
      "metadata": {
        "id": "GC0sXH2Kdg9y"
      }
    },
    {
      "cell_type": "code",
      "execution_count": 1,
      "metadata": {
        "id": "fR_F0nSicxDQ",
        "colab": {
          "base_uri": "https://localhost:8080/"
        },
        "outputId": "913cdaba-5378-402f-a4e2-c040860a3d90"
      },
      "outputs": [
        {
          "output_type": "stream",
          "name": "stdout",
          "text": [
            "apple\n",
            "banana\n",
            "cherry\n"
          ]
        }
      ],
      "source": [
        "fruits = [\"apple\", \"banana\", \"cherry\"]\n",
        "for fruit in fruits:\n",
        "    print(fruit)\n"
      ]
    },
    {
      "cell_type": "markdown",
      "source": [
        "A while loop is used when we want to execute a block of code as long as a certain condition is true.\n"
      ],
      "metadata": {
        "id": "jv2ug_LcnUfN"
      }
    },
    {
      "cell_type": "code",
      "source": [
        "i = 1\n",
        "while i <= 10:\n",
        "    print(i)\n",
        "    i += 1\n"
      ],
      "metadata": {
        "colab": {
          "base_uri": "https://localhost:8080/"
        },
        "id": "s5NxNe4tnfih",
        "outputId": "c1a6e39a-044b-4155-db1d-718220178362"
      },
      "execution_count": 2,
      "outputs": [
        {
          "output_type": "stream",
          "name": "stdout",
          "text": [
            "1\n",
            "2\n",
            "3\n",
            "4\n",
            "5\n",
            "6\n",
            "7\n",
            "8\n",
            "9\n",
            "10\n"
          ]
        }
      ]
    },
    {
      "cell_type": "markdown",
      "source": [],
      "metadata": {
        "id": "qayw4i3idWEJ"
      }
    },
    {
      "cell_type": "code",
      "source": [
        "#2\n",
        "# Using for loop\n",
        "sum = 0\n",
        "product = 1\n",
        "for i in range(1, 11):\n",
        "    sum += i\n",
        "    product *= i\n",
        "print(\"Sum of first 10 natural numbers:\", sum)\n",
        "print(\"Product of first 10 natural numbers:\", product)\n",
        "\n",
        "\n",
        "\n",
        "# Using while loop\n",
        "i = 1\n",
        "sum = 0\n",
        "product = 1\n",
        "while i <= 10:\n",
        "    sum += i\n",
        "    product *= i\n",
        "    i += 1\n",
        "print(\"Sum of first 10 natural numbers:\", sum)\n",
        "print(\"Product of first 10 natural numbers:\", product)\n"
      ],
      "metadata": {
        "colab": {
          "base_uri": "https://localhost:8080/"
        },
        "id": "NyBjPrXVnyDU",
        "outputId": "54fa280e-b8c3-4e79-bec4-c9ff02d754c1"
      },
      "execution_count": 4,
      "outputs": [
        {
          "output_type": "stream",
          "name": "stdout",
          "text": [
            "Sum of first 10 natural numbers: 55\n",
            "Product of first 10 natural numbers: 3628800\n",
            "Sum of first 10 natural numbers: 55\n",
            "Product of first 10 natural numbers: 3628800\n"
          ]
        }
      ]
    },
    {
      "cell_type": "code",
      "source": [
        "#3\n",
        "units = int(input(\"Enter the units of electricity consumed: \"))\n",
        "if units <= 100:\n",
        "    bill = units * 4.5\n",
        "elif units <= 200:\n",
        "    bill = 100 * 4.5 + (units - 100) * 6\n",
        "elif units <= 300:\n",
        "    bill = 100 * 4.5 + 100 * 6 + (units - 200) * 10\n",
        "else:\n",
        "    bill = 100 * 4.5 + 100 * 6 + 100 * 10 + (units - 300) * 20\n",
        "print(\"Total electricity bill: Rs.\", bill)\n"
      ],
      "metadata": {
        "colab": {
          "base_uri": "https://localhost:8080/"
        },
        "id": "KjJ-Kn-rn1TZ",
        "outputId": "e7becac3-1831-46a7-b8ed-d7af9ef6f78b"
      },
      "execution_count": 6,
      "outputs": [
        {
          "output_type": "stream",
          "name": "stdout",
          "text": [
            "Enter the units of electricity consumed: 310\n",
            "Total electricity bill: Rs. 2250.0\n"
          ]
        }
      ]
    },
    {
      "cell_type": "code",
      "source": [
        "#4\n",
        "#Using for loop\n",
        "num=[]\n",
        "for i in range(1,101):\n",
        "  cube=i**3\n",
        "  if cube%4==0 or cube%5==0 :\n",
        "    num.append(i)\n",
        "print(\"The number which cube is divisible by 4 and 5 :\",num)\n",
        "\n"
      ],
      "metadata": {
        "colab": {
          "base_uri": "https://localhost:8080/"
        },
        "id": "d3rHEMkaoiXY",
        "outputId": "dcb7bf79-da5b-4f03-fe7d-390640f7b8e1"
      },
      "execution_count": 13,
      "outputs": [
        {
          "output_type": "stream",
          "name": "stdout",
          "text": [
            "The number which cube is divisible by 4 and 5 : [2, 4, 5, 6, 8, 10, 12, 14, 15, 16, 18, 20, 22, 24, 25, 26, 28, 30, 32, 34, 35, 36, 38, 40, 42, 44, 45, 46, 48, 50, 52, 54, 55, 56, 58, 60, 62, 64, 65, 66, 68, 70, 72, 74, 75, 76, 78, 80, 82, 84, 85, 86, 88, 90, 92, 94, 95, 96, 98, 100]\n"
          ]
        }
      ]
    },
    {
      "cell_type": "code",
      "source": [
        "#Using while loop\n",
        "numbers = []\n",
        "i = 1\n",
        "while i <= 100:\n",
        "    cube = i**\n",
        "    if cube % 4 == 0 or cube % 5 == 0:\n",
        "        numbers.append(i)\n",
        "    i += 1\n",
        "print(\"Numbers whose cube is divisible by 4 or 5:\", numbers)\n"
      ],
      "metadata": {
        "colab": {
          "base_uri": "https://localhost:8080/"
        },
        "id": "uNB3AU8mpXS7",
        "outputId": "3646012d-e48c-4a3a-ae77-d1790a043200"
      },
      "execution_count": 12,
      "outputs": [
        {
          "output_type": "stream",
          "name": "stdout",
          "text": [
            "Numbers whose cube is divisible by 4 or 5: [2, 4, 5, 6, 8, 10, 12, 14, 15, 16, 18, 20, 22, 24, 25, 26, 28, 30, 32, 34, 35, 36, 38, 40, 42, 44, 45, 46, 48, 50, 52, 54, 55, 56, 58, 60, 62, 64, 65, 66, 68, 70, 72, 74, 75, 76, 78, 80, 82, 84, 85, 86, 88, 90, 92, 94, 95, 96, 98, 100]\n"
          ]
        }
      ]
    },
    {
      "cell_type": "code",
      "source": [
        "#5\n",
        "string = \"I want to become a data scientist\"\n",
        "vow=\"aeiouAEIOU\"\n",
        "count =0\n",
        "for i in string:\n",
        "  if i in vow:\n",
        "    count+=1;\n",
        "print(\"Total number of vowel present in vowel is:\",count)"
      ],
      "metadata": {
        "colab": {
          "base_uri": "https://localhost:8080/"
        },
        "id": "bgCq3y3FqO94",
        "outputId": "a714a695-b339-421f-b594-5ebde4d05b4d"
      },
      "execution_count": 15,
      "outputs": [
        {
          "output_type": "stream",
          "name": "stdout",
          "text": [
            "Total number of vowel present in vowel is: 12\n"
          ]
        }
      ]
    },
    {
      "cell_type": "code",
      "source": [],
      "metadata": {
        "id": "w6cyrnx6rEMP"
      },
      "execution_count": null,
      "outputs": []
    }
  ]
}