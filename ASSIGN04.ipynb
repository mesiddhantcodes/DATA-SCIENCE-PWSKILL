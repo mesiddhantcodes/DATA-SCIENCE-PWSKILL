{
  "nbformat": 4,
  "nbformat_minor": 0,
  "metadata": {
    "colab": {
      "provenance": [],
      "authorship_tag": "ABX9TyMB0CI8I6ogl0iKI46rFCBA",
      "include_colab_link": true
    },
    "kernelspec": {
      "name": "python3",
      "display_name": "Python 3"
    },
    "language_info": {
      "name": "python"
    }
  },
  "cells": [
    {
      "cell_type": "markdown",
      "metadata": {
        "id": "view-in-github",
        "colab_type": "text"
      },
      "source": [
        "<a href=\"https://colab.research.google.com/github/mesiddhantcodes/DATA-SCIENCE-PWSKILL-/blob/main/ASSIGN04.ipynb\" target=\"_parent\"><img src=\"https://colab.research.google.com/assets/colab-badge.svg\" alt=\"Open In Colab\"/></a>"
      ]
    },
    {
      "cell_type": "code",
      "execution_count": null,
      "metadata": {
        "id": "bH4MZz92roo7"
      },
      "outputs": [],
      "source": []
    },
    {
      "cell_type": "markdown",
      "source": [
        "# ***1***\n",
        "def keyword is used in create a function in python."
      ],
      "metadata": {
        "id": "GfJSO0CBrrBz"
      }
    },
    {
      "cell_type": "code",
      "source": [
        "def oddd():\n",
        "  for i in range(1,26):\n",
        "    if i%2!=0:\n",
        "      print(i)\n",
        "oddd()      "
      ],
      "metadata": {
        "colab": {
          "base_uri": "https://localhost:8080/"
        },
        "id": "XRueIspjrvYZ",
        "outputId": "74f3c44b-24ef-4e90-c9ff-630587f27fed"
      },
      "execution_count": null,
      "outputs": [
        {
          "output_type": "stream",
          "name": "stdout",
          "text": [
            "1\n",
            "3\n",
            "5\n",
            "7\n",
            "9\n",
            "11\n",
            "13\n",
            "15\n",
            "17\n",
            "19\n",
            "21\n",
            "23\n",
            "25\n"
          ]
        }
      ]
    },
    {
      "cell_type": "markdown",
      "source": [
        "# ***2***"
      ],
      "metadata": {
        "id": "XkxoAtJ9Cd5m"
      }
    },
    {
      "cell_type": "code",
      "source": [
        "#*args is used to pass a variable number of non-keyword arguments to a function. The * in *args is an operator that tells Python to pass all the non-keyword arguments as a list.\n",
        "\n",
        "#**kwargs is used to pass a variable number of keyword arguments to a function. The ** in **kwargs is an operator that tells Python to pass all the keyword arguments as a dictionary.\n",
        "def print_args(*args):\n",
        "    print(\"Arguments:\", args)\n",
        "\n",
        "print_args(1, 2, 3, 4, 5)\n",
        "\n",
        "\n",
        "def print_kwargs(**kwargs):\n",
        "    print(\"Keyword arguments:\", kwargs)\n",
        "\n",
        "print_kwargs(first_name=\"John\", last_name=\"Doe\", age=30)\n"
      ],
      "metadata": {
        "id": "u3w4nuovsGzG",
        "colab": {
          "base_uri": "https://localhost:8080/"
        },
        "outputId": "7a5654d5-bb0d-4927-bf66-8562d08be1d3"
      },
      "execution_count": 1,
      "outputs": [
        {
          "output_type": "stream",
          "name": "stdout",
          "text": [
            "Arguments: (1, 2, 3, 4, 5)\n",
            "Keyword arguments: {'first_name': 'John', 'last_name': 'Doe', 'age': 30}\n"
          ]
        }
      ]
    },
    {
      "cell_type": "markdown",
      "source": [
        "# ***3***"
      ],
      "metadata": {
        "id": "bCbBl6VhC-qj"
      }
    },
    {
      "cell_type": "code",
      "source": [
        "#In Python, an iterator is an object that implements the iterator protocol, which consists of two methods: __iter__ and __next__. \n",
        "#The __iter__ method is used to initialize the iterator object, and the __next__ method is used to perform the iteratio\n",
        "list = [2, 4, 6, 8, 10, 12, 14, 16, 18, 20]\n",
        "\n",
        "\n",
        "list_iterator = iter(list)\n",
        "\n",
        "print(\"First five elements:\")\n",
        "for i in range(5):\n",
        "    print(next(list_iterator))\n"
      ],
      "metadata": {
        "colab": {
          "base_uri": "https://localhost:8080/"
        },
        "id": "lCQUTzaYCqvQ",
        "outputId": "0235c8d0-6943-475c-d40f-cb467a3bd795"
      },
      "execution_count": 2,
      "outputs": [
        {
          "output_type": "stream",
          "name": "stdout",
          "text": [
            "First five elements:\n",
            "2\n",
            "4\n",
            "6\n",
            "8\n",
            "10\n"
          ]
        }
      ]
    },
    {
      "cell_type": "markdown",
      "source": [
        "# ***4***\n",
        "A generator function in Python is a special type of function that uses the yield keyword instead of return to return values. When a generator function is called, it returns a generator object, which can be iterated over using a for loop or the next function. The yield keyword allows the generator function to produce a value and then pause execution, preserving its state so that it can resume where it left off the next time it's called."
      ],
      "metadata": {
        "id": "W7iw2NRPDZa-"
      }
    },
    {
      "cell_type": "markdown",
      "source": [
        "# ***5***"
      ],
      "metadata": {
        "id": "wRopOJ8aDtpe"
      }
    },
    {
      "cell_type": "code",
      "source": [
        "def prime_numbers():\n",
        "    yield 2\n",
        "    primes = [2]\n",
        "    num = 3\n",
        "    while num < 1000:\n",
        "        is_prime = True\n",
        "        for prime in primes:\n",
        "            if num % prime == 0:\n",
        "                is_prime = False\n",
        "                break\n",
        "        if is_prime:\n",
        "            primes.append(num)\n",
        "            yield num\n",
        "        num += 2\n",
        "primes_gen = prime_numbers()\n",
        "print(\"First 20 prime numbers:\")\n",
        "for i in range(20):\n",
        "    print(next(primes_gen))\n",
        "\n"
      ],
      "metadata": {
        "colab": {
          "base_uri": "https://localhost:8080/"
        },
        "id": "3LZVeOA_DOKO",
        "outputId": "9e45d400-585d-4b50-f20d-cca54a2658de"
      },
      "execution_count": 3,
      "outputs": [
        {
          "output_type": "stream",
          "name": "stdout",
          "text": [
            "First 20 prime numbers:\n",
            "2\n",
            "3\n",
            "5\n",
            "7\n",
            "11\n",
            "13\n",
            "17\n",
            "19\n",
            "23\n",
            "29\n",
            "31\n",
            "37\n",
            "41\n",
            "43\n",
            "47\n",
            "53\n",
            "59\n",
            "61\n",
            "67\n",
            "71\n"
          ]
        }
      ]
    },
    {
      "cell_type": "markdown",
      "source": [
        "# ***6***\n"
      ],
      "metadata": {
        "id": "7zP6kLNUEJ1a"
      }
    },
    {
      "cell_type": "code",
      "source": [
        "def fibonacci_numbers(n):\n",
        "    a, b = 0, 1\n",
        "    count = 0\n",
        "    while count < n:\n",
        "        yield a\n",
        "        a, b = b, a + b\n",
        "        count += 1\n",
        "\n",
        "print(\"First 10 Fibonacci numbers:\")\n",
        "for num in fibonacci_numbers(10):\n",
        "    print(num)"
      ],
      "metadata": {
        "colab": {
          "base_uri": "https://localhost:8080/"
        },
        "id": "Ryi2yyB5D0j8",
        "outputId": "63fe3a39-b545-4f06-d908-adf38d56b7e2"
      },
      "execution_count": 4,
      "outputs": [
        {
          "output_type": "stream",
          "name": "stdout",
          "text": [
            "First 10 Fibonacci numbers:\n",
            "0\n",
            "1\n",
            "1\n",
            "2\n",
            "3\n",
            "5\n",
            "8\n",
            "13\n",
            "21\n",
            "34\n"
          ]
        }
      ]
    },
    {
      "cell_type": "markdown",
      "source": [
        "# ***7***\n"
      ],
      "metadata": {
        "id": "VcSTueltEYNl"
      }
    },
    {
      "cell_type": "code",
      "source": [
        "string = 'pwskills'\n",
        "result = [char for char in string]\n",
        "print(result)"
      ],
      "metadata": {
        "colab": {
          "base_uri": "https://localhost:8080/"
        },
        "id": "L2YmZCi3ENNN",
        "outputId": "4a3a9b74-3931-4f95-a960-8e51aa495d42"
      },
      "execution_count": 5,
      "outputs": [
        {
          "output_type": "stream",
          "name": "stdout",
          "text": [
            "['p', 'w', 's', 'k', 'i', 'l', 'l', 's']\n"
          ]
        }
      ]
    },
    {
      "cell_type": "markdown",
      "source": [
        "# ***8***"
      ],
      "metadata": {
        "id": "t1T6dte8E9Ot"
      }
    },
    {
      "cell_type": "code",
      "source": [
        "def palin(num):\n",
        "  numst=str(num)\n",
        "  left=0;\n",
        "  right=len(numst)-1\n",
        "  while(left<right):\n",
        "    if numst[left]!=numst[right]:\n",
        "      return False\n",
        "    left+=1\n",
        "    right-=1\n",
        "    return True\n",
        "num=int(input(\"Enter the number\"))\n",
        "if  palin(num):\n",
        "  print(f\"{num} is palindrome\")\n",
        "else:\n",
        "  print(f\"{num}  is not a palindrome \")\n"
      ],
      "metadata": {
        "colab": {
          "base_uri": "https://localhost:8080/"
        },
        "id": "rPKDEgphEhZT",
        "outputId": "67111c8e-6f47-48bf-e1d9-9ba2d71877f2"
      },
      "execution_count": 9,
      "outputs": [
        {
          "output_type": "stream",
          "name": "stdout",
          "text": [
            "Enter the number323\n",
            "323 is palindrome\n"
          ]
        }
      ]
    },
    {
      "cell_type": "markdown",
      "source": [
        "# ***9***\n"
      ],
      "metadata": {
        "id": "YOn69ryTGN0w"
      }
    },
    {
      "cell_type": "code",
      "source": [
        "odd_numbers = [num for num in range(1, 101) if num % 2 != 0]\n",
        "print(odd_numbers)"
      ],
      "metadata": {
        "colab": {
          "base_uri": "https://localhost:8080/"
        },
        "id": "2MMqZQpbFxHj",
        "outputId": "d881c9c3-b618-4a95-a2a6-c91eb55baad6"
      },
      "execution_count": 10,
      "outputs": [
        {
          "output_type": "stream",
          "name": "stdout",
          "text": [
            "[1, 3, 5, 7, 9, 11, 13, 15, 17, 19, 21, 23, 25, 27, 29, 31, 33, 35, 37, 39, 41, 43, 45, 47, 49, 51, 53, 55, 57, 59, 61, 63, 65, 67, 69, 71, 73, 75, 77, 79, 81, 83, 85, 87, 89, 91, 93, 95, 97, 99]\n"
          ]
        }
      ]
    },
    {
      "cell_type": "code",
      "source": [],
      "metadata": {
        "id": "hdKsuGKnGRDN"
      },
      "execution_count": null,
      "outputs": []
    }
  ]
}