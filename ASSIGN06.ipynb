{
  "nbformat": 4,
  "nbformat_minor": 0,
  "metadata": {
    "colab": {
      "provenance": [],
      "authorship_tag": "ABX9TyPUWQQfD6PcKboqHLh7h11m",
      "include_colab_link": true
    },
    "kernelspec": {
      "name": "python3",
      "display_name": "Python 3"
    },
    "language_info": {
      "name": "python"
    }
  },
  "cells": [
    {
      "cell_type": "markdown",
      "metadata": {
        "id": "view-in-github",
        "colab_type": "text"
      },
      "source": [
        "<a href=\"https://colab.research.google.com/github/mesiddhantcodes/DATA-SCIENCE-PWSKILL-/blob/main/ASSIGN06.ipynb\" target=\"_parent\"><img src=\"https://colab.research.google.com/assets/colab-badge.svg\" alt=\"Open In Colab\"/></a>"
      ]
    },
    {
      "cell_type": "markdown",
      "source": [
        "# ***1***"
      ],
      "metadata": {
        "id": "qpgchA_bUjWb"
      }
    },
    {
      "cell_type": "code",
      "execution_count": 2,
      "metadata": {
        "colab": {
          "base_uri": "https://localhost:8080/"
        },
        "id": "jy7mtr8uSo2r",
        "outputId": "ed573e1b-57d4-4021-aab8-aa766ac4adfd"
      },
      "outputs": [
        {
          "output_type": "stream",
          "name": "stdout",
          "text": [
            "Hello, my name is John\n",
            "I am 27 years old and live in Los Angeles\n"
          ]
        }
      ],
      "source": [
        "#In Object-Oriented Programming, a Class is a blueprint for creating objects (instances of the class). It defines the properties (variables) and methods (functions) that objects of the class will have.\n",
        "\n",
        "#An Object is an instance of a class and is created from the blueprint defined in the class. Each object created from a class will have its own unique set of properties and methods,\n",
        "# and can perform the actions defined in the class methods.\n",
        "class Person:\n",
        "    def __init__(self, name, age, address):\n",
        "        self.name = name\n",
        "        self.age = age\n",
        "        self.address = address\n",
        "    def greet(self):\n",
        "        print(\"Hello, my name is \" + self.name)\n",
        "    def introduce(self):\n",
        "        print(\"I am \" + str(self.age) + \" years old and live in \" + self.address)\n",
        "person1 = Person(\"John\", 32, \"New York\")\n",
        "person2 = Person(\"Jane\", 27, \"Los Angeles\")\n",
        "person1.greet() \n",
        "person2.introduce()"
      ]
    },
    {
      "cell_type": "markdown",
      "source": [
        "# ***2***"
      ],
      "metadata": {
        "id": "hiXmreCMVqSM"
      }
    },
    {
      "cell_type": "code",
      "source": [
        "#The four pillars of Object-Oriented Programming (OOP) are:\n",
        "#1:Abstraction\n",
        "#2:Encapsulation\n",
        "#3:Inheritance\n",
        "#4:Polymorphism"
      ],
      "metadata": {
        "id": "Cb7OLMN0UwlE"
      },
      "execution_count": null,
      "outputs": []
    },
    {
      "cell_type": "markdown",
      "source": [
        "# ***3***"
      ],
      "metadata": {
        "id": "l4vOIwffV3v3"
      }
    },
    {
      "cell_type": "code",
      "source": [
        "#The __init__() function, also known as the constructor, is used to initialize the objects of a class. \n",
        "#It is automatically called when an object of the class is created, and it sets the initial values of the object's properties.\n",
        "def __init__(self, parameter1, parameter2, ...):\n",
        "    self.property1 = parameter1\n",
        "    self.property2 = parameter2\n",
        "    ...\n",
        " # Here self is the object that is being created and parameter1 ,parameter2 is the parameter which is passed to the constructor during the creation of object."
      ],
      "metadata": {
        "id": "E-WGuenzV5sI"
      },
      "execution_count": null,
      "outputs": []
    },
    {
      "cell_type": "markdown",
      "source": [
        "# ***4***"
      ],
      "metadata": {
        "id": "gHIGieD_WjKp"
      }
    },
    {
      "cell_type": "code",
      "source": [
        "#In Object-Oriented Programming (OOP), the self keyword is used as a reference to the current instance of an object. \n",
        "#It is used to access the attributes and methods of the current object within a class.\n"
      ],
      "metadata": {
        "id": "1MWqRNEjW9mV"
      },
      "execution_count": null,
      "outputs": []
    },
    {
      "cell_type": "markdown",
      "source": [
        "# ***5***"
      ],
      "metadata": {
        "id": "-t_-spIhXCmb"
      }
    },
    {
      "cell_type": "code",
      "source": [
        "# Inheritance is a mechanism in object-oriented programming (OOP) that allows a new class to be created based on an existing class, inheriting its properties and behaviors. There are several types of inheritance in OOP:\n",
        "#Single inheritance: A class inherits from a single parent class. Example: A \"Bird\" class inherits properties and behaviors from an \"Animal\" class.\n",
        "\n",
        "#Multiple inheritance: A class inherits from multiple parent classes.\n",
        "#Example: A \"Penguin\" class could inherit properties and behaviors from both a \"Bird\" class and a \"Fish\" class.\n",
        "\n",
        "#Hierarchical inheritance: A class inherits from a single parent class, and the parent class can have multiple child classes. \n",
        "#Example: A \"Duck\" class and a \"Goose\" class both inherit properties and behaviors from a \"Bird\" class.\n",
        "\n",
        "#Hybrid inheritance: A combination of multiple inheritance and hierarchical inheritance.\n",
        "#Example: A \"Parrot\" class inherits properties and behaviors from both a \"Bird\" class and a \"Mammal\" class, and the \"Bird\" class is also a parent class to other bird classes."
      ],
      "metadata": {
        "id": "2VClyUURXEx0"
      },
      "execution_count": null,
      "outputs": []
    }
  ]
}