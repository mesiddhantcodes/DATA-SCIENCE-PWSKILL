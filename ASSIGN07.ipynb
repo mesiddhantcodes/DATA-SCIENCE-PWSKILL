{
  "nbformat": 4,
  "nbformat_minor": 0,
  "metadata": {
    "colab": {
      "provenance": [],
      "authorship_tag": "ABX9TyMIiy+NcOQh1Zg/Zy4qBZhA",
      "include_colab_link": true
    },
    "kernelspec": {
      "name": "python3",
      "display_name": "Python 3"
    },
    "language_info": {
      "name": "python"
    }
  },
  "cells": [
    {
      "cell_type": "markdown",
      "metadata": {
        "id": "view-in-github",
        "colab_type": "text"
      },
      "source": [
        "<a href=\"https://colab.research.google.com/github/mesiddhantcodes/DATA-SCIENCE-PWSKILL-/blob/main/ASSIGN07.ipynb\" target=\"_parent\"><img src=\"https://colab.research.google.com/assets/colab-badge.svg\" alt=\"Open In Colab\"/></a>"
      ]
    },
    {
      "cell_type": "markdown",
      "source": [
        "# ***1***"
      ],
      "metadata": {
        "id": "xcy4HZ66OSw4"
      }
    },
    {
      "cell_type": "code",
      "execution_count": null,
      "metadata": {
        "id": "QTgRhWopJ2PC"
      },
      "outputs": [],
      "source": [
        "def calculate_product(lst):\n",
        "    flat_list = []\n",
        "    def flatten(l):\n",
        "        for i in l:\n",
        "            if type(i) == int:\n",
        "                flat_list.append(i)\n",
        "            elif type(i) == float:\n",
        "                flat_list.append(i)\n",
        "            elif type(i) == tuple or type(i) == list:\n",
        "                flatten(i)\n",
        "            elif type(i) == dict:\n",
        "                for j in i.values():\n",
        "                    flatten(j)\n",
        "    \n",
        "    flatten(lst)\n",
        "    result = 1\n",
        "    for num in flat_list:\n",
        "        result *= num\n",
        "    return result\n",
        "list1 = [1,2,3,4, [44,55,66, True], False, (34,56,78,89,34), {1,2,3,3,2,1}, {1:34, \"key2\": [55, 67, 78, 89], 4: (45,\n",
        "22, 61, 34)}, [56, 'data science'], 'Machine Learning']\n",
        "print(calculate_product(list1))\n"
      ]
    },
    {
      "cell_type": "markdown",
      "source": [
        "# ***2***"
      ],
      "metadata": {
        "id": "KJLM1TemP_kJ"
      }
    },
    {
      "cell_type": "code",
      "source": [
        "def encrypt_sentence(sentence):\n",
        "    encryption_key = {'a': 'z', 'b': 'y', 'c': 'x', 'd': 'w', 'e': 'v', 'f': 'u', 'g': 't', 'h': 's', 'i': 'r', 'j': 'q',\n",
        "                      'k': 'p', 'l': 'o', 'm': 'n', 'n': 'm', 'o': 'l', 'p': 'k', 'q': 'j', 'r': 'i', 's': 'h', 't': 'g',\n",
        "                      'u': 'f', 'v': 'e', 'w': 'd', 'x': 'c', 'y': 'b', 'z': 'a', 'A': 'Z', 'B': 'Y', 'C': 'X', 'D': 'W',\n",
        "                      'E': 'V', 'F': 'U', 'G': 'T', 'H': 'S', 'I': 'R', 'J': 'Q', 'K': 'P', 'L': 'O', 'M': 'N', 'N': 'M',\n",
        "                      'O': 'L', 'P': 'K', 'Q': 'J', 'R': 'I', 'S': 'H', 'T': 'G', 'U': 'F', 'V': 'E', 'W': 'D', 'X': 'C',\n",
        "                      'Y': 'B', 'Z': 'A'}\n",
        "    \n",
        "    encrypted_sentence = \"\"\n",
        "    for char in sentence:\n",
        "        if char.isspace():\n",
        "            encrypted_sentence += \"$\"\n",
        "        elif char in encryption_key:\n",
        "            encrypted_sentence += encryption_key[char]\n",
        "        else:\n",
        "            encrypted_sentence += char\n",
        "    return encrypted_sentence\n",
        "input_sentence = \"I want to become a Data Scientist.\"\n",
        "print(encrypt_sentence(input_sentence))\n"
      ],
      "metadata": {
        "id": "CMpvIZ8QOfVZ",
        "colab": {
          "base_uri": "https://localhost:8080/"
        },
        "outputId": "73859e5c-591b-4df3-fb12-c405e4badf00"
      },
      "execution_count": 2,
      "outputs": [
        {
          "output_type": "stream",
          "name": "stdout",
          "text": [
            "R$dzmg$gl$yvxlnv$z$Wzgz$Hxrvmgrhg.\n"
          ]
        }
      ]
    },
    {
      "cell_type": "code",
      "source": [],
      "metadata": {
        "id": "zd7ozED1QDhT"
      },
      "execution_count": null,
      "outputs": []
    }
  ]
}