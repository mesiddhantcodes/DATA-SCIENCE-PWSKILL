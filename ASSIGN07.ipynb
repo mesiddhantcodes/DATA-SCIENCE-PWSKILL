{
  "nbformat": 4,
  "nbformat_minor": 0,
  "metadata": {
    "colab": {
      "provenance": [],
      "authorship_tag": "ABX9TyMm/7qZsaV/EQQnHKrDD0eN",
      "include_colab_link": true
    },
    "kernelspec": {
      "name": "python3",
      "display_name": "Python 3"
    },
    "language_info": {
      "name": "python"
    }
  },
  "cells": [
    {
      "cell_type": "markdown",
      "metadata": {
        "id": "view-in-github",
        "colab_type": "text"
      },
      "source": [
        "<a href=\"https://colab.research.google.com/github/mesiddhantcodes/DATA-SCIENCE-PWSKILL-/blob/main/ASSIGN07.ipynb\" target=\"_parent\"><img src=\"https://colab.research.google.com/assets/colab-badge.svg\" alt=\"Open In Colab\"/></a>"
      ]
    },
    {
      "cell_type": "markdown",
      "source": [
        "# ***1***"
      ],
      "metadata": {
        "id": "xcy4HZ66OSw4"
      }
    },
    {
      "cell_type": "code",
      "execution_count": 7,
      "metadata": {
        "id": "QTgRhWopJ2PC",
        "colab": {
          "base_uri": "https://localhost:8080/"
        },
        "outputId": "0e2f2dd4-e9d0-44c3-858f-5c89d89e5ab9"
      },
      "outputs": [
        {
          "output_type": "stream",
          "name": "stdout",
          "text": [
            "4134711838987085478833841242112000\n"
          ]
        }
      ],
      "source": [
        "def flatten(list1):\n",
        "    flattened_list = []\n",
        "    for item in list1:\n",
        "        if isinstance(item, (list, tuple, set)):\n",
        "            flattened_list.extend(flatten(item))\n",
        "        elif isinstance(item, dict):\n",
        "            for key, value in item.items():\n",
        "                flattened_list.extend(flatten([key, value]))\n",
        "        else:\n",
        "            flattened_list.append(item)\n",
        "    return flattened_list\n",
        "\n",
        "list1 = [1,2,3,4, [44,55,66, True], False, (34,56,78,89,34), {1,2,3,3,2,1}, {1:34, \"key2\": [55, 67, 78, 89], 4: (45,22, 61, 34)}, [56, 'data science'], 'Machine Learning']\n",
        "flat_list =  flatten(list1)\n",
        "result = 1\n",
        "for n in flat_list:\n",
        "    if type(n) == int:\n",
        "      result *= n\n",
        "print(result)\n"
      ]
    },
    {
      "cell_type": "markdown",
      "source": [
        "# ***2***"
      ],
      "metadata": {
        "id": "KJLM1TemP_kJ"
      }
    },
    {
      "cell_type": "code",
      "source": [
        "def encrypt_sentence(sentence):\n",
        "    encrypted_sentence = \"\"\n",
        "    for i in sentence:\n",
        "      if (i.islower()):\n",
        "        encrypted_sentence +=chr(ord('z') - ord(i) + ord('a'))\n",
        "      elif (i == \" \"):\n",
        "        encrypted_sentence += \"$\"\n",
        "      else:\n",
        "        encrypted_sentence += i\n",
        "    return encrypted_sentence\n",
        "input_sentence = \"I want to become a Data Scientist.\"\n",
        "input_sentence = input_sentence.lower()\n",
        "print(encrypt_sentence(input_sentence))\n"
      ],
      "metadata": {
        "id": "CMpvIZ8QOfVZ",
        "outputId": "7ed9f4c8-2d1c-4d99-f5f2-c98aa8b855cc",
        "colab": {
          "base_uri": "https://localhost:8080/"
        }
      },
      "execution_count": 5,
      "outputs": [
        {
          "output_type": "stream",
          "name": "stdout",
          "text": [
            "r$dzmg$gl$yvxlnv$z$wzgz$hxrvmgrhg.\n"
          ]
        }
      ]
    },
    {
      "cell_type": "code",
      "source": [],
      "metadata": {
        "id": "zd7ozED1QDhT"
      },
      "execution_count": null,
      "outputs": []
    }
  ]
}