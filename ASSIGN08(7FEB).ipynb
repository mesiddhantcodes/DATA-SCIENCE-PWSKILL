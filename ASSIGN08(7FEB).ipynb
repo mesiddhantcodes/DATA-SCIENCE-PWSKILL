{
  "nbformat": 4,
  "nbformat_minor": 0,
  "metadata": {
    "colab": {
      "provenance": [],
      "authorship_tag": "ABX9TyMxCvH2p15sgeEvzJCJQmRN",
      "include_colab_link": true
    },
    "kernelspec": {
      "name": "python3",
      "display_name": "Python 3"
    },
    "language_info": {
      "name": "python"
    }
  },
  "cells": [
    {
      "cell_type": "markdown",
      "metadata": {
        "id": "view-in-github",
        "colab_type": "text"
      },
      "source": [
        "<a href=\"https://colab.research.google.com/github/tanishqacodes/DATA-SCIENCE-MASTERS/blob/main/07_FEB_ASS.ipynb\" target=\"_parent\"><img src=\"https://colab.research.google.com/assets/colab-badge.svg\" alt=\"Open In Colab\"/></a>"
      ]
    },
    {
      "cell_type": "markdown",
      "source": [
        "### Q1. You are writing code for a company. The requirement of the company is that you create a python function that will check whether the password entered by the user is correct or not. The function should take the password as input and return the string “Valid Password” if the entered password follows the below-given password guidelines else it should return “Invalid Password”.\n",
        "\n",
        "**Note:** \n",
        "1. The Password should contain at least two uppercase letters and at least two lowercase letters.\n",
        "2. The Password should contain at least a number and three special characters.\n",
        "3. The length of the password should be 10 characters long."
      ],
      "metadata": {
        "id": "jvLOpA8656bL"
      }
    },
    {
      "cell_type": "code",
      "source": [
        "password = input(\"Enter password\")\n",
        "uppercase=0\n",
        "lowercase=0\n",
        "special=0\n",
        "number=0\n",
        "for i in password:\n",
        "  if i.isupper():\n",
        "    uppercase+=1\n",
        "  elif i.islower():\n",
        "    lowercase+=1\n",
        "  elif i.isnumeric():\n",
        "    number+=1\n",
        "  else:\n",
        "    special+=1\n",
        "\n",
        "if (len(password)>=10 and uppercase>=2 and lowercase>=2 and number>=1 and special>=3 ):\n",
        "  print(\"VALID PASSWORD\")\n",
        "else:\n",
        "  print(\"INVALID PASSWORD\")\n",
        "  "
      ],
      "metadata": {
        "colab": {
          "base_uri": "https://localhost:8080/"
        },
        "id": "PHOvmCwL6Hk6",
        "outputId": "ab051f07-d75a-4e9b-c452-b365e1b026ec"
      },
      "execution_count": 1,
      "outputs": [
        {
          "output_type": "stream",
          "name": "stdout",
          "text": [
            "Enter password1234ABab#$%\n",
            "VALID PASSWORD\n"
          ]
        }
      ]
    },
    {
      "cell_type": "markdown",
      "source": [
        "### Q2. Solve the below-given questions using at least one of the following:\n",
        "1. Lambda function\n",
        "2. Filter function\n",
        "3. Map function\n",
        "4. List Comprehension\n",
        "####  Check if the string starts with a particular letter.\n"
      ],
      "metadata": {
        "id": "-F-4P_6K8mj0"
      }
    },
    {
      "cell_type": "code",
      "source": [
        "#lambda function\n",
        "startsWith = lambda x: True if x.startswith('A') else False\n",
        "print(startsWith('Apple'))\n",
        "print(startsWith('Orange'))"
      ],
      "metadata": {
        "colab": {
          "base_uri": "https://localhost:8080/"
        },
        "id": "YC80OaLL89Pp",
        "outputId": "834c4b63-f5d8-4265-801e-502c4f88b4e6"
      },
      "execution_count": 3,
      "outputs": [
        {
          "output_type": "stream",
          "name": "stdout",
          "text": [
            "True\n",
            "False\n"
          ]
        }
      ]
    },
    {
      "cell_type": "markdown",
      "source": [
        "#### Check if the string is numeric."
      ],
      "metadata": {
        "id": "TztoVdoO_eI7"
      }
    },
    {
      "cell_type": "code",
      "source": [
        "#lambda function\n",
        "isNumeric = lambda x:True if x.isdigit() else False\n",
        "print(isNumeric('123456'))\n",
        "print(isNumeric('123Abc'))"
      ],
      "metadata": {
        "colab": {
          "base_uri": "https://localhost:8080/"
        },
        "id": "p3hOrTeK_dCW",
        "outputId": "6f21289e-6d88-4e04-f3f5-dad937968e0e"
      },
      "execution_count": 4,
      "outputs": [
        {
          "output_type": "stream",
          "name": "stdout",
          "text": [
            "True\n",
            "False\n"
          ]
        }
      ]
    },
    {
      "cell_type": "markdown",
      "source": [
        "#### Sort a list of tuples having fruit names and their quantity. [(\"mango\",99),(\"orange\",80), (\"grapes\", 1000)]"
      ],
      "metadata": {
        "id": "xTZc2WDpAFyi"
      }
    },
    {
      "cell_type": "code",
      "source": [
        "# map function\n",
        "fruits = [(\"mango\", 99), (\"orange\", 80), (\"grapes\", 1000)]\n",
        "sorted_fruits = sorted(fruits, key=lambda x: x[1])\n",
        "print(sorted_fruits)\n",
        "result = list(map(lambda x: x[0], sorted_fruits))\n",
        "print(result)\n"
      ],
      "metadata": {
        "colab": {
          "base_uri": "https://localhost:8080/"
        },
        "id": "mKIp85wCAEIE",
        "outputId": "2bb67def-c665-40fa-921c-a1f366f764d6"
      },
      "execution_count": 7,
      "outputs": [
        {
          "output_type": "stream",
          "name": "stdout",
          "text": [
            "[('orange', 80), ('mango', 99), ('grapes', 1000)]\n",
            "['orange', 'mango', 'grapes']\n"
          ]
        }
      ]
    },
    {
      "cell_type": "markdown",
      "source": [
        "#### Find the squares of numbers from 1 to 10."
      ],
      "metadata": {
        "id": "KULHTrRyCxp1"
      }
    },
    {
      "cell_type": "code",
      "source": [
        "# List Comprehension\n",
        "squareNumber = [i*i for i in range(1,11)]\n",
        "print(squareNumber)"
      ],
      "metadata": {
        "colab": {
          "base_uri": "https://localhost:8080/"
        },
        "id": "NZ0KJJY3A8aq",
        "outputId": "97de60ca-a87a-4b4f-8fc7-ed87e514ca0b"
      },
      "execution_count": 9,
      "outputs": [
        {
          "output_type": "stream",
          "name": "stdout",
          "text": [
            "[1, 4, 9, 16, 25, 36, 49, 64, 81, 100]\n"
          ]
        }
      ]
    },
    {
      "cell_type": "markdown",
      "source": [
        "#### Find the cube root of numbers from 1 to 10."
      ],
      "metadata": {
        "id": "a6X5gNn2DRLx"
      }
    },
    {
      "cell_type": "code",
      "source": [
        "# list comprehension\n",
        "cube = [i**3 for i in range(1,11)]\n",
        "print(cube)"
      ],
      "metadata": {
        "colab": {
          "base_uri": "https://localhost:8080/"
        },
        "id": "DrDVI-X2DJq_",
        "outputId": "eff60cd7-96f9-44f1-815f-43cbcbc68e62"
      },
      "execution_count": 10,
      "outputs": [
        {
          "output_type": "stream",
          "name": "stdout",
          "text": [
            "[1, 8, 27, 64, 125, 216, 343, 512, 729, 1000]\n"
          ]
        }
      ]
    },
    {
      "cell_type": "markdown",
      "source": [
        "#### Check if a given number is even."
      ],
      "metadata": {
        "id": "IRQ9bO-0Dfa0"
      }
    },
    {
      "cell_type": "code",
      "source": [
        "# lambda function\n",
        "even = lambda x : True if x%2==0 else False\n",
        "n = int(input(\"Enter number\"))\n",
        "print(even(n))"
      ],
      "metadata": {
        "colab": {
          "base_uri": "https://localhost:8080/"
        },
        "id": "jOF2bWrdDdyM",
        "outputId": "2fc09139-5ca8-4bd5-9433-775b378f1d8f"
      },
      "execution_count": 18,
      "outputs": [
        {
          "output_type": "stream",
          "name": "stdout",
          "text": [
            "Enter number1234\n",
            "True\n"
          ]
        }
      ]
    },
    {
      "cell_type": "markdown",
      "source": [
        "#### Filter odd numbers from the given list. [1,2,3,4,5,6,7,8,9,10]"
      ],
      "metadata": {
        "id": "LBee1lU1Ds3Q"
      }
    },
    {
      "cell_type": "code",
      "source": [
        "#filter() function\n",
        "\n",
        "def fun(x):\n",
        "  if x%2!=0:\n",
        "    return True\n",
        "  else:\n",
        "    return False\n",
        "\n",
        "lst = [1,2,3,4,5,6,7,8,9,10]\n",
        "odd = filter(fun,lst)\n",
        "print(odd)\n",
        "print(list(odd))\n",
        "\n"
      ],
      "metadata": {
        "colab": {
          "base_uri": "https://localhost:8080/"
        },
        "id": "CmqCOUg7D0hO",
        "outputId": "83e3f7a7-f5de-49ac-9c41-c268534f3ab3"
      },
      "execution_count": 14,
      "outputs": [
        {
          "output_type": "stream",
          "name": "stdout",
          "text": [
            "<filter object at 0x7f44513f3430>\n",
            "[1, 3, 5, 7, 9]\n"
          ]
        }
      ]
    },
    {
      "cell_type": "markdown",
      "source": [
        "#### Sort a list of integers into positive and negative integers lists. [1,2,3,4,5,6,-1,-2,-3,-4,-5,0]"
      ],
      "metadata": {
        "id": "jEqnf346H62W"
      }
    },
    {
      "cell_type": "code",
      "source": [
        "# filter() function\n",
        "lst = [1,2,3,4,5,6,-1,-2,-3,-4,-5,0]\n",
        "positive = list(filter(lambda x: x >= 0, lst))\n",
        "negative = list(filter(lambda x: x < 0, lst))\n",
        "\n",
        "print(positive)\n",
        "print(negative)"
      ],
      "metadata": {
        "colab": {
          "base_uri": "https://localhost:8080/"
        },
        "id": "KZe_wbJwEhf_",
        "outputId": "3deb8ef7-8957-45f4-ebfd-5b08bbda32b3"
      },
      "execution_count": 17,
      "outputs": [
        {
          "output_type": "stream",
          "name": "stdout",
          "text": [
            "[1, 2, 3, 4, 5, 6, 0]\n",
            "[-1, -2, -3, -4, -5]\n"
          ]
        }
      ]
    },
    {
      "cell_type": "code",
      "source": [],
      "metadata": {
        "id": "gV53Sh1_I1Wt"
      },
      "execution_count": null,
      "outputs": []
    }
  ]
}