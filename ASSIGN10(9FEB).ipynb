{
  "nbformat": 4,
  "nbformat_minor": 0,
  "metadata": {
    "colab": {
      "provenance": [],
      "authorship_tag": "ABX9TyPcFWfm5oqclgjKfmETAFsY",
      "include_colab_link": true
    },
    "kernelspec": {
      "name": "python3",
      "display_name": "Python 3"
    },
    "language_info": {
      "name": "python"
    }
  },
  "cells": [
    {
      "cell_type": "markdown",
      "metadata": {
        "id": "view-in-github",
        "colab_type": "text"
      },
      "source": [
        "<a href=\"https://colab.research.google.com/github/mesiddhantcodes/DATA-SCIENCE-PWSKILL/blob/main/ASSIGN10(9FEB).ipynb\" target=\"_parent\"><img src=\"https://colab.research.google.com/assets/colab-badge.svg\" alt=\"Open In Colab\"/></a>"
      ]
    },
    {
      "cell_type": "markdown",
      "source": [
        "# Q1, Create a vehicle class with an init method having instance variables as name_of_vehicle, max_speed and average_of_vehicle."
      ],
      "metadata": {
        "id": "k-YetBqDwKNx"
      }
    },
    {
      "cell_type": "code",
      "execution_count": 1,
      "metadata": {
        "colab": {
          "base_uri": "https://localhost:8080/"
        },
        "id": "_LG2MsY4wE7n",
        "outputId": "c87132a5-7cb8-4b3b-a253-0b2944c5bb1c"
      },
      "outputs": [
        {
          "output_type": "stream",
          "name": "stdout",
          "text": [
            "Car\n",
            "120\n",
            "60\n"
          ]
        }
      ],
      "source": [
        "class Vehicle:\n",
        "    def __init__(self, name_of_vehicle, max_speed, average_of_vehicle):\n",
        "        self.name_of_vehicle = name_of_vehicle\n",
        "        self.max_speed = max_speed\n",
        "        self.average_of_vehicle = average_of_vehicle\n",
        "car = Vehicle(\"Car\", 120, 60)\n",
        "print(car.name_of_vehicle)\n",
        "print(car.max_speed)\n",
        "print(car.average_of_vehicle)\n"
      ]
    },
    {
      "cell_type": "markdown",
      "source": [
        "# Q2. Create a child class car from the vehicle class created in Que 1, which will inherit the vehicle class. Create a method named seating_capacity which takes capacity as an argument and returns the name of the vehicle and its seating capacity.**bold text**"
      ],
      "metadata": {
        "id": "E7caCDrjwm9V"
      }
    },
    {
      "cell_type": "code",
      "source": [
        "class Car(Vehicle):\n",
        "    def seating_capacity(self, capacity):\n",
        "        self.capacity=capacity\n",
        "    def detail(self):\n",
        "      print(\"NAME: \",self.name_of_vehicle)\n",
        "      print(\"Seating capacity :\",self.capacity)\n",
        "my_car = Car(\"Sedan\", 140, 80)\n",
        "\n",
        "my_car.seating_capacity(5)\n",
        "\n",
        "my_car.detail()\n"
      ],
      "metadata": {
        "colab": {
          "base_uri": "https://localhost:8080/"
        },
        "id": "34upPc_QwaWY",
        "outputId": "26463ca0-96c4-47f4-99f5-3e3de8031548"
      },
      "execution_count": 8,
      "outputs": [
        {
          "output_type": "stream",
          "name": "stdout",
          "text": [
            "NAME:  Sedan\n",
            "Seating capacity : 5\n"
          ]
        }
      ]
    },
    {
      "cell_type": "markdown",
      "source": [
        "# Q3. What is multiple inheritance? Write a python code to demonstrate multiple inheritance."
      ],
      "metadata": {
        "id": "xHSjl6GJyHTI"
      }
    },
    {
      "cell_type": "code",
      "source": [
        "class ParentA:\n",
        "  def test1(self):\n",
        "    print(\"Parent Class A:\")\n",
        "\n",
        "class ParentB:\n",
        "  def test2(self):\n",
        "    print(\"Parent Class B:\")\n",
        "\n",
        "class Child(ParentA,ParentB):\n",
        "  def test3(self):\n",
        "    print(\"Child Class:\")\n",
        "    "
      ],
      "metadata": {
        "id": "KxeD0G-BwwqU"
      },
      "execution_count": 9,
      "outputs": []
    },
    {
      "cell_type": "code",
      "source": [
        "obj_child = Child()\n",
        "     \n",
        "\n",
        "obj_child.test3()"
      ],
      "metadata": {
        "colab": {
          "base_uri": "https://localhost:8080/"
        },
        "id": "CmK0D64syNnP",
        "outputId": "adbab988-7381-4936-8ad3-3d178a86ed6b"
      },
      "execution_count": 10,
      "outputs": [
        {
          "output_type": "stream",
          "name": "stdout",
          "text": [
            "Child Class:\n"
          ]
        }
      ]
    },
    {
      "cell_type": "code",
      "source": [
        "obj_child.test1()\n",
        "     \n",
        "obj_child.test2()\n",
        "     "
      ],
      "metadata": {
        "colab": {
          "base_uri": "https://localhost:8080/"
        },
        "id": "z1K0t0DTyRZB",
        "outputId": "5f45cb07-2d7a-4c6b-da46-f2748538048a"
      },
      "execution_count": 11,
      "outputs": [
        {
          "output_type": "stream",
          "name": "stdout",
          "text": [
            "Parent Class A:\n",
            "Parent Class B:\n"
          ]
        }
      ]
    },
    {
      "cell_type": "markdown",
      "source": [
        "##Q4. What are getter and setter in python? Create a class and create a getter and a setter method in this class.\n",
        "\n",
        "\n",
        "*   The main purpose of using getters and setters in object-oriented programs is to ensure data encapsulation. Private variables in python are not actually hidden fields like in other object oriented languages. Getters and Setters in python are often used when:\n",
        "\n",
        "*   We use getters & setters to add validation logic around getting and setting a value.\n",
        "To avoid direct access of a class field i.e. private variables cannot be accessed directly or modified by external user.\n",
        "\n"
      ],
      "metadata": {
        "id": "mu-7AJ46yZi3"
      }
    },
    {
      "cell_type": "code",
      "source": [
        "class Student:\n",
        "  def __init__(self,name,age=0,id=0):\n",
        "    self.id = id\n",
        "    self.__name = name\n",
        "    self.__age = age\n",
        "#setter function\n",
        "  def set_age(self,a):\n",
        "    self.__age = a\n",
        "  def set_name(self,n):\n",
        "    self.__name = n\n",
        "\n",
        "#getter function\n",
        "  def get_age(self):\n",
        "    return self.__age\n",
        "\n",
        "  def get_name(self):\n",
        "    return self.__name\n",
        "    "
      ],
      "metadata": {
        "id": "T1KR1fb2yVzi"
      },
      "execution_count": 12,
      "outputs": []
    },
    {
      "cell_type": "code",
      "source": [
        "obj_stu = Student('Siddhant',19,23451)\n",
        "\n",
        "obj_stu.id"
      ],
      "metadata": {
        "colab": {
          "base_uri": "https://localhost:8080/"
        },
        "id": "cATxZ250y6RE",
        "outputId": "00666dec-36fc-4fc8-9ab6-812226936747"
      },
      "execution_count": 14,
      "outputs": [
        {
          "output_type": "execute_result",
          "data": {
            "text/plain": [
              "23451"
            ]
          },
          "metadata": {},
          "execution_count": 14
        }
      ]
    },
    {
      "cell_type": "markdown",
      "source": [
        "#Q5.What is method overriding in python? Write a python code to demonstrate method overriding.\n",
        "\n",
        "*   Method overriding is an ability of any object-oriented programming language that allows a subclass or child class to provide a specific implementation of a method that is already provided by one of its super-classes or parent classes. When a method in a subclass has the same name, same parameters or signature and same return type(or sub-type) as a method in its super-class, then the method in the subclass is said to override the method in the super-class."
      ],
      "metadata": {
        "id": "YDY88EMlzIvX"
      }
    },
    {
      "cell_type": "code",
      "source": [
        "\n",
        "class Parent:\n",
        "  def __init__(self,n):\n",
        "    self.value = n\n",
        "  \n",
        "  def cal(self):\n",
        "    return self.value + 2\n",
        "\n",
        "class Child:\n",
        "  def __init__(self,n):\n",
        "    self.value = n\n",
        "\n",
        "  def cal(self):\n",
        "    return self.value * 2"
      ],
      "metadata": {
        "id": "aHycUjARy_iz"
      },
      "execution_count": 15,
      "outputs": []
    },
    {
      "cell_type": "code",
      "source": [
        "obj_parent = Parent(10)\n",
        "     \n",
        "\n",
        "obj_parent.cal()"
      ],
      "metadata": {
        "colab": {
          "base_uri": "https://localhost:8080/"
        },
        "id": "9HpgPS15zT6K",
        "outputId": "f777bf5e-ee59-4a07-ca3e-662b2548b50b"
      },
      "execution_count": 16,
      "outputs": [
        {
          "output_type": "execute_result",
          "data": {
            "text/plain": [
              "12"
            ]
          },
          "metadata": {},
          "execution_count": 16
        }
      ]
    },
    {
      "cell_type": "code",
      "source": [],
      "metadata": {
        "id": "SCYgvYv9zXgz"
      },
      "execution_count": null,
      "outputs": []
    }
  ]
}