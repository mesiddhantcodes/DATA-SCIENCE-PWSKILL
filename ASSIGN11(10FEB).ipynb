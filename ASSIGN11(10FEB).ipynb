{
  "nbformat": 4,
  "nbformat_minor": 0,
  "metadata": {
    "colab": {
      "provenance": [],
      "authorship_tag": "ABX9TyOMMfEbBX3o3f6RkPXHH4Ie",
      "include_colab_link": true
    },
    "kernelspec": {
      "name": "python3",
      "display_name": "Python 3"
    },
    "language_info": {
      "name": "python"
    }
  },
  "cells": [
    {
      "cell_type": "markdown",
      "metadata": {
        "id": "view-in-github",
        "colab_type": "text"
      },
      "source": [
        "<a href=\"https://colab.research.google.com/github/tanishqacodes/DATA-SCIENCE-MASTERS/blob/main/10_FEB_ASS.ipynb\" target=\"_parent\"><img src=\"https://colab.research.google.com/assets/colab-badge.svg\" alt=\"Open In Colab\"/></a>"
      ]
    },
    {
      "cell_type": "markdown",
      "source": [
        "### Q1. Which function is used to open a file? What are the different modes of opening a file? Explain each mode of file opening.\n",
        "* read() function is used to open a file.\n",
        "* DIFFERNT MODES :\n",
        "  1. r\tOpen a file for reading. (default)\n",
        "  2. w\tOpen a file for writing. Creates a new file if it does not exist or truncates the file if it exists.\n",
        "  3. x\tOpen a file for exclusive creation. If the file already exists, the operation fails.\n",
        "  4. a\tOpen a file for appending at the end of the file without truncating it. Creates a new file if it does not exist.\n",
        "  5. t\tOpen in text mode. (default)\n",
        "  6. b\tOpen in binary mode.\n",
        "  7. '+'\tOpen a file for updating (reading and writing)"
      ],
      "metadata": {
        "id": "BDpZuEsnBrTJ"
      }
    },
    {
      "cell_type": "code",
      "source": [
        "f = open('test1.txt','w')"
      ],
      "metadata": {
        "id": "hbE_ID6YBrCy"
      },
      "execution_count": 2,
      "outputs": []
    },
    {
      "cell_type": "code",
      "execution_count": 3,
      "metadata": {
        "id": "KfraoqS2A88f",
        "colab": {
          "base_uri": "https://localhost:8080/"
        },
        "outputId": "3620ade2-11ef-40c5-8bdf-d36fa75aca4d"
      },
      "outputs": [
        {
          "output_type": "execute_result",
          "data": {
            "text/plain": [
              "21"
            ]
          },
          "metadata": {},
          "execution_count": 3
        }
      ],
      "source": [
        "f.write(\"this is in write mode\")"
      ]
    },
    {
      "cell_type": "code",
      "source": [
        "f.close()"
      ],
      "metadata": {
        "id": "STmzmuQY-TOt"
      },
      "execution_count": 4,
      "outputs": []
    },
    {
      "cell_type": "code",
      "source": [
        "data = open('test1.txt','r')"
      ],
      "metadata": {
        "id": "X7s7G7tO-VKb"
      },
      "execution_count": 8,
      "outputs": []
    },
    {
      "cell_type": "code",
      "source": [
        "data.read()"
      ],
      "metadata": {
        "colab": {
          "base_uri": "https://localhost:8080/",
          "height": 35
        },
        "id": "_Oo8nj7c-ZW7",
        "outputId": "bdeb26eb-82db-45ce-aae3-9e17149808b7"
      },
      "execution_count": 10,
      "outputs": [
        {
          "output_type": "execute_result",
          "data": {
            "text/plain": [
              "'this is in write mode'"
            ],
            "application/vnd.google.colaboratory.intrinsic+json": {
              "type": "string"
            }
          },
          "metadata": {},
          "execution_count": 10
        }
      ]
    },
    {
      "cell_type": "code",
      "source": [
        "f = open('test1.txt','a')"
      ],
      "metadata": {
        "id": "ul1ksdGj-abu"
      },
      "execution_count": 11,
      "outputs": []
    },
    {
      "cell_type": "code",
      "source": [
        "f.write(\" append mode\")"
      ],
      "metadata": {
        "colab": {
          "base_uri": "https://localhost:8080/"
        },
        "id": "D7GF2bnA-qCB",
        "outputId": "d694df25-1f81-496b-8e63-1594dc62d512"
      },
      "execution_count": 12,
      "outputs": [
        {
          "output_type": "execute_result",
          "data": {
            "text/plain": [
              "12"
            ]
          },
          "metadata": {},
          "execution_count": 12
        }
      ]
    },
    {
      "cell_type": "code",
      "source": [
        "f.close()"
      ],
      "metadata": {
        "id": "UzCS9KfJ-s97"
      },
      "execution_count": 13,
      "outputs": []
    },
    {
      "cell_type": "code",
      "source": [
        "data = open('test1.txt','r')"
      ],
      "metadata": {
        "id": "0x7iys4n-ui6"
      },
      "execution_count": 14,
      "outputs": []
    },
    {
      "cell_type": "code",
      "source": [
        "data.read()"
      ],
      "metadata": {
        "colab": {
          "base_uri": "https://localhost:8080/",
          "height": 35
        },
        "id": "JTlQ9NDy-yYT",
        "outputId": "72188f53-0fb4-42ea-e6d5-3c0f8fe80ae8"
      },
      "execution_count": 15,
      "outputs": [
        {
          "output_type": "execute_result",
          "data": {
            "text/plain": [
              "'this is in write mode append mode'"
            ],
            "application/vnd.google.colaboratory.intrinsic+json": {
              "type": "string"
            }
          },
          "metadata": {},
          "execution_count": 15
        }
      ]
    },
    {
      "cell_type": "markdown",
      "source": [
        "### Q2. Why close() function is used? Why is it important to close a file?\n",
        "* The close() method closes an open file.\n",
        "* If you open files and never close them in Python, you might not notice any difference, especially if you’re working on one-file scripts.\n",
        "* You should always close your files, in some cases, due to buffering, changes made to a file may not show until you close the file.\n",
        "\n"
      ],
      "metadata": {
        "id": "wSL-t1IR-6En"
      }
    },
    {
      "cell_type": "markdown",
      "source": [
        "### Q3. Write a python program to create a text file. Write ‘I want to become a Data Scientist’ in that file. Then close the file. Open this file and read the content of the file."
      ],
      "metadata": {
        "id": "1t6tqLA2FBD-"
      }
    },
    {
      "cell_type": "code",
      "source": [
        "f = open('text.txt','w')"
      ],
      "metadata": {
        "id": "wuJriEEQ-0br"
      },
      "execution_count": 16,
      "outputs": []
    },
    {
      "cell_type": "code",
      "source": [
        "f.write(\"I want to become a Data Scientist\")"
      ],
      "metadata": {
        "colab": {
          "base_uri": "https://localhost:8080/"
        },
        "id": "03cKLmBdFISr",
        "outputId": "99e0f39b-2bb5-401c-a973-651134f2ffbf"
      },
      "execution_count": 17,
      "outputs": [
        {
          "output_type": "execute_result",
          "data": {
            "text/plain": [
              "33"
            ]
          },
          "metadata": {},
          "execution_count": 17
        }
      ]
    },
    {
      "cell_type": "code",
      "source": [
        "f.close()"
      ],
      "metadata": {
        "id": "-tV-f_ZTFMfK"
      },
      "execution_count": 18,
      "outputs": []
    },
    {
      "cell_type": "code",
      "source": [
        "f = open('text.txt','r')"
      ],
      "metadata": {
        "id": "Nz93bz5hFNwL"
      },
      "execution_count": 19,
      "outputs": []
    },
    {
      "cell_type": "code",
      "source": [
        "f.read()"
      ],
      "metadata": {
        "colab": {
          "base_uri": "https://localhost:8080/",
          "height": 35
        },
        "id": "IVbk9suBFQsf",
        "outputId": "464e7936-2577-4eca-fbdf-fabdf1eb9593"
      },
      "execution_count": 21,
      "outputs": [
        {
          "output_type": "execute_result",
          "data": {
            "text/plain": [
              "'I want to become a Data Scientist'"
            ],
            "application/vnd.google.colaboratory.intrinsic+json": {
              "type": "string"
            }
          },
          "metadata": {},
          "execution_count": 21
        }
      ]
    },
    {
      "cell_type": "markdown",
      "source": [
        "### Q4. Explain the following with python code: read(), readline() and readlines()."
      ],
      "metadata": {
        "id": "op0KieN-FTlL"
      }
    },
    {
      "cell_type": "code",
      "source": [
        "f = open('test4.txt','w')"
      ],
      "metadata": {
        "id": "YR7dkUaLFRNE"
      },
      "execution_count": 22,
      "outputs": []
    },
    {
      "cell_type": "code",
      "source": [
        "f.write('''Data scientists are a new breed of analytical data expert who have the technical skills to solve complex problems – and the curiosity to explore what problems need to be solved.\n",
        "\n",
        "They’re part mathematician, part computer scientist and part trend-spotter. And, because they straddle both the business and IT worlds, they’re highly sought-after and well-paid. Who wouldn’t want to be one?\n",
        "\n",
        "They’re also a sign of the times. Data scientists weren’t on many radars a decade ago, but their sudden popularity reflects how businesses now think about big data. That unwieldy mass of unstructured information can no longer be ignored and forgotten. It’s a virtual gold mine that helps boost revenue – as long as there’s someone who digs in and unearths business insights that no one thought to look for before. Enter the data scientist.''')"
      ],
      "metadata": {
        "colab": {
          "base_uri": "https://localhost:8080/"
        },
        "id": "eR0nBs4xFf4h",
        "outputId": "79359ea9-c3ad-47a4-cd5a-09462a24fe92"
      },
      "execution_count": 24,
      "outputs": [
        {
          "output_type": "execute_result",
          "data": {
            "text/plain": [
              "827"
            ]
          },
          "metadata": {},
          "execution_count": 24
        }
      ]
    },
    {
      "cell_type": "code",
      "source": [
        "f.close()"
      ],
      "metadata": {
        "id": "qrZp8Dm9F5C_"
      },
      "execution_count": 25,
      "outputs": []
    },
    {
      "cell_type": "code",
      "source": [
        "data = open('test4.txt','r')"
      ],
      "metadata": {
        "id": "t2ccieVHGLmG"
      },
      "execution_count": 27,
      "outputs": []
    },
    {
      "cell_type": "code",
      "source": [
        "data.readlines()"
      ],
      "metadata": {
        "colab": {
          "base_uri": "https://localhost:8080/"
        },
        "id": "sr-E8f88GOlV",
        "outputId": "e9fa9c0f-e746-4d05-8ef5-1a59c8d7a50d"
      },
      "execution_count": 28,
      "outputs": [
        {
          "output_type": "execute_result",
          "data": {
            "text/plain": [
              "['Data scientists are a new breed of analytical data expert who have the technical skills to solve complex problems – and the curiosity to explore what problems need to be solved.They’re part mathematician, part computer scientist and part trend-spotter. And, because they straddle both the business and IT worlds, they’re highly sought-after and well-paid. Who wouldn’t want to be one? They’re also a sign of the times. Data scientists weren’t on many radars a decade ago, but their sudden popularity reflects how businesses now think about big data. That unwieldy mass of unstructured information can no longer be ignored and forgotten. It’s a virtual gold mine that helps boost revenue – as long as there’s someone who digs in and unearths business insights that no one thought to look for before. Enter the data scientist.Data scientists are a new breed of analytical data expert who have the technical skills to solve complex problems – and the curiosity to explore what problems need to be solved.\\n',\n",
              " '\\n',\n",
              " 'They’re part mathematician, part computer scientist and part trend-spotter. And, because they straddle both the business and IT worlds, they’re highly sought-after and well-paid. Who wouldn’t want to be one?\\n',\n",
              " '\\n',\n",
              " 'They’re also a sign of the times. Data scientists weren’t on many radars a decade ago, but their sudden popularity reflects how businesses now think about big data. That unwieldy mass of unstructured information can no longer be ignored and forgotten. It’s a virtual gold mine that helps boost revenue – as long as there’s someone who digs in and unearths business insights that no one thought to look for before. Enter the data scientist.']"
            ]
          },
          "metadata": {},
          "execution_count": 28
        }
      ]
    },
    {
      "cell_type": "code",
      "source": [
        "data.seek(0)\n",
        "data.readline()"
      ],
      "metadata": {
        "colab": {
          "base_uri": "https://localhost:8080/",
          "height": 174
        },
        "id": "H1TCCwzPGU01",
        "outputId": "90b836ac-052e-4de6-fab9-ac8a1c18afc3"
      },
      "execution_count": 31,
      "outputs": [
        {
          "output_type": "execute_result",
          "data": {
            "text/plain": [
              "'Data scientists are a new breed of analytical data expert who have the technical skills to solve complex problems – and the curiosity to explore what problems need to be solved.They’re part mathematician, part computer scientist and part trend-spotter. And, because they straddle both the business and IT worlds, they’re highly sought-after and well-paid. Who wouldn’t want to be one? They’re also a sign of the times. Data scientists weren’t on many radars a decade ago, but their sudden popularity reflects how businesses now think about big data. That unwieldy mass of unstructured information can no longer be ignored and forgotten. It’s a virtual gold mine that helps boost revenue – as long as there’s someone who digs in and unearths business insights that no one thought to look for before. Enter the data scientist.Data scientists are a new breed of analytical data expert who have the technical skills to solve complex problems – and the curiosity to explore what problems need to be solved.\\n'"
            ],
            "application/vnd.google.colaboratory.intrinsic+json": {
              "type": "string"
            }
          },
          "metadata": {},
          "execution_count": 31
        }
      ]
    },
    {
      "cell_type": "code",
      "source": [
        "data.seek(0)\n",
        "data.read()"
      ],
      "metadata": {
        "colab": {
          "base_uri": "https://localhost:8080/",
          "height": 261
        },
        "id": "P-E6_P4hGXi6",
        "outputId": "70981bd2-d7c6-4b8b-cdc9-a4c50a0fcfdd"
      },
      "execution_count": 32,
      "outputs": [
        {
          "output_type": "execute_result",
          "data": {
            "text/plain": [
              "'Data scientists are a new breed of analytical data expert who have the technical skills to solve complex problems – and the curiosity to explore what problems need to be solved.They’re part mathematician, part computer scientist and part trend-spotter. And, because they straddle both the business and IT worlds, they’re highly sought-after and well-paid. Who wouldn’t want to be one? They’re also a sign of the times. Data scientists weren’t on many radars a decade ago, but their sudden popularity reflects how businesses now think about big data. That unwieldy mass of unstructured information can no longer be ignored and forgotten. It’s a virtual gold mine that helps boost revenue – as long as there’s someone who digs in and unearths business insights that no one thought to look for before. Enter the data scientist.Data scientists are a new breed of analytical data expert who have the technical skills to solve complex problems – and the curiosity to explore what problems need to be solved.\\n\\nThey’re part mathematician, part computer scientist and part trend-spotter. And, because they straddle both the business and IT worlds, they’re highly sought-after and well-paid. Who wouldn’t want to be one?\\n\\nThey’re also a sign of the times. Data scientists weren’t on many radars a decade ago, but their sudden popularity reflects how businesses now think about big data. That unwieldy mass of unstructured information can no longer be ignored and forgotten. It’s a virtual gold mine that helps boost revenue – as long as there’s someone who digs in and unearths business insights that no one thought to look for before. Enter the data scientist.'"
            ],
            "application/vnd.google.colaboratory.intrinsic+json": {
              "type": "string"
            }
          },
          "metadata": {},
          "execution_count": 32
        }
      ]
    },
    {
      "cell_type": "markdown",
      "source": [
        "### Q5. Explain why with statement is used with open(). What is the advantage of using with statement and open() together?\n",
        "* Unlike open() where you have to close the file with the close() method, the with statement closes the file for you without you telling it to.\n",
        "* This is because the with statement calls 2 built-in methods behind the scene – __enter()__ and __exit()__.\n",
        "* The __exit()__ method closes the file when the operation you specify is done."
      ],
      "metadata": {
        "id": "eSMq1mIaGqgf"
      }
    },
    {
      "cell_type": "code",
      "source": [
        "with open('test5.txt','w') as f:\n",
        "  f.write('hello world\\n')\n",
        "  f.write('tanishqa sharma')"
      ],
      "metadata": {
        "id": "MwZM0FdIGbtK"
      },
      "execution_count": 33,
      "outputs": []
    },
    {
      "cell_type": "code",
      "source": [
        "with open('test5.txt','r') as f:\n",
        "  print(f.read())"
      ],
      "metadata": {
        "colab": {
          "base_uri": "https://localhost:8080/"
        },
        "id": "XrTR9ABwHdSd",
        "outputId": "7a94244e-7a1d-40be-8ca1-f2d3cdf4df46"
      },
      "execution_count": 35,
      "outputs": [
        {
          "output_type": "stream",
          "name": "stdout",
          "text": [
            "hello world\n",
            "tanishqa sharma\n"
          ]
        }
      ]
    },
    {
      "cell_type": "markdown",
      "source": [
        "### Q6. Explain the write() and writelines() functions. Give a suitable example.\n",
        "* The MAIN  difference between the write() and writelines() is that write() is used to write a string to an already opened file while writelines() method is used to write a list of strings in an opened file."
      ],
      "metadata": {
        "id": "aqqlriESHsYD"
      }
    },
    {
      "cell_type": "code",
      "source": [
        "file1 = open(\"test6.txt\", \"w\")\n",
        "lst = []\n",
        "for i in range(3):\n",
        "\tname = input(\"Enter the name of the employee: \")\n",
        "\tlst.append(name + '\\n')\n",
        "\t\n",
        "file1.writelines(lst)\n",
        "file1.close()\n",
        "print(\"Data is written into the file.\")"
      ],
      "metadata": {
        "colab": {
          "base_uri": "https://localhost:8080/"
        },
        "id": "srXa46RyHjO1",
        "outputId": "4b75ba02-ed46-44a0-f565-61d73679be09"
      },
      "execution_count": 36,
      "outputs": [
        {
          "output_type": "stream",
          "name": "stdout",
          "text": [
            "Enter the name of the employee: tanishqa\n",
            "Enter the name of the employee: rohan\n",
            "Enter the name of the employee: sid\n",
            "Data is written into the file.\n"
          ]
        }
      ]
    },
    {
      "cell_type": "code",
      "source": [
        "file = open(\"test6_write.txt\", \"w\")\n",
        "\n",
        "for i in range(3):\n",
        "  name = input(\"Enter the name of the employee: \")\n",
        "  file.write(name)\n",
        "  file.write(\"\\n\")\n",
        "\t\n",
        "file.close()\n",
        "\n",
        "print(\"Data is written into the file.\")\n"
      ],
      "metadata": {
        "colab": {
          "base_uri": "https://localhost:8080/"
        },
        "id": "n4BQat1WIB4m",
        "outputId": "ac11c5d0-1af2-4729-c065-47595fd66e19"
      },
      "execution_count": 37,
      "outputs": [
        {
          "output_type": "stream",
          "name": "stdout",
          "text": [
            "Enter the name of the employee: hi\n",
            "Enter the name of the employee: ths\n",
            "Enter the name of the employee: me\n",
            "Data is written into the file.\n"
          ]
        }
      ]
    },
    {
      "cell_type": "code",
      "source": [],
      "metadata": {
        "id": "8iMRQJ5TITaQ"
      },
      "execution_count": null,
      "outputs": []
    }
  ]
}