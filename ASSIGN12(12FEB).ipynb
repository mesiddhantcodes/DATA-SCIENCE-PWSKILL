{
  "nbformat": 4,
  "nbformat_minor": 0,
  "metadata": {
    "colab": {
      "provenance": [],
      "authorship_tag": "ABX9TyPU5XPSBgawJHcsKDV5un8g",
      "include_colab_link": true
    },
    "kernelspec": {
      "name": "python3",
      "display_name": "Python 3"
    },
    "language_info": {
      "name": "python"
    }
  },
  "cells": [
    {
      "cell_type": "markdown",
      "metadata": {
        "id": "view-in-github",
        "colab_type": "text"
      },
      "source": [
        "<a href=\"https://colab.research.google.com/github/mesiddhantcodes/DATA-SCIENCE-PWSKILL/blob/main/ASSIGN12(12FEB).ipynb\" target=\"_parent\"><img src=\"https://colab.research.google.com/assets/colab-badge.svg\" alt=\"Open In Colab\"/></a>"
      ]
    },
    {
      "cell_type": "markdown",
      "source": [
        "Q1. What is an Exception in python? Write the difference between Exceptions and syntax error?\n",
        "\n",
        "\n",
        "\n",
        "\n",
        "1.   In Python, an Exception is an event that occurs during the execution of a program that disrupts the normal flow of the program's instructions. It is an error condition that signals something unexpected has happened during the execution of a program, such as a division by zero, an attempt to access a non-existent file, or a type error.\n",
        "\n",
        "2. Exceptions can be handled by the program using the try-except block. In this block, the code that could raise an exception is enclosed in the try block, and if an exception occurs, it is caught and handled in the except block.\n",
        "\n",
        "3. On the other hand, a syntax error occurs when the syntax of the code violates the rules of the language. This can happen when there are typos, missing or misplaced punctuation, or incorrect use of keywords.\n",
        "\n",
        "\n",
        "\n",
        "\n",
        "\n",
        "\n",
        "\n"
      ],
      "metadata": {
        "id": "mz8QN5_MQB8C"
      }
    },
    {
      "cell_type": "markdown",
      "source": [
        "Q2.What happen when an exception is not handled?Explain with an example.\n",
        "\n",
        "\n",
        "\n",
        "1. When an exception is not handled in Python, the program will terminate and an error message will be displayed that includes the type of the exception, the line number where the exception occurred, and the traceback of the function calls that led up to the exception.\n",
        "\n",
        "\n",
        "*  For example, consider the following code that tries to divide a number by zero and does not handle the ZeroDivisionError exception:\n",
        "\n",
        "\n",
        "\n",
        "\n"
      ],
      "metadata": {
        "id": "upMy-yp3RBQ9"
      }
    },
    {
      "cell_type": "code",
      "execution_count": null,
      "metadata": {
        "id": "hC-l0rwjPx98"
      },
      "outputs": [],
      "source": [
        "a = 10\n",
        "b = 0\n",
        "c = a/b\n"
      ]
    },
    {
      "cell_type": "markdown",
      "source": [
        "Q3. Which python statement are used to catch and handle exception?Explain with an example.\n",
        "\n",
        "1. In Python, the try-except statement is used to catch and handle exceptions. The try block contains the code that could raise an exception, and the except block is used to handle the exception.\n",
        "*  For example, consider the following code that tries to open a file that does not exist and handles the FileNotFoundError exception:\n",
        "\n"
      ],
      "metadata": {
        "id": "77EpYPQ1UDul"
      }
    },
    {
      "cell_type": "code",
      "source": [
        "try:\n",
        "    with open('nonexistent_file.txt', 'r') as f:\n",
        "        print(f.read())\n",
        "except FileNotFoundError:\n",
        "    print('File not found')\n"
      ],
      "metadata": {
        "id": "7wxB2YbQUlvv"
      },
      "execution_count": null,
      "outputs": []
    },
    {
      "cell_type": "markdown",
      "source": [
        "Q4.Explain with an example:\n",
        "1. try and else\n",
        "   *  In programming, \"try\" and \"else\" are used in a \"try-except\" block to handle errors that might occur during the execution of a piece of code.\n",
        "\n",
        "   *  The \"try\" block contains the code that might raise an exception, while the \"except\" block contains the code to handle the exception. If the code in the \"try\" block runs without raising an exception, the code in the \"except\" block is skipped.\n",
        "2.finally\n",
        "   *  In Python, the \"finally\" block is used in a \"try-except-finally\" block to execute a piece of code regardless of whether an exception was raised or not. The \"finally\" block is often used to release resources like files or network connections that were opened in the \"try\" block.\n",
        "3. raise\n",
        "   *   In Python, the \"raise\" keyword is used to raise an exception programmatically.\n",
        "\n"
      ],
      "metadata": {
        "id": "eMJ9onIzUqBm"
      }
    },
    {
      "cell_type": "code",
      "source": [
        "try:\n",
        "    x = int(input(\"Please enter a number: \"))\n",
        "    y = 10 / x\n",
        "except ValueError:\n",
        "    print(\"You did not enter a valid number.\")\n",
        "except ZeroDivisionError:\n",
        "    print(\"You cannot divide by zero.\")\n",
        "else:\n",
        "    print(\"The result is:\", y)\n",
        "#raise\n",
        "try:\n",
        "    f = open(\"example.txt\", \"r\")\n",
        "    lines = f.readlines()\n",
        "    for line in lines:\n",
        "        print(line)\n",
        "except IOError:\n",
        "    print(\"Could not read the file\")\n",
        "finally:\n",
        "    if f:\n",
        "        f.close()\n",
        "#finally\n",
        "def divide(x, y):\n",
        "    if y == 0:\n",
        "        raise ZeroDivisionError(\"Cannot divide by zero\")\n",
        "    return x / y\n",
        "\n",
        "try:\n",
        "    result = divide(10, 0)\n",
        "except ZeroDivisionError as e:\n",
        "    print(e)\n"
      ],
      "metadata": {
        "id": "MyjC_ev1V0U3"
      },
      "execution_count": null,
      "outputs": []
    },
    {
      "cell_type": "markdown",
      "source": [
        "Q5. What are custom exception in python?Why do we need custom exception ?Explain with an example.\n",
        "1.  Custom exceptions in Python are user-defined exceptions that are created by subclassing the built-in Exception class or one of its subclasses. By creating custom exceptions, you can provide more specific and meaningful error messages to help you and other developers debug and fix issues in your code.\n",
        "\n",
        "*  Here are some reasons why you might need to use custom exceptions in your Python code:\n",
        "\n",
        "*  To add more information to an exception: Sometimes the built-in exceptions may not provide enough information about the error that occurred. By creating custom exceptions, you can add more information to the exception message to help identify the problem.\n",
        "\n",
        "*  To make your code more readable: By using custom exceptions, you can make your code more expressive and easier to understand. Instead of using generic exceptions, you can use custom exceptions that convey more meaning about what went wrong in your code.\n",
        "\n",
        "* To handle specific errors: You can create a custom exception to handle a specific type of error that is not already covered by the built-in exceptions. This can help you write more specific error handling code and make your program more robust.\n"
      ],
      "metadata": {
        "id": "ZhdFxv6YW67e"
      }
    },
    {
      "cell_type": "code",
      "source": [
        "class InvalidInputError(Exception):\n",
        "    def __init__(self, message):\n",
        "        self.message = message\n",
        "\n",
        "def divide(x, y):\n",
        "    if y == 0:\n",
        "        raise InvalidInputError(\"Cannot divide by zero\")\n",
        "    return x / y\n",
        "\n",
        "try:\n",
        "    result = divide(10, 0)\n",
        "except InvalidInputError as e:\n",
        "    print(e.message)\n"
      ],
      "metadata": {
        "colab": {
          "base_uri": "https://localhost:8080/"
        },
        "id": "CmEYLVGqWncD",
        "outputId": "6c16d394-0c80-49d6-ffc3-c6e94b4ec4ca"
      },
      "execution_count": 2,
      "outputs": [
        {
          "output_type": "stream",
          "name": "stdout",
          "text": [
            "Cannot divide by zero\n"
          ]
        }
      ]
    },
    {
      "cell_type": "markdown",
      "source": [
        "Q6.Create a custom exception class.Use this class to handle an exception.\n"
      ],
      "metadata": {
        "id": "4kbaLmXbYCNN"
      }
    },
    {
      "cell_type": "code",
      "source": [
        "class NegativeNumberError(Exception):\n",
        "    def __init__(self, message=\"Number cannot be negative\"):\n",
        "        self.message = message\n",
        "        super().__init__(self.message)\n",
        "\n",
        "def square_root(n):\n",
        "    if n < 0:\n",
        "        raise NegativeNumberError()\n",
        "    return n ** 0.5\n",
        "\n",
        "try:\n",
        "    result = square_root(-4)\n",
        "except NegativeNumberError as e:\n",
        "    print(e.message)\n"
      ],
      "metadata": {
        "id": "4LUlUQH-X17K"
      },
      "execution_count": null,
      "outputs": []
    }
  ]
}