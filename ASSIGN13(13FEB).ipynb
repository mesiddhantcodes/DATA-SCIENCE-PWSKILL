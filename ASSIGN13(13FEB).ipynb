{
  "nbformat": 4,
  "nbformat_minor": 0,
  "metadata": {
    "colab": {
      "provenance": [],
      "authorship_tag": "ABX9TyPsTegyt+cL9xw1TtxJknn5",
      "include_colab_link": true
    },
    "kernelspec": {
      "name": "python3",
      "display_name": "Python 3"
    },
    "language_info": {
      "name": "python"
    }
  },
  "cells": [
    {
      "cell_type": "markdown",
      "metadata": {
        "id": "view-in-github",
        "colab_type": "text"
      },
      "source": [
        "<a href=\"https://colab.research.google.com/github/tanishqacodes/DATA-SCIENCE-MASTERS/blob/main/13_FEB_ASS.ipynb\" target=\"_parent\"><img src=\"https://colab.research.google.com/assets/colab-badge.svg\" alt=\"Open In Colab\"/></a>"
      ]
    },
    {
      "cell_type": "markdown",
      "source": [
        "### Q1. Explain why we have to use the Exception class while creating a Custom Exception.\n",
        "To create a custom exception class, you define a class that inherits from the built-in Exception class or one of its subclasses such as ValueError class."
      ],
      "metadata": {
        "id": "u4T6J_Rnd9OK"
      }
    },
    {
      "cell_type": "markdown",
      "source": [
        "### Q2. Write a python program to print Python Exception Hierarchy.\n"
      ],
      "metadata": {
        "id": "OdK4DuLeeQBE"
      }
    },
    {
      "cell_type": "code",
      "execution_count": 1,
      "metadata": {
        "colab": {
          "base_uri": "https://localhost:8080/"
        },
        "id": "GYz_Zv_udwMs",
        "outputId": "c572b983-21e0-4dec-94dd-2dbb1d710d7a"
      },
      "outputs": [
        {
          "output_type": "stream",
          "name": "stdout",
          "text": [
            "Hierarchy for Built-in exceptions is : \n"
          ]
        },
        {
          "output_type": "execute_result",
          "data": {
            "text/plain": [
              "[(object, ()), [(BaseException, (object,))]]"
            ]
          },
          "metadata": {},
          "execution_count": 1
        }
      ],
      "source": [
        "import inspect\n",
        "def treeClass(cls, ind = 0):\n",
        "\tprint ('-' * ind, cls.__name__)\n",
        "\tfor i in cls.__subclasses__():\n",
        "\t\ttreeClass(i, ind + 3)\n",
        "\n",
        "print(\"Hierarchy for Built-in exceptions is : \")\n",
        "inspect.getclasstree(inspect.getmro(BaseException))"
      ]
    },
    {
      "cell_type": "code",
      "source": [
        "treeClass(BaseException)"
      ],
      "metadata": {
        "colab": {
          "base_uri": "https://localhost:8080/"
        },
        "id": "92sG_GIxezaK",
        "outputId": "4f7c8930-bfa4-4ca3-f410-3f25d7c78e03"
      },
      "execution_count": 2,
      "outputs": [
        {
          "output_type": "stream",
          "name": "stdout",
          "text": [
            " BaseException\n",
            "--- Exception\n",
            "------ TypeError\n",
            "--------- MultipartConversionError\n",
            "--------- FloatOperation\n",
            "--------- UFuncTypeError\n",
            "------------ UFuncTypeError\n",
            "------------ UFuncTypeError\n",
            "------------ UFuncTypeError\n",
            "--------------- UFuncTypeError\n",
            "--------------- UFuncTypeError\n",
            "--------- ConversionError\n",
            "------ StopAsyncIteration\n",
            "------ StopIteration\n",
            "------ ImportError\n",
            "--------- ModuleNotFoundError\n",
            "--------- ZipImportError\n",
            "------ OSError\n",
            "--------- ConnectionError\n",
            "------------ BrokenPipeError\n",
            "------------ ConnectionAbortedError\n",
            "------------ ConnectionRefusedError\n",
            "------------ ConnectionResetError\n",
            "--------------- RemoteDisconnected\n",
            "--------- BlockingIOError\n",
            "--------- ChildProcessError\n",
            "--------- FileExistsError\n",
            "--------- FileNotFoundError\n",
            "------------ ExecutableNotFoundError\n",
            "--------- IsADirectoryError\n",
            "--------- NotADirectoryError\n",
            "--------- InterruptedError\n",
            "------------ InterruptedSystemCall\n",
            "--------- PermissionError\n",
            "--------- ProcessLookupError\n",
            "--------- TimeoutError\n",
            "--------- UnsupportedOperation\n",
            "--------- ItimerError\n",
            "--------- Error\n",
            "------------ SameFileError\n",
            "--------- SpecialFileError\n",
            "--------- ExecError\n",
            "--------- ReadError\n",
            "--------- herror\n",
            "--------- gaierror\n",
            "--------- timeout\n",
            "--------- SSLError\n",
            "------------ SSLCertVerificationError\n",
            "------------ SSLZeroReturnError\n",
            "------------ SSLWantReadError\n",
            "------------ SSLWantWriteError\n",
            "------------ SSLSyscallError\n",
            "------------ SSLEOFError\n",
            "--------- URLError\n",
            "------------ HTTPError\n",
            "------------ ContentTooShortError\n",
            "--------- BadGzipFile\n",
            "--------- ProxyError\n",
            "------------ GeneralProxyError\n",
            "------------ ProxyConnectionError\n",
            "------------ SOCKS5AuthError\n",
            "------------ SOCKS5Error\n",
            "------------ SOCKS4Error\n",
            "------------ HTTPError\n",
            "--------- UnidentifiedImageError\n",
            "------ EOFError\n",
            "--------- IncompleteReadError\n",
            "------ RuntimeError\n",
            "--------- RecursionError\n",
            "--------- NotImplementedError\n",
            "------------ StdinNotImplementedError\n",
            "------------ ZMQVersionError\n",
            "--------- _DeadlockError\n",
            "--------- BrokenBarrierError\n",
            "--------- BrokenExecutor\n",
            "--------- SendfileNotAvailableError\n",
            "--------- TooHardError\n",
            "--------- ExtractionError\n",
            "--------- VariableError\n",
            "------ NameError\n",
            "--------- UnboundLocalError\n",
            "------ AttributeError\n",
            "------ SyntaxError\n",
            "--------- IndentationError\n",
            "------------ TabError\n",
            "------ LookupError\n",
            "--------- IndexError\n",
            "------------ AxisError\n",
            "------------ OutOfBounds\n",
            "--------- KeyError\n",
            "------------ UnknownBackend\n",
            "------------ NoSuchKernel\n",
            "--------- CodecRegistryError\n",
            "------ ValueError\n",
            "--------- UnicodeError\n",
            "------------ UnicodeEncodeError\n",
            "------------ UnicodeDecodeError\n",
            "------------ UnicodeTranslateError\n",
            "--------- UnsupportedOperation\n",
            "--------- JSONDecodeError\n",
            "--------- Error\n",
            "--------- ClassNotFound\n",
            "--------- SSLCertVerificationError\n",
            "--------- ClipboardEmpty\n",
            "--------- MessageDefect\n",
            "------------ NoBoundaryInMultipartDefect\n",
            "------------ StartBoundaryNotFoundDefect\n",
            "------------ CloseBoundaryNotFoundDefect\n",
            "------------ FirstHeaderLineIsContinuationDefect\n",
            "------------ MisplacedEnvelopeHeaderDefect\n",
            "------------ MissingHeaderBodySeparatorDefect\n",
            "------------ MultipartInvariantViolationDefect\n",
            "------------ InvalidMultipartContentTransferEncodingDefect\n",
            "------------ UndecodableBytesDefect\n",
            "------------ InvalidBase64PaddingDefect\n",
            "------------ InvalidBase64CharactersDefect\n",
            "------------ InvalidBase64LengthDefect\n",
            "------------ HeaderDefect\n",
            "--------------- InvalidHeaderDefect\n",
            "--------------- HeaderMissingRequiredValue\n",
            "--------------- NonPrintableDefect\n",
            "--------------- ObsoleteHeaderDefect\n",
            "--------------- NonASCIILocalPartDefect\n",
            "--------- IllegalMonthError\n",
            "--------- IllegalWeekdayError\n",
            "--------- MacroToEdit\n",
            "--------- ParserError\n",
            "--------- DisabledFunctionError\n",
            "--------- AxisError\n",
            "--------- NonIntersectingPathException\n",
            "--------- InvalidFileException\n",
            "--------- InvalidVersion\n",
            "--------- InvalidSpecifier\n",
            "--------- InvalidMarker\n",
            "--------- UndefinedComparison\n",
            "--------- UndefinedEnvironmentName\n",
            "--------- InvalidRequirement\n",
            "------------ RequirementParseError\n",
            "------ AssertionError\n",
            "------ ArithmeticError\n",
            "--------- FloatingPointError\n",
            "--------- OverflowError\n",
            "--------- ZeroDivisionError\n",
            "------------ DivisionByZero\n",
            "------------ DivisionUndefined\n",
            "--------- DecimalException\n",
            "------------ Clamped\n",
            "------------ Rounded\n",
            "--------------- Underflow\n",
            "--------------- Overflow\n",
            "------------ Inexact\n",
            "--------------- Underflow\n",
            "--------------- Overflow\n",
            "------------ Subnormal\n",
            "--------------- Underflow\n",
            "------------ DivisionByZero\n",
            "------------ FloatOperation\n",
            "------------ InvalidOperation\n",
            "--------------- ConversionSyntax\n",
            "--------------- DivisionImpossible\n",
            "--------------- DivisionUndefined\n",
            "--------------- InvalidContext\n",
            "------ SystemError\n",
            "--------- CodecRegistryError\n",
            "------ ReferenceError\n",
            "------ MemoryError\n",
            "--------- MemoryError\n",
            "------ BufferError\n",
            "------ Warning\n",
            "--------- UserWarning\n",
            "------------ GetPassWarning\n",
            "------------ FormatterWarning\n",
            "------------ VisibleDeprecationWarning\n",
            "------------ RankWarning\n",
            "------------ ConversionWarning\n",
            "------------ RankWarning\n",
            "------------ MatplotlibDeprecationWarning\n",
            "------------ IgnoredKeywordWarning\n",
            "--------- DeprecationWarning\n",
            "------------ ProvisionalWarning\n",
            "------------ ModuleDeprecationWarning\n",
            "--------- PendingDeprecationWarning\n",
            "--------- SyntaxWarning\n",
            "--------- RuntimeWarning\n",
            "------------ ProactorSelectorThreadWarning\n",
            "------------ UnknownTimezoneWarning\n",
            "------------ ComplexWarning\n",
            "------------ DecompressionBombWarning\n",
            "------------ PEP440Warning\n",
            "--------- FutureWarning\n",
            "------------ ProvisionalCompleterWarning\n",
            "------------ MaskedArrayFutureWarning\n",
            "--------- ImportWarning\n",
            "--------- UnicodeWarning\n",
            "--------- BytesWarning\n",
            "--------- ResourceWarning\n",
            "--------- DeprecatedTzFormatWarning\n",
            "--------- MathTextWarning\n",
            "--------- PkgResourcesDeprecationWarning\n",
            "------ _OptionError\n",
            "------ error\n",
            "------ Verbose\n",
            "------ Error\n",
            "------ _Error\n",
            "------ SubprocessError\n",
            "--------- CalledProcessError\n",
            "--------- TimeoutExpired\n",
            "------ Error\n",
            "------ TokenError\n",
            "------ StopTokenizing\n",
            "------ error\n",
            "------ LZMAError\n",
            "------ RegistryError\n",
            "------ _GiveupOnFastCopy\n",
            "------ EndOfBlock\n",
            "------ TraitError\n",
            "------ _GiveupOnSendfile\n",
            "------ error\n",
            "------ PickleError\n",
            "--------- PicklingError\n",
            "--------- UnpicklingError\n",
            "------ _Stop\n",
            "------ Empty\n",
            "------ Full\n",
            "------ ArgumentError\n",
            "------ ArgumentTypeError\n",
            "------ ConfigError\n",
            "--------- ConfigLoaderError\n",
            "------------ ArgumentError\n",
            "--------- ConfigFileNotFound\n",
            "------ ConfigurableError\n",
            "--------- MultipleInstanceError\n",
            "------ ApplicationError\n",
            "------ ErrorDuringImport\n",
            "------ BdbQuit\n",
            "------ Restart\n",
            "------ ExceptionPexpect\n",
            "--------- EOF\n",
            "--------- TIMEOUT\n",
            "------ error\n",
            "------ PtyProcessError\n",
            "------ FindCmdError\n",
            "------ HomeDirError\n",
            "------ ProfileDirError\n",
            "------ IPythonCoreError\n",
            "--------- TryNext\n",
            "--------- UsageError\n",
            "--------- StdinNotImplementedError\n",
            "------ InputRejected\n",
            "------ GetoptError\n",
            "------ Incomplete\n",
            "------ OptionError\n",
            "------ ErrorToken\n",
            "------ Error\n",
            "--------- CancelledError\n",
            "--------- TimeoutError\n",
            "--------- InvalidStateError\n",
            "------ TimeoutError\n",
            "------ InvalidStateError\n",
            "------ LimitOverrunError\n",
            "------ QueueEmpty\n",
            "------ QueueFull\n",
            "------ PrefilterError\n",
            "------ AliasError\n",
            "--------- InvalidAliasError\n",
            "------ Error\n",
            "--------- InterfaceError\n",
            "--------- DatabaseError\n",
            "------------ InternalError\n",
            "------------ OperationalError\n",
            "------------ ProgrammingError\n",
            "------------ IntegrityError\n",
            "------------ DataError\n",
            "------------ NotSupportedError\n",
            "------ Warning\n",
            "------ SpaceInInput\n",
            "------ TaskLocalNotSetError\n",
            "------ InvalidStateError\n",
            "------ Return\n",
            "------ NoRunningApplicationError\n",
            "------ ValidationError\n",
            "------ EditReadOnlyBuffer\n",
            "------ _Retry\n",
            "------ DOMException\n",
            "--------- IndexSizeErr\n",
            "--------- DomstringSizeErr\n",
            "--------- HierarchyRequestErr\n",
            "--------- WrongDocumentErr\n",
            "--------- InvalidCharacterErr\n",
            "--------- NoDataAllowedErr\n",
            "--------- NoModificationAllowedErr\n",
            "--------- NotFoundErr\n",
            "--------- NotSupportedErr\n",
            "--------- InuseAttributeErr\n",
            "--------- InvalidStateErr\n",
            "--------- SyntaxErr\n",
            "--------- InvalidModificationErr\n",
            "--------- NamespaceErr\n",
            "--------- InvalidAccessErr\n",
            "--------- ValidationErr\n",
            "------ InvalidLayoutError\n",
            "------ HeightIsUnknownError\n",
            "------ MessageError\n",
            "--------- MessageParseError\n",
            "------------ HeaderParseError\n",
            "------------ BoundaryError\n",
            "--------- MultipartConversionError\n",
            "--------- CharsetError\n",
            "------ Error\n",
            "------ HTTPException\n",
            "--------- NotConnected\n",
            "--------- InvalidURL\n",
            "--------- UnknownProtocol\n",
            "--------- UnknownTransferEncoding\n",
            "--------- UnimplementedFileMode\n",
            "--------- IncompleteRead\n",
            "--------- ImproperConnectionState\n",
            "------------ CannotSendRequest\n",
            "------------ CannotSendHeader\n",
            "------------ ResponseNotReady\n",
            "--------- BadStatusLine\n",
            "------------ RemoteDisconnected\n",
            "--------- LineTooLong\n",
            "------ InteractivelyDefined\n",
            "------ KillEmbedded\n",
            "------ ArgumentError\n",
            "------ ZMQBaseError\n",
            "--------- ZMQError\n",
            "------------ ContextTerminated\n",
            "------------ Again\n",
            "------------ InterruptedSystemCall\n",
            "--------- ZMQBindError\n",
            "--------- NotDone\n",
            "------ NoIPAddresses\n",
            "------ Error\n",
            "--------- NoSectionError\n",
            "--------- DuplicateSectionError\n",
            "--------- DuplicateOptionError\n",
            "--------- NoOptionError\n",
            "--------- InterpolationError\n",
            "------------ InterpolationMissingOptionError\n",
            "------------ InterpolationSyntaxError\n",
            "------------ InterpolationDepthError\n",
            "--------- ParsingError\n",
            "------------ MissingSectionHeaderError\n",
            "------ InvalidPortNumber\n",
            "------ DuplicateKernelError\n",
            "------ TimeoutError\n",
            "------ error\n",
            "------ ReturnValueIgnoredError\n",
            "------ KeyReuseError\n",
            "------ UnknownKeyError\n",
            "------ LeakedCallbackError\n",
            "------ BadYieldError\n",
            "------ ReturnValueIgnoredError\n",
            "------ Return\n",
            "------ QueueEmpty\n",
            "------ QueueFull\n",
            "------ Error\n",
            "--------- AuthorizationError\n",
            "--------- RuntimeManagementError\n",
            "--------- MessageError\n",
            "------ WidgetException\n",
            "------ JsException\n",
            "------ FormattedTracebackError\n",
            "------ Error\n",
            "--------- NoSuchProcess\n",
            "------------ ZombieProcess\n",
            "--------- AccessDenied\n",
            "--------- TimeoutExpired\n",
            "------ _Ipv6UnsupportedError\n",
            "------ HttpLib2Error\n",
            "--------- HttpLib2ErrorWithResponse\n",
            "------------ RedirectMissingLocation\n",
            "------------ RedirectLimit\n",
            "------------ FailedToDecompressContent\n",
            "------------ UnimplementedDigestAuthOptionError\n",
            "------------ UnimplementedHmacDigestAuthOptionError\n",
            "--------- MalformedHeader\n",
            "--------- RelativeURIError\n",
            "--------- ServerNotFoundError\n",
            "--------- ProxiesUnavailableError\n",
            "------ LapackError\n",
            "------ LinAlgError\n",
            "------ ConverterError\n",
            "--------- ConverterLockError\n",
            "------ MAError\n",
            "--------- MaskError\n",
            "------ ParseBaseException\n",
            "--------- ParseException\n",
            "--------- ParseFatalException\n",
            "------------ ParseSyntaxException\n",
            "------ RecursiveGrammarException\n",
            "------ DuplicateConstraint\n",
            "------ UnsatisfiableConstraint\n",
            "------ UnknownConstraint\n",
            "------ DuplicateEditVariable\n",
            "------ UnknownEditVariable\n",
            "------ BadRequiredStrength\n",
            "------ NonGuiException\n",
            "------ Error\n",
            "------ InvalidIndexError\n",
            "------ TerminateTrajectory\n",
            "------ DecompressionBombError\n",
            "------ FFIError\n",
            "------ CDefError\n",
            "------ VerificationError\n",
            "------ VerificationMissing\n",
            "------ PkgConfigError\n",
            "------ NoFreePortFoundError\n",
            "------ ExpatError\n",
            "------ Error\n",
            "--------- ProtocolError\n",
            "--------- ResponseError\n",
            "--------- Fault\n",
            "------ BadZipFile\n",
            "------ LargeZipFile\n",
            "------ ParseBaseException\n",
            "--------- ParseException\n",
            "--------- ParseFatalException\n",
            "------------ ParseSyntaxException\n",
            "------ RecursiveGrammarException\n",
            "------ ResolutionError\n",
            "--------- VersionConflict\n",
            "------------ ContextualVersionConflict\n",
            "--------- DistributionNotFound\n",
            "--------- UnknownExtra\n",
            "------ UnableToResolveVariableException\n",
            "--- GeneratorExit\n",
            "--- SystemExit\n",
            "--- KeyboardInterrupt\n",
            "--- CancelledError\n"
          ]
        }
      ]
    },
    {
      "cell_type": "markdown",
      "source": [
        "### Q3. What errors are defined in the ArithmeticError class? Explain any two with an example.\n",
        "The arithmetic error occurs when an error is encountered during numeric calculations in Python. This includes Zerodivision Error and Floating point error. In addition, zero division error is raised when you divide a numeric value by zero."
      ],
      "metadata": {
        "id": "HzEqScuge_8G"
      }
    },
    {
      "cell_type": "code",
      "source": [
        "a = 10\n",
        "10/0"
      ],
      "metadata": {
        "colab": {
          "base_uri": "https://localhost:8080/",
          "height": 183
        },
        "id": "tKC692zBe6YH",
        "outputId": "6845ae82-0154-40a4-e734-863e7545ef9a"
      },
      "execution_count": 3,
      "outputs": [
        {
          "output_type": "error",
          "ename": "ZeroDivisionError",
          "evalue": "ignored",
          "traceback": [
            "\u001b[0;31m---------------------------------------------------------------------------\u001b[0m",
            "\u001b[0;31mZeroDivisionError\u001b[0m                         Traceback (most recent call last)",
            "\u001b[0;32m<ipython-input-3-c9377b4baee8>\u001b[0m in \u001b[0;36m<module>\u001b[0;34m\u001b[0m\n\u001b[1;32m      1\u001b[0m \u001b[0ma\u001b[0m \u001b[0;34m=\u001b[0m \u001b[0;36m10\u001b[0m\u001b[0;34m\u001b[0m\u001b[0;34m\u001b[0m\u001b[0m\n\u001b[0;32m----> 2\u001b[0;31m \u001b[0;36m10\u001b[0m\u001b[0;34m/\u001b[0m\u001b[0;36m0\u001b[0m\u001b[0;34m\u001b[0m\u001b[0;34m\u001b[0m\u001b[0m\n\u001b[0m",
            "\u001b[0;31mZeroDivisionError\u001b[0m: division by zero"
          ]
        }
      ]
    },
    {
      "cell_type": "code",
      "source": [
        "1.2-1.0"
      ],
      "metadata": {
        "colab": {
          "base_uri": "https://localhost:8080/"
        },
        "id": "T6aKdtr_fTCq",
        "outputId": "8ae49660-36fa-469e-a7ab-8b0e9dc44c01"
      },
      "execution_count": 4,
      "outputs": [
        {
          "output_type": "execute_result",
          "data": {
            "text/plain": [
              "0.19999999999999996"
            ]
          },
          "metadata": {},
          "execution_count": 4
        }
      ]
    },
    {
      "cell_type": "markdown",
      "source": [
        "### Q4. Why LookupError class is used? Explain with an example KeyError and IndexError.\n",
        "Lookup Error acts as a base class for the exceptions that occur when a key or index used on a mapping or sequence of a list/dictionary is invalid or does not exists.\n",
        "* KeyError\n",
        "* IndexError"
      ],
      "metadata": {
        "id": "gqgteLLOfmJ5"
      }
    },
    {
      "cell_type": "code",
      "source": [
        "try:  \n",
        "    a = {1:'a', 2:'b', 3:'c'}  \n",
        "    print (a[4])  \n",
        "except LookupError:  \n",
        "    print (\"Key Error Exception Raised.\")\n",
        "else:  \n",
        "    print (\"Success, no error!\")"
      ],
      "metadata": {
        "colab": {
          "base_uri": "https://localhost:8080/"
        },
        "id": "6IebBwnqfiCh",
        "outputId": "ff84e8b9-e4e2-4be4-c500-5a3a68eb8403"
      },
      "execution_count": 5,
      "outputs": [
        {
          "output_type": "stream",
          "name": "stdout",
          "text": [
            "Key Error Exception Raised.\n"
          ]
        }
      ]
    },
    {
      "cell_type": "code",
      "source": [
        "try:  \n",
        "    a = ['a', 'b', 'c']  \n",
        "    print (a[4])  \n",
        "except LookupError:  \n",
        "    print (\"Index Error Exception Raised, list index out of range\")\n",
        "else:  \n",
        "    print (\"Success, no error!\")"
      ],
      "metadata": {
        "colab": {
          "base_uri": "https://localhost:8080/"
        },
        "id": "T1PWwHuCf-CY",
        "outputId": "527a5f48-6ce4-46dc-99d2-469520ab3801"
      },
      "execution_count": 6,
      "outputs": [
        {
          "output_type": "stream",
          "name": "stdout",
          "text": [
            "Index Error Exception Raised, list index out of range\n"
          ]
        }
      ]
    },
    {
      "cell_type": "markdown",
      "source": [
        "### Q5. Explain ImportError. What is ModuleNotFoundError?\n",
        "1. **IMPORT ERROR** :-\n",
        "This error generally occurs when a class cannot be imported due to one of the following reasons:\n",
        "\n",
        "* The imported class is in a circular dependency.\n",
        "* The imported class is unavailable or was not created.\n",
        "* The imported class name is misspelled.\n",
        "* The imported class from a module is misplaced.\n",
        "* The imported class is unavailable in the Python library.\n",
        "\n",
        "cannot import name 'modulename'\n",
        "\n",
        "2. **MODULENOTFOUNDERROR** :- \n",
        "* Can't find the module\n",
        "No module named 'modulename'"
      ],
      "metadata": {
        "id": "PmzZkFNXgG82"
      }
    },
    {
      "cell_type": "markdown",
      "source": [
        "### Q6. List down some best practices for exception handling in python."
      ],
      "metadata": {
        "id": "7z95UPKBhpPQ"
      }
    },
    {
      "cell_type": "code",
      "source": [
        "# use always a specific exception\n",
        "try:\n",
        "    10/0\n",
        "except Exception as e:\n",
        "    print(e)"
      ],
      "metadata": {
        "colab": {
          "base_uri": "https://localhost:8080/"
        },
        "id": "oIa1W7eagCwI",
        "outputId": "4c13f4ec-b99a-4d0f-982a-b8ef2046e969"
      },
      "execution_count": 7,
      "outputs": [
        {
          "output_type": "stream",
          "name": "stdout",
          "text": [
            "division by zero\n"
          ]
        }
      ]
    },
    {
      "cell_type": "code",
      "source": [
        "try:\n",
        "    10/0\n",
        "except ZeroDivisionError as e:\n",
        "    print(e)"
      ],
      "metadata": {
        "colab": {
          "base_uri": "https://localhost:8080/"
        },
        "id": "_gJkgca5h6w5",
        "outputId": "668c18df-cd7f-40e0-aec4-2a22f34fa25a"
      },
      "execution_count": 8,
      "outputs": [
        {
          "output_type": "stream",
          "name": "stdout",
          "text": [
            "division by zero\n"
          ]
        }
      ]
    },
    {
      "cell_type": "code",
      "source": [
        "#print always a valid msg\n",
        "try:\n",
        "    10/0\n",
        "except ZeroDivisionError as e:\n",
        "    print(\"this is my zero devision error : i am handling\",e)"
      ],
      "metadata": {
        "colab": {
          "base_uri": "https://localhost:8080/"
        },
        "id": "cUlD2uvqh91o",
        "outputId": "0b2d5127-64d7-4bee-b562-bed79b9aea8a"
      },
      "execution_count": 9,
      "outputs": [
        {
          "output_type": "stream",
          "name": "stdout",
          "text": [
            "this is my zero devision error : i am handling division by zero\n"
          ]
        }
      ]
    },
    {
      "cell_type": "code",
      "source": [
        "#always try to log\n",
        "import logging\n",
        "logging.basicConfig(filename = 'error.log',level = logging.ERROR)\n",
        "try:\n",
        "    10/0\n",
        "except ZeroDivisionError as e:\n",
        "    logging.error(\"this is my zero devision error : i am handling {} \".format(e))"
      ],
      "metadata": {
        "colab": {
          "base_uri": "https://localhost:8080/"
        },
        "id": "gQvwVzETiAcY",
        "outputId": "cde96358-7763-4fa4-d2ef-d9a11bb26992"
      },
      "execution_count": 10,
      "outputs": [
        {
          "output_type": "stream",
          "name": "stderr",
          "text": [
            "ERROR:root:this is my zero devision error : i am handling division by zero \n"
          ]
        }
      ]
    },
    {
      "cell_type": "code",
      "source": [
        "# always avoid to write multiple exception handling\n",
        "try :\n",
        "    10/0\n",
        "except FileNotFoundError as e : \n",
        "    logging.error(\"this is my file not found  {} \".format( e))\n",
        "except AttributeError as e : \n",
        "    logging.error(\"this is my attribute error  {} \".format( e))\n",
        "except ZeroDivisionError as e :\n",
        "    logging.error(\"this is my zero dedision error i am handling {} \".format( e))"
      ],
      "metadata": {
        "colab": {
          "base_uri": "https://localhost:8080/"
        },
        "id": "dq21h8QXiDTI",
        "outputId": "3b68bf64-9afa-42b0-be4d-bf04928a132d"
      },
      "execution_count": 11,
      "outputs": [
        {
          "output_type": "stream",
          "name": "stderr",
          "text": [
            "ERROR:root:this is my zero dedision error i am handling division by zero \n"
          ]
        }
      ]
    },
    {
      "cell_type": "code",
      "source": [
        "#prepare a proper doucmentation"
      ],
      "metadata": {
        "id": "akajmFhsiFe4"
      },
      "execution_count": 12,
      "outputs": []
    },
    {
      "cell_type": "code",
      "source": [
        "#cleanup all the resoures\n",
        "try :\n",
        "    with open(\"test.txt\" , \"w\" ) as f :\n",
        "        f.write(\"thsi is my msg to file \" )\n",
        "except FileNotFoundError as e : \n",
        "     logging.error(\"this is my file not found  {} \".format( e))\n",
        "finally : \n",
        "    f.close()"
      ],
      "metadata": {
        "id": "XO9hDmBBiHXo"
      },
      "execution_count": 13,
      "outputs": []
    },
    {
      "cell_type": "code",
      "source": [],
      "metadata": {
        "id": "fisvs6yziJmA"
      },
      "execution_count": null,
      "outputs": []
    }
  ]
}