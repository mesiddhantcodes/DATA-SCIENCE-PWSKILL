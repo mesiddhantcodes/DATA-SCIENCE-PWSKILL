{
  "nbformat": 4,
  "nbformat_minor": 0,
  "metadata": {
    "colab": {
      "provenance": [],
      "authorship_tag": "ABX9TyPkhYH4Ubi+0yxyvjAb+COd",
      "include_colab_link": true
    },
    "kernelspec": {
      "name": "python3",
      "display_name": "Python 3"
    },
    "language_info": {
      "name": "python"
    }
  },
  "cells": [
    {
      "cell_type": "markdown",
      "metadata": {
        "id": "view-in-github",
        "colab_type": "text"
      },
      "source": [
        "<a href=\"https://colab.research.google.com/github/tanishqacodes/DATA-SCIENCE-MASTERS/blob/main/14_FEB_ASS.ipynb\" target=\"_parent\"><img src=\"https://colab.research.google.com/assets/colab-badge.svg\" alt=\"Open In Colab\"/></a>"
      ]
    },
    {
      "cell_type": "markdown",
      "source": [
        "### 1). What is multithreading in python? why is it used? Name the module used to handle threads in python.\n",
        "A thread is a unit of execution within a process. Multithreading refers to concurrently executing multiple threads by rapidly switching the control of the CPU between threads (called context switching).\n",
        "\n",
        "* Mainly used for to run conncurrent execution of the process.\n",
        "\n",
        "* Module -> threading."
      ],
      "metadata": {
        "id": "bbEcKrxUpx9H"
      }
    },
    {
      "cell_type": "markdown",
      "source": [
        "### 2). Why threading module used? write the use of the following functions\n",
        "1. activeCount()\n",
        "2. currentThread()\n",
        "3. enumerate()\n",
        "\n",
        "* Threading module is used to implement multithreading in python.\n",
        "* 1. activeCount() ->  is used to count the currently active or running threads.\n",
        "* 2. currentThread() -> current_thread() is an inbuilt method of the threading module in Python. It is used to return the current Thread object, which corresponds to the caller's thread of control.\n",
        "* 3. enumerate() -> Enumerate() method adds a counter to an iterable and returns it in a form of enumerating object. This enumerated object can then be used directly for loops or converted into a list of tuples using the list() function.\n"
      ],
      "metadata": {
        "id": "t5uJHOIPq6QP"
      }
    },
    {
      "cell_type": "markdown",
      "source": [
        "### 3). Explain the following functions\n",
        "1. run()\n",
        "2. start()\n",
        "3. join()\n",
        "4. isAlive()\n",
        "\n",
        "* 1. run() -> The run() method is the entry point for a thread.\n",
        "* 2. start() ->  The start() method starts a thread by calling the run method.\n",
        "* 3. join() -> The join() waits for threads to terminate.\n",
        "* 4. isAlive() -> The isAlive() method checks whether a thread is still executing."
      ],
      "metadata": {
        "id": "-Bdx2J1Ws2u0"
      }
    },
    {
      "cell_type": "markdown",
      "source": [
        "### 4. Write a python program to create two threads. Thread one must print the list of squares and thread two must print the list of cubes."
      ],
      "metadata": {
        "id": "Iy0Rkiwx0VLG"
      }
    },
    {
      "cell_type": "code",
      "execution_count": 1,
      "metadata": {
        "colab": {
          "base_uri": "https://localhost:8080/"
        },
        "id": "YGr7eWuyps6l",
        "outputId": "a9201dec-f461-4f17-f8c7-882918f97d19"
      },
      "outputs": [
        {
          "output_type": "stream",
          "name": "stdout",
          "text": [
            "1 squared is 1\n",
            "2 squared is 4\n",
            "3 squared is 9\n",
            "4 squared is 16\n",
            "5 squared is 25\n",
            "6 squared is 36\n",
            "7 squared is 49\n",
            "8 squared is 64\n",
            "9 squared is 81\n",
            "10 squared is 100\n",
            "1 cubed is 1\n",
            "2 cubed is 8\n",
            "3 cubed is 27\n",
            "4 cubed is 64\n",
            "5 cubed is 125\n",
            "6 cubed is 216\n",
            "7 cubed is 343\n",
            "8 cubed is 512\n",
            "9 cubed is 729\n",
            "10 cubed is 1000\n"
          ]
        }
      ],
      "source": [
        "import threading\n",
        "\n",
        "def print_squares():\n",
        "    for i in range(1, 11):\n",
        "        print(f\"{i} squared is {i*i}\")\n",
        "\n",
        "def print_cubes():\n",
        "    for i in range(1, 11):\n",
        "        print(f\"{i} cubed is {i*i*i}\")\n",
        "\n",
        "if __name__ == \"__main__\":\n",
        "    t1 = threading.Thread(target=print_squares)\n",
        "    t2 = threading.Thread(target=print_cubes)\n",
        "    t1.start()\n",
        "    t2.start()\n",
        "    t1.join()\n",
        "    t2.join()\n"
      ]
    },
    {
      "cell_type": "markdown",
      "source": [
        "### 5). State advantages and disadvantages of multithreading.\n",
        "* ADVENTAGES OF MULTITHREADING ...\n",
        "1. Responsiveness\n",
        "2. Resource Sharing\n",
        "3. Economy\n",
        "4. Scalability\n",
        "5. Better Communication\n",
        "6. Utilization of multiprocessor architecture\n",
        "7. Minimized system resource usage\n",
        "\n",
        "* DISADVENTAGES OF MULTITHREADING ... \n",
        "1. It needs more careful synchronization.\n",
        "2. It can consume a large space of stocks of blocked threads.\n",
        "3. It needs support for thread or process.\n",
        "4. If a parent process has several threads for proper process functioning, the child processes should also be multithreaded because they may be required.\n",
        "5. It imposes context switching overhead."
      ],
      "metadata": {
        "id": "8sud7fcZ1QH7"
      }
    },
    {
      "cell_type": "markdown",
      "source": [
        "### 6. Explain deadlocks and race conditions.\n",
        "When two processes are waiting for each other directly or indirectly, it is called deadlock.\n",
        "\n",
        "This usually occurs when two processes are waiting for shared resources acquired by others. For example, If thread T1 acquired resource R1 and it also needs resource R2 for it to accomplish its task. But the resource R2 is acquired by thread T2 which is waiting for resource R1(which is acquired by T1).. Neither of them will be able to accomplish its task, as they keep waiting for the other resources they need.\n",
        "\n",
        "When two processes are competing with each other causing data corruption is called race condition .\n",
        "For example, if two processes/threads are trying to execute the following conditions simultaneously, they cause data corruption:\n",
        "\n",
        "Thread 1:\n",
        "total = num1 + num2\n",
        "\n",
        "Thread 2:\n",
        "total = num1 - num2"
      ],
      "metadata": {
        "id": "O3SZEt9D3D4Q"
      }
    },
    {
      "cell_type": "code",
      "source": [],
      "metadata": {
        "id": "CtDpTpry1BDV"
      },
      "execution_count": null,
      "outputs": []
    }
  ]
}