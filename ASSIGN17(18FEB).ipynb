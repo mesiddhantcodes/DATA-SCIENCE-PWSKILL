{
  "nbformat": 4,
  "nbformat_minor": 0,
  "metadata": {
    "colab": {
      "provenance": [],
      "authorship_tag": "ABX9TyOL5dRCIWW8hIrySUaSMe3t",
      "include_colab_link": true
    },
    "kernelspec": {
      "name": "python3",
      "display_name": "Python 3"
    },
    "language_info": {
      "name": "python"
    }
  },
  "cells": [
    {
      "cell_type": "markdown",
      "metadata": {
        "id": "view-in-github",
        "colab_type": "text"
      },
      "source": [
        "<a href=\"https://colab.research.google.com/github/tanishqacodes/DATA-SCIENCE-MASTERS/blob/main/18_FEB_ASS.ipynb\" target=\"_parent\"><img src=\"https://colab.research.google.com/assets/colab-badge.svg\" alt=\"Open In Colab\"/></a>"
      ]
    },
    {
      "cell_type": "markdown",
      "source": [
        "### Q1. What is an API? Give an example, where an API is used in real life.\n",
        "An API is a communication interface that allows two separate software components to share data. An API operates as a bridge between internal and external software operations, allowing for a fluid interchange of data that frequently passes undetected by the end-user. \n",
        "* Weather Snippets\n",
        "* Log-in Using XYZ\n",
        "* Pay with PayPal\n",
        "* Twitter Bots\n",
        "* Travel Booking\n",
        "* Google Maps\n",
        "* Okta\n"
      ],
      "metadata": {
        "id": "l6ScYe_yZ9nH"
      }
    },
    {
      "cell_type": "markdown",
      "source": [
        "### Q2. Give advantages and disadvantages of using API.\n",
        "* ADVANTAGES -- \n",
        "1. Increased Visibility and Traffic :- First, it allows you to share your data and functionality with a broader audience, increasing traffic and visibility for your website or app.\n",
        "\n",
        "2. Seamless Integration :- It makes it easy to integrate with other applications and services, saving you time and money.\n",
        "\n",
        "3. Increased Efficiency :- It allows you to access data and functionality without navigating multiple menus or screens. This can speed up the development process and make your app or website more user-friendly.\n",
        "\n",
        "4. Easier Maintenance :- It reduces the amount of work needed on the back-end, making maintenance and updates more effortless and less time-consuming.\n",
        "\n",
        "5. Reduced Costs :- It allows developers to reuse code and functionality in multiple applications, saving time and money.\n",
        "\n",
        "6. Improved Customer Experience :- It makes it easier for users to access your data and functionality across multiple devices or platforms, improving the user experience and increasing customer satisfaction.\n",
        "\n",
        "* DISADVANTAGES --\n",
        "1. Increased Complexity :-  they can be complex and challenging to use, making them challenging for novice developers.\n",
        "\n",
        "2. Limited Functionality :- They may not have all the functionality you need, requiring additional development work.\n",
        "\n",
        "3. Dependency on Third Party Services :- If it depends on a third-party service, your application will also be unavailable.\n",
        "\n",
        "4. Security and Privacy Risks :- They can pose security and privacy risks if they’re not implemented correctly. Therefore, it’s essential to carefully consider these risks before using them in your application.| "
      ],
      "metadata": {
        "id": "MJS7WpeOawLV"
      }
    },
    {
      "cell_type": "markdown",
      "source": [
        "### Q3. What is a Web API? Differentiate between API and Web API.\n",
        "* A web API is an application programming interface for either a web server or a web browser. It is a web development concept, usually limited to a web application's client-side (including any web frameworks being used), and thus usually does not include web server or browser implementation details such as SAPIs or APIs unless publicly accessible by a remote web application.\n",
        "\n",
        "* Both APIs and web API are technologies that enable the transfer of data between separate software applications. API is an interface that exposes an application's data to outside software, whereas web applications are one type of API with stricter requirements. These requirements include network communication, SOAP as the primary protocol, and less accessibility for the public. \n",
        "\n",
        "|API | WEB API|\n",
        "|-|-|\n",
        "|All APIs are not web services.|Every web services are API.|\n",
        "|It supports both XML and JSON|It supports only XML.|\n",
        "|It uses all styles of communication.|It uses only three communications styles XML-RPC, SOAP, and REST.| \n",
        "|It supports HTTP/ HTTPS protocol and request & response headers of URL.|It supports only the HTTP protocol.|"
      ],
      "metadata": {
        "id": "E9WpetoSchzB"
      }
    },
    {
      "cell_type": "markdown",
      "source": [
        "### Q4. Explain REST and SOAP Architecture. Mention shortcomings of SOAP.\n",
        "\n",
        "* RESTful :- \n",
        "This is probably the most common type, and it uses standard web protocols like HTML, XML, and JSON. It’s easy to use, and plenty of libraries are available to help you get started.\n",
        "\n",
        "* SOAP :- \n",
        "SOAP uses the Simple Object Access Protocol (SOAP), allowing applications to communicate using XML messages. They’re not as common as RESTful, but they offer more features and functionality.\n",
        "\n",
        "* SHORTCOMING OF SOAP :- \n",
        "1. As SOAP can only transfer messages as XML files, your SOAP API will be less performant, as XML is a verbose format compared to JSON. API calls made to your server will need more bandwidth and it will take more time to process the request and transfer the response back to the client.\n",
        "\n",
        "2. In SOAP, the client-server communication depends on WSDL (Web Service Description Language) contracts, which implies tight coupling. Therefore, it’s not recommended for loosely coupled applications as you can’t opt out of using a contract between the client and the server."
      ],
      "metadata": {
        "id": "vU6OvOS_fB8x"
      }
    },
    {
      "cell_type": "markdown",
      "source": [
        "### Q5. Differentiate between REST and SOAP.\n",
        "|SOAP API | REST API|\n",
        "|-|-|\n",
        "|Relies on SOAP (Simple Object Access Protocol)|Relies on REST (Representational State Transfer) architecture using HTTP.|\n",
        "|Transports data in standard XML format.|Generally transports data in JSON. It is based on URI. Because REST follows stateless model, REST does not enforces message format as XML or JSON etc.|\n",
        "|Because it is XML based and relies on SOAP, it works with WSDL|It works with GET, POST, PUT, DELETE| \n",
        "|Works over HTTP, HTTPS, SMTP, XMPP|Works over HTTP and HTTPS|\n",
        "|Highly structured/typed|Less structured -> less bulky data|\n",
        "|Designed with large enterprise applications in mind|Designed with mobile devices in mind|"
      ],
      "metadata": {
        "id": "kJyYv8I7fNV9"
      }
    },
    {
      "cell_type": "code",
      "source": [],
      "metadata": {
        "id": "_rFqZWjqavd2"
      },
      "execution_count": null,
      "outputs": []
    }
  ]
}