{
  "nbformat": 4,
  "nbformat_minor": 0,
  "metadata": {
    "colab": {
      "provenance": [],
      "authorship_tag": "ABX9TyOgV576fbg9b8kq4OML4UF1",
      "include_colab_link": true
    },
    "kernelspec": {
      "name": "python3",
      "display_name": "Python 3"
    },
    "language_info": {
      "name": "python"
    }
  },
  "cells": [
    {
      "cell_type": "markdown",
      "metadata": {
        "id": "view-in-github",
        "colab_type": "text"
      },
      "source": [
        "<a href=\"https://colab.research.google.com/github/tanishqacodes/DATA-SCIENCE-MASTERS/blob/main/16_FEB_ASS.ipynb\" target=\"_parent\"><img src=\"https://colab.research.google.com/assets/colab-badge.svg\" alt=\"Open In Colab\"/></a>"
      ]
    },
    {
      "cell_type": "markdown",
      "source": [
        "### Q1. What is a database? Differentiate between SQL and NoSQL databases.\n",
        "A database is information that is set up for easy access, management and updating. Databases are used for storing, maintaining and accessing any sort of data. They collect information on people, places or things. That information is gathered in one place so that it can be observed and analyzed. Databases can be thought of as an organized collection of information.\n",
        "\n",
        "--------------------------------------------------------------------------------\n",
        "\n",
        "* DIFFERNECE BETWEEN SQL AND NO-SQL\n",
        "\n",
        "|SQL | NO-SQL|\n",
        "|-|-|\n",
        "|RELATIONAL DATABASE MANAGEMENT SYSTEM (RDBMS)|Non-relational or distributed database system.|\n",
        "|These databases have fixed or static or predefined schema|They have dynamic schema|\n",
        "|These databases are not suited for hierarchical data storage.|These databases are best suited for hierarchical data storage.| \n",
        "|These databases are best suited for complex queries|These databases are not so good for complex queries|\n",
        "|Vertically Scalable|Horizontally scalable|\n",
        "|Follows ACID property|Follows CAP(consistency, availability, partition tolerance)|\n",
        "|Examples: MySQL, PostgreSQL, Oracle, MS-SQL Server, etc|\tExamples: MongoDB, GraphQL, HBase, Neo4j, Cassandra, etc|"
      ],
      "metadata": {
        "id": "TXh5AzFaEel6"
      }
    },
    {
      "cell_type": "markdown",
      "source": [
        "### Q2. What is DDL? Explain why CREATE, DROP, ALTER, and TRUNCATE are used with an example.\n",
        " It is a language for describing data and its relationships in a database. You can generate DDL in a script for database objects to: Keep a snapshot of the database structure. Set up a test system where the database acts like the production system but contains no data.\n",
        "\n",
        " -------------------------------------------------------------------------------\n",
        " \n",
        " * CREATE : create table in database\n",
        "```\n",
        "CREATE TABLE Student (\n",
        "    StudendId int,\n",
        "    LastName varchar(255),\n",
        "    FirstName varchar(255),\n",
        "    Address varchar(255),\n",
        "    Mark int\n",
        ");\n",
        "```\n",
        " * DROP : delete a particular table\n",
        "```\n",
        "DROP TABLE Student;\n",
        "```\n",
        " * ALTER : makes changes in the structure of the table.\n",
        "```\n",
        "ALTER TABLE Student\n",
        "ADD Total int;\n",
        "```\n",
        " * TRUNCATE : empties a table completely. \n",
        "```\n",
        "TRUNCATE TABLE  Student;\n",
        "```\n",
        "\n",
        "\n"
      ],
      "metadata": {
        "id": "KdK_4Bp6HKCN"
      }
    },
    {
      "cell_type": "markdown",
      "source": [
        "### Q3. What is DML? Explain INSERT, UPDATE, and DELETE with an example.\n",
        "The data manipulation language statements are used to retrieve, add, delete, and modify the data that is stored in the objects of database. The keywords or statements that are associated with the data manipulation language are: SELECT INSERT, UPDATE and DELETE. These are the primary statements of data manipulation language (DML) and are used widely.\n",
        "\n",
        "*   INSERT :  insert a new row in the database that is adding data to a table.\n",
        "```\n",
        "INSERT INTO Student (StudendId, FirstName, LastName)\n",
        "VALUES (12345, \"Sri\", \"Durga\");\n",
        "```\n",
        "*   UPDATE : used to update the data or row in the table.\n",
        "```\n",
        "UPDATE Student\n",
        "SET FirstName = \"Navin\" , LastName = \"Kumar\"\n",
        "WHERE StudentId=12345;\n",
        "```\n",
        "*   DELETE : used to delete a row from the table in the database.\n",
        "```\n",
        "DELETE FROM Student WHERE StudentId=12345;\n",
        "```\n",
        "\n"
      ],
      "metadata": {
        "id": "mTUJXNOmARbd"
      }
    },
    {
      "cell_type": "markdown",
      "source": [
        "### Q4. What is DQL? Explain SELECT with an example.\n",
        "DQL or data query language is to perform the query on the data inside the schema or object (ie table, index, view, function, etc). With the help of a DQL query, we can get the data from the database to perform actions or operations like analyzing the data. \n",
        "\n",
        "* SELECT : SQL SELECT a query on a table or tables to view the temporary table output from the database.\n",
        "```\n",
        "Select * from Student;\n",
        "```\n",
        "\n"
      ],
      "metadata": {
        "id": "osOFkMM3BIIn"
      }
    },
    {
      "cell_type": "markdown",
      "source": [
        "### Q5. Explain Primary Key and Foreign Key.\n",
        "* PRIMARY KEY : A primary key is a column or a set of columns in a table whose values uniquely identify a row in the table. A relational database is designed to enforce the uniqueness of primary keys by allowing only one row with a given primary key value in a table.\n",
        "\n",
        "* FOREIGN KEY : A foreign key is a column or a set of columns in a table whose values correspond to the values of the primary key in another table. In order to add a row with a given foreign key value, there must exist a row in the related table with the same primary key value."
      ],
      "metadata": {
        "id": "WQsD0qW7Ds4x"
      }
    },
    {
      "cell_type": "markdown",
      "source": [
        "### Q6. Write a python code to connect MySQL to python. Explain the cursor() and execute() method.\n",
        "\n",
        "\n",
        "```\n",
        "import mysql.connector\n",
        "# import mysql.connector\n",
        "#create user 'user'@'%' identified by 'password'\n",
        "mydb = mysql.connector.connect(\n",
        "  host=\"localhost\",\n",
        "  user=\"abc\",\n",
        "  password=\"password\"\n",
        ")\n",
        "print(mydb)\n",
        "mycursor = mydb.cursor()\n",
        "mycursor.execute(\"SHOW DATABASES\")\n",
        "for x in mycursor:\n",
        "  print(x)\n",
        "```\n",
        "* CURSOR() : The MySQLCursor of mysql-connector-python (and similar libraries) is used to execute statements to communicate with the MySQL database.\n",
        "Using the methods of it you can execute SQL statements, fetch data from the result sets, call procedures.\n",
        "\n",
        "* EXCUTE() : This method executes the given database operation (query or command). The parameters found in the tuple or dictionary params are bound to the variables in the operation. Specify variables using %s or %(name)s parameter style (that is, using format or pyformat style). execute() returns an iterator if multi is True.\n",
        "\n"
      ],
      "metadata": {
        "id": "DmImErdAECHY"
      }
    },
    {
      "cell_type": "markdown",
      "source": [
        "### Q7. Give the order of execution of SQL clauses in an SQL query.\n",
        "1. FROM/JOIN: The FROM and/or JOIN clauses are executed first to determine the data of interest.\n",
        "\n",
        "2. WHERE: The WHERE clause is executed to filter out records that do not meet the constraints.\n",
        "\n",
        "3. GROUP BY: The GROUP BY clause is executed to group the data based on the values in one or more columns.\n",
        "\n",
        "4. HAVING: The HAVING clause is executed to remove the created grouped records that don’t meet the constraints.\n",
        "\n",
        "5. SELECT: The SELECT clause is executed to derive all desired columns and expressions.\n",
        "\n",
        "6. ORDER BY: The ORDER BY clause is executed to sort the derived values in ascending or descending order."
      ],
      "metadata": {
        "id": "NwCViWrsFSS0"
      }
    }
  ]
}