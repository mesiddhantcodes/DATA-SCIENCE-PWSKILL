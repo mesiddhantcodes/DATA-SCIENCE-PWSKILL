{
  "nbformat": 4,
  "nbformat_minor": 0,
  "metadata": {
    "colab": {
      "provenance": []
    },
    "kernelspec": {
      "name": "python3",
      "display_name": "Python 3"
    },
    "language_info": {
      "name": "python"
    }
  },
  "cells": [
    {
      "cell_type": "markdown",
      "source": [
        "# Assignment : 15(16th Feb'2023)"
      ],
      "metadata": {
        "id": "LCdycYleFcnp"
      }
    },
    {
      "cell_type": "markdown",
      "source": [
        "1. A database is an **organized collection** of data that is stored and managed using specialized software. Databases are designed to provide efficient and reliable ways to **store, retrieve, and manipulate data.**\n",
        "\n",
        "  **SQL** (Structured Query Language) and NoSQL (Not only SQL) are two main types of databases that differ in their data models, schema, query language, and usage.\n",
        "\n",
        "  SQL databases are relational databases that store data in tables with fixed columns and rows. The schema is predefined and requires a strict structure that allows for the data to be organized in a structured way, ensuring consistency, data integrity, and data relationships. SQL databases are widely used in enterprise applications where data is structured and relationships are well defined. The most popular SQL databases are **MySQL**, **Oracle**, and **SQL Server.**\n",
        "\n",
        "  **NoSQL** databases, on the other hand, are non-relational databases that store data in a flexible and dynamic way. The data is stored in a document, graph, or key-value format, and the schema is flexible, allowing for changes in the data structure without the need to modify the schema. NoSQL databases are well suited for handling large amounts of unstructured data and for applications that require high scalability and performance. Some examples of NoSQL databases are **MongoDB, Cassandra, and Redis .**\n",
        "\n",
        "  In summary, SQL databases are well suited for applications that have structured data and require data consistency, while NoSQL databases are better suited for applications that handle unstructured data and require scalability and performance."
      ],
      "metadata": {
        "id": "ytsV_F-nFjTK"
      }
    },
    {
      "cell_type": "markdown",
      "source": [
        "2. **DDL** stands for **Data Definition Language**, which is a set of SQL statements used to define the database schema, such as creating, altering, and dropping database objects such as tables, views, indexes, and procedures."
      ],
      "metadata": {
        "id": "AROXxD9fAtwe"
      }
    },
    {
      "cell_type": "markdown",
      "source": [
        "* **`CREATE ` :** It is used to create a new database object such as a table, view, or index. For example, to create a new table named \"customers\" in a database, the following SQL statement can be used :\n",
        "```\n",
        "CREATE TABLE customers (id INT PRIMARY KEY, name VARCHAR(50), email VARCHAR(100), phone VARCHAR(20));\n",
        "```\n",
        "This will create a new table named \"customers\" with four columns: id, name, email, and phone."
      ],
      "metadata": {
        "id": "-f1IApYdBMA-"
      }
    },
    {
      "cell_type": "markdown",
      "source": [
        "* **`DROP` :** It is used to remove an existing database object such as a table or view. For example, to drop the \"customers\" table created above, the following SQL statement can be used :\n",
        "\n",
        "  ```\n",
        "  DROP TABLE customers;\n",
        "  ```\n",
        "  This will drop the \"customers\" table from the database."
      ],
      "metadata": {
        "id": "aR_-fwK0Bka4"
      }
    },
    {
      "cell_type": "markdown",
      "source": [
        "* **`ALTER` :**It is used to modify an existing database object such as a table or view. For example, to add a new column \"address\" to the \"customers\" table created above, the following SQL statement can be used :\n",
        "\n",
        "  ```\n",
        "  ALTER TABLE customers\n",
        "  ADD address VARCHAR(100);\n",
        "\n",
        "  ```\n",
        "  This will add a new column \"address\" to the \"customers\" table."
      ],
      "metadata": {
        "id": "mVUkIiq_B_40"
      }
    },
    {
      "cell_type": "markdown",
      "source": [
        "* **`TRUNCATE` :** It is used to remove all rows from a table without removing the table structure itself. For example, to remove all data from the \"customers\" table created above, the following SQL statement can be used :\n",
        "\n",
        "  ```\n",
        "  TRUNCATE TABLE customers;\n",
        "\n",
        "  ```\n",
        "  This will remove all data from the \"customers\" table, but the table structure will remain intact.\n",
        "\n",
        "  **NOTE :** DDL statements are used to create, modify, and delete database objects, and they are essential for defining the database schema and managing database structures."
      ],
      "metadata": {
        "id": "EKQrlhwDCXWT"
      }
    },
    {
      "cell_type": "markdown",
      "source": [
        "3. **DML** stands for **Data Manipulation Language**, which is a subset of SQL used to insert, update, and delete data in a database.\n",
        "\n",
        "  DML statements are used to manipulate data in a database, and they are essential for adding, updating, and deleting data in a database."
      ],
      "metadata": {
        "id": "tNz_jy_LCtWb"
      }
    },
    {
      "cell_type": "markdown",
      "source": [
        "* **`INSERT` :** It is used to insert new data into a table. For example, to insert a new record into the \"customers\" table with values for the id, name, email, and phone columns, the following SQL statement can be used :\n",
        "\n",
        "  ```\n",
        "  INSERT INTO customers (id, name, email, phone)\n",
        "  VALUES (1, 'John Doe', 'johndoe@example.com', '123-456-7890');\n",
        "  ```"
      ],
      "metadata": {
        "id": "VhIVZQsJDIxx"
      }
    },
    {
      "cell_type": "markdown",
      "source": [
        "* **`UPDATE` :** It is used to update existing data in a table. For example, to update the phone number for the record with id 1 in the \"`customers`\" table, the following SQL statement can be used :\n",
        "\n",
        "  ```\n",
        "  UPDATE customers\n",
        "  SET phone = '555-555-5555'\n",
        "  WHERE id = 1;\n",
        "  ```"
      ],
      "metadata": {
        "id": "lxgN2u4tDaG_"
      }
    },
    {
      "cell_type": "markdown",
      "source": [
        "* **`DELETE` :** It is used to delete data from a table. For example, to delete the record with id 1 from the \"customers\" table, the following SQL statement can be used :\n",
        "\n",
        "  ```\n",
        "  DELETE FROM customers\n",
        "  WHERE id = 1;\n",
        "  ```"
      ],
      "metadata": {
        "id": "wichT_D4DnRm"
      }
    },
    {
      "cell_type": "markdown",
      "source": [
        "  4. **DQL** stands for **Data Query Language**, which is a subset of SQL used to query data from a database.\n",
        "\n",
        "  SELECT statement is used to retrieve data from one or more tables in a database, and it is essential for querying data and generating reports from a database."
      ],
      "metadata": {
        "id": "3wt4kmfuDxSU"
      }
    },
    {
      "cell_type": "markdown",
      "source": [
        "* **`SELECT` :** It is used to retrieve data from one or more tables in a database. The SELECT statement is used to specify the columns that should be retrieved and the table(s) from which to retrieve the data. For example, to retrieve all the data from the \"customers\" table, the following SQL statement can be used :\n",
        "\n",
        "  ```\n",
        "  SELECT * FROM customers;\n",
        "  ```\n",
        "  This will retrieve **all** the data from the \"`customers`\" table, including all the columns for each row.\n",
        "\n",
        "  ```\n",
        "  SELECT name, email FROM customers;\n",
        "  ```\n",
        "  This will retrieve only the name and email columns from the \"customers\" table."
      ],
      "metadata": {
        "id": "yRNSHD7HEFMQ"
      }
    },
    {
      "cell_type": "markdown",
      "source": [
        "* You can also use the **`WHERE`** clause to **filter** the data based on specific conditions.\n",
        "\n",
        "  ```\n",
        "  SELECT * FROM customers WHERE name = 'John Doe';\n",
        "\n",
        "  ```\n",
        "  This will retrieve only the data for customers with the name \"`John Doe`\" from the \"`customers`\" table."
      ],
      "metadata": {
        "id": "jDp2jKe8Ee0s"
      }
    },
    {
      "cell_type": "markdown",
      "source": [
        "5. In relational databases, a primary key and a foreign key are used to establish relationships between tables.\n",
        "\n",
        "  A primary key is used to uniquely identify each row in a table, and a foreign key is used to establish a link between two tables. Both keys are essential for maintaining data integrity in relational databases.\n",
        "\n",
        "* **`Primary Key` :** A primary key is a column or a combination of columns that uniquely identifies each row in a table. The primary key is used to enforce data integrity, and it must be unique and not null. A table can have only one primary key.\n",
        "\n",
        "  Consider a \"**customers**\" table with the following columns :\n",
        "\n",
        "  ```\n",
        "  id(Primary Key) | name | email | phone\n",
        "\n",
        "  ```\n",
        "\n",
        "  In this case, the \"`id`\" column can be designated as the primary key. This means that the \"`id`\" column will have a unique value for each row in the table, and it cannot be `null`."
      ],
      "metadata": {
        "id": "5GfgECp9FRov"
      }
    },
    {
      "cell_type": "markdown",
      "source": [
        "  * **`Foreign Key` :** A foreign key is a column or a combination of columns that is used to establish a link between two tables. The foreign key is used to maintain referential integrity, which ensures that the data between tables is consistent.\n",
        "\n",
        "  Consider a \"`orders`\" table with the following columns :\n",
        "\n",
        "  ``` \n",
        "  id(Primery Key) | customer_id | date(Foreign Key) | total \n",
        "  ```\n",
        "In this case, the \"`customer_id`\" column is a foreign key that references the \"`id`\" column in the \"customers\" table. This means that each row in the \"`orders`\" table will have a value in the \"`customer_id`\" column that matches a value in the \"`id`\" column of the \"`customers`\" table. This ensures that the data between the two tables is consistent, and it allows you to retrieve data from both tables using a join.\n"
      ],
      "metadata": {
        "id": "vKuf_arxGqOn"
      }
    },
    {
      "cell_type": "markdown",
      "source": [
        "6. Here's Python code that connects to a MySQL database using the mysql-connector-python module :\n",
        "  ```\n",
        "    import mysql.connector\n",
        "\n",
        "    mydb = mysql.connector.connect(\n",
        "        host=\"localhost\",\n",
        "        user=\"abc\",\n",
        "        password=\"password\",\n",
        "        database=\"test\"\n",
        "    )\n",
        "    mycursor = mydb.cursor()\n",
        "    mycursor.execute(\"SELECT * FROM customers\")\n",
        "\n",
        "    result = mycursor.fetchall()\n",
        "    for row in result:\n",
        "      print(row)\n",
        "\n",
        "  ```\n",
        "\n",
        "\n",
        "\n",
        "  \n",
        "  * The **`cursor()`** method creates a cursor object that allows us to execute SQL queries and fetch their results.\n",
        "  * The **`execute()`** method on the cursor object is used to execute SQL queries. It takes an SQL query string as its parameter.\n",
        "  * The **`fetchall()`** method on the cursor object is used to retrieve all of the results of a query. It returns a list of tuples, with each tuple representing a row of the result set.\n",
        "  "
      ],
      "metadata": {
        "id": "YV-nAIXJc2Tj"
      }
    },
    {
      "cell_type": "markdown",
      "source": [
        "7. Here's few of them that order of execution of clauses in an SQL query is as follows:\n",
        "\n",
        "* **`FROM` :** The FROM clause is the first clause that is executed. It specifies the tables from which data will be selected.\n",
        "\n",
        "* **`JOIN` :**If the query contains any JOIN clauses, they are executed after the FROM clause. JOIN clauses are used to combine rows from two or more tables based on a related column between them.\n",
        "\n",
        "* **`WHERE` :** The WHERE clause is executed after the FROM and JOIN clauses. It is used to filter the data based on a specific condition or set of conditions.\n",
        "\n",
        "* **`GROUP BY` :** If the query contains a GROUP BY clause, it is executed after the WHERE clause. It is used to group the data based on one or more columns.\n",
        "\n",
        "* **`HAVING` :** If the query contains a HAVING clause, it is executed after the GROUP BY clause. It is used to filter the grouped data based on a specific condition or set of conditions.\n",
        "\n",
        "* **`SELECT` :** The SELECT clause is executed after all the previous clauses have been executed. It is used to select the columns to be included in the result set.\n",
        "\n",
        "* **`DISTINCT` :** If the query contains a DISTINCT clause, it is executed after the SELECT clause. It is used to remove duplicate rows from the result set.\n",
        "\n",
        "* **`ORDER BY` :** If the query contains an ORDER BY clause, it is executed after the SELECT and DISTINCT clauses. It is used to sort the result set based on one or more columns.\n",
        "\n",
        "* **`LIMIT/OFFSET`:** If the query contains a LIMIT and/or OFFSET clause, they are executed last. The LIMIT clause is used to limit the number of rows returned by the query, while the OFFSET clause is used to skip a certain number of rows before starting to return rows.\n",
        "\n",
        "\n",
        "\n"
      ],
      "metadata": {
        "id": "Xsg0t9ioW2Yh"
      }
    }
  ]
}